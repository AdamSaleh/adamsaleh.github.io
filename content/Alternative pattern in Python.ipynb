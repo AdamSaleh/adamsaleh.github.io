{
 "cells": [
  {
   "cell_type": "markdown",
   "metadata": {},
   "source": [
    "# Lets\n",
    "\n"
   ]
  },
  {
   "cell_type": "code",
   "execution_count": 6,
   "metadata": {
    "collapsed": true
   },
   "outputs": [],
   "source": []
  },
  {
   "cell_type": "code",
   "execution_count": 7,
   "metadata": {},
   "outputs": [],
   "source": [
    "from functools import partial\n",
    "\n",
    "def curry(n, fn):\n",
    "    if n == 1:\n",
    "        return fn\n",
    "    if n == 2:\n",
    "        return lambda x:partial(fn,x)\n",
    "    else:\n",
    "        return lambda x:curry(n-1,partial(fn,x))\n",
    "    \n",
    "\n",
    "class Applicative:\n",
    "    def pure(self, val):\n",
    "        raise NotImplementedError();\n",
    "    \n",
    "    def apply(self, fn, val):\n",
    "        raise NotImplementedError();\n",
    "        \n",
    "    def lift(self, fn):\n",
    "        def lifted(arg0, *args):\n",
    "            result = self.apply(self.pure(curry(len(args)+1, fn)),arg0)\n",
    "            for a in args:\n",
    "                result = self.apply(result, a)\n",
    "            return result\n",
    "        return lifted"
   ]
  },
  {
   "cell_type": "code",
   "execution_count": 8,
   "metadata": {
    "collapsed": true
   },
   "outputs": [],
   "source": [
    "class Parser:\n",
    "\n",
    "def parse_symbol(symbol):\n",
    "    def parse(symbols):\n",
    "        if len(symbols) > 0 and symbol == symbols[0]:\n",
    "            return [(symbol,symbols[1:])]\n",
    "        else:\n",
    "            return []\n",
    "    return parse\n",
    "\n",
    "def pure(token):\n",
    "    def parse(symbols):\n",
    "        return [(token,symbols)]\n",
    "    return parse\n",
    "\n",
    "def fail():\n",
    "    def parse(symbols):\n",
    "        return []\n",
    "    return parse"
   ]
  },
  {
   "cell_type": "code",
   "execution_count": null,
   "metadata": {
    "collapsed": true
   },
   "outputs": [],
   "source": [
    "class ApplyParsing(Applicative):\n",
    "    def pure(self, val):\n",
    "        return val\n",
    "\n",
    "    def apply(self, lfn,lx):\n",
    "        if lfn!=None and lx!=None:\n",
    "            return lfn(lx)\n",
    "        return None\n"
   ]
  }
 ],
 "metadata": {
  "kernelspec": {
   "display_name": "Python 3",
   "language": "python",
   "name": "python3"
  },
  "language_info": {
   "codemirror_mode": {
    "name": "ipython",
    "version": 3
   },
   "file_extension": ".py",
   "mimetype": "text/x-python",
   "name": "python",
   "nbconvert_exporter": "python",
   "pygments_lexer": "ipython3",
   "version": "3.5.1"
  }
 },
 "nbformat": 4,
 "nbformat_minor": 2
}
