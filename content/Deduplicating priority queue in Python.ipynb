{
 "cells": [
  {
   "cell_type": "markdown",
   "metadata": {},
   "source": [
    "# Writing a priority queue in Python?\n",
    "\n",
    "Today, I was talking with a friend of mine, about an interesting problem. They created an internal service to view aggregate data from several backend systems. (At least that is how I understood it.) Their idea was to have several threads that would poll the backends for data and cache them in an internal database, and in case of cache miss on i.e. a page view of something that hasn't been refreshed yet, they would fetch it right-away (because user probably wouldn't want to wait 3 to 5 minutes for the background cache update to finish).\n",
    "\n",
    "Because they wanted to have unified update interface, they do the background update with a priority queue. If the cache miss happens, just add a high priority request on the top of the queue, and it would be refreshed asap. And the updating would be nice and organized this way.\n",
    "\n",
    "I imagine their \"update request\" looks something like this:"
   ]
  },
  {
   "cell_type": "code",
   "execution_count": 1,
   "metadata": {
    "collapsed": true
   },
   "outputs": [],
   "source": [
    "class Update:\n",
    "    count = 0\n",
    "    def __init__(self, priority, entity):\n",
    "        Update.count+=1\n",
    "        self._number=Update.count\n",
    "        self._priority=priority\n",
    "        self._entity=entity\n",
    "        \n",
    "    def __repr__(self):\n",
    "        return \"%s_%s_%s\" % (self._priority, self._number,self._entity.__repr__())\n",
    "    \n",
    "    def __hash__(self):\n",
    "        return self._number;\n",
    "    \n",
    "    def __str__(self):\n",
    "        return self._entity.__str__()\n",
    "    \n",
    "    def __lt__(self,other):\n",
    "        return (self._priority,self._number) < (other._priority,other._number)\n",
    "    \n",
    "    def __eq__(self,other):\n",
    "        return (self._priority,self._number) == (other._priority,other._number)"
   ]
  },
  {
   "cell_type": "markdown",
   "metadata": {},
   "source": [
    "But there was one problem with this afterwards. It could now happen that a request for the same entity would be pushed into the queue several times and this would put strain on the system. Mostly on the memory, if I recall correctly?\n",
    "\n",
    "Basically the problem from their part might look like this (if we imagine a priority queue, where lowest goes first):"
   ]
  },
  {
   "cell_type": "code",
   "execution_count": 7,
   "metadata": {
    "collapsed": false
   },
   "outputs": [
    {
     "data": {
      "text/plain": [
       "['Update entity 2',\n",
       " 'Update entity 2',\n",
       " 'Update entity 1',\n",
       " 'Update entity 2',\n",
       " 'Update entity 3',\n",
       " 'Update entity 4',\n",
       " 'Update entity 5']"
      ]
     },
     "execution_count": 7,
     "metadata": {},
     "output_type": "execute_result"
    }
   ],
   "source": [
    "from queue import Queue, PriorityQueue\n",
    "\n",
    "q = PriorityQueue()\n",
    "q.put(Update(10,\"Update entity 1\"))\n",
    "q.put(Update(10,\"Update entity 2\"))\n",
    "q.put(Update(10,\"Update entity 3\"))\n",
    "q.put(Update(10,\"Update entity 4\"))\n",
    "q.put(Update(1, \"Update entity 2\"))\n",
    "q.put(Update(10,\"Update entity 5\"))\n",
    "q.put(Update(1, \"Update entity 2\"))\n",
    "\n",
    "\n",
    "def getAll(q):\n",
    "    while not q.empty():\n",
    "        yield q.get_nowait()\n",
    "        \n",
    "def putAll(q, items):\n",
    "    for i in items:\n",
    "        q.put(i)\n",
    "    return q\n",
    "\n",
    "def pipeThrough(q,items):\n",
    "    return list(getAll(putAll(q,items)))\n",
    "        \n",
    "[str(x) for x in getAll(q)]"
   ]
  },
  {
   "cell_type": "markdown",
   "metadata": {},
   "source": [
    "This would result in execution of \n",
    "```\n",
    "[\"Update entity 2\",\"Update entity 2\",\"Update entity 1\",\"Update entity 2\",\"Update entity 3\",\"Update entity 4\",\"Update entity 5\"]\n",
    "```\n",
    "\n",
    "but what they would like to see is only execution of:\n",
    "\n",
    "```\n",
    "[\"Update entity 2\",\"Update entity 1\",\"Update entity 3\",\"Update entity 4\",\"Update entity 5\"]\n",
    "```\n",
    "\n",
    "I thought to myself, \"hey, this might be fun to play around with\" and tried to do this:"
   ]
  },
  {
   "cell_type": "code",
   "execution_count": 3,
   "metadata": {
    "collapsed": false
   },
   "outputs": [],
   "source": [
    "from blist import sorteddict\n",
    "\n",
    "class PriorityDeduplicatedQueue(Queue):\n",
    "    def _init(self,maxsize):\n",
    "        self.que=sorteddict()\n",
    "        self.items={}\n",
    "        self.equalityMetric = lambda x:x\n",
    "    \n",
    "    def setEqualityMetric(self, newEqualityMetric):\n",
    "        self.equalityMetric=newEqualityMetric\n",
    "    \n",
    "    def _put(self,prioritizedItem):\n",
    "        item = self.equalityMetric(prioritizedItem)\n",
    "        if item in self.items:\n",
    "            oldPrioritizedItem = self.items[item]\n",
    "            if oldPrioritizedItem > prioritizedItem:\n",
    "                del self.que[oldPrioritizedItem]\n",
    "                self.que[prioritizedItem] = item\n",
    "                self.items[item] = prioritizedItem\n",
    "        else: \n",
    "            self.que[prioritizedItem] = item\n",
    "            self.items[item] = prioritizedItem\n",
    "        \n",
    "    def _get(self):\n",
    "        key, item = self.que.popitem()\n",
    "        del self.items[item]\n",
    "        return key\n",
    "    \n",
    "    def _qsize(self):\n",
    "        return len(self.items)"
   ]
  },
  {
   "cell_type": "markdown",
   "metadata": {},
   "source": [
    "Core of this is the sorteddict, from blist package, which provides me with a data-structure that is\n",
    "* sorted and has popitem, making it a decent heap\n",
    "* supports fast removal of keys\n"
   ]
  },
  {
   "cell_type": "markdown",
   "metadata": {},
   "source": [
    "## Testing\n",
    "\n",
    "First, lets try, that this actually works:"
   ]
  },
  {
   "cell_type": "code",
   "execution_count": 4,
   "metadata": {
    "collapsed": false
   },
   "outputs": [
    {
     "data": {
      "text/plain": [
       "['Update entity 2',\n",
       " 'Update entity 2',\n",
       " 'Update entity 1',\n",
       " 'Update entity 2',\n",
       " 'Update entity 3',\n",
       " 'Update entity 4',\n",
       " 'Update entity 5']"
      ]
     },
     "execution_count": 4,
     "metadata": {},
     "output_type": "execute_result"
    }
   ],
   "source": [
    "q = PriorityDeduplicatedQueue()\n",
    "q.put(Update(10,\"Update entity 1\"))\n",
    "q.put(Update(10,\"Update entity 2\"))\n",
    "q.put(Update(10,\"Update entity 3\"))\n",
    "q.put(Update(10,\"Update entity 4\"))\n",
    "q.put(Update(1, \"Update entity 2\"))\n",
    "q.put(Update(10,\"Update entity 5\"))\n",
    "q.put(Update(1, \"Update entity 2\"))\n",
    "        \n",
    "[str(x) for x in getAll(q)]"
   ]
  },
  {
   "cell_type": "code",
   "execution_count": 5,
   "metadata": {
    "collapsed": false
   },
   "outputs": [
    {
     "data": {
      "text/plain": [
       "['Update entity 2',\n",
       " 'Update entity 1',\n",
       " 'Update entity 3',\n",
       " 'Update entity 4',\n",
       " 'Update entity 5']"
      ]
     },
     "execution_count": 5,
     "metadata": {},
     "output_type": "execute_result"
    }
   ],
   "source": [
    "dq = PriorityDeduplicatedQueue()\n",
    "dq.setEqualityMetric(lambda x: x._entity)\n",
    "\n",
    "dq.put(Update(10,\"Update entity 1\"))\n",
    "dq.put(Update(10,\"Update entity 2\"))\n",
    "dq.put(Update(10,\"Update entity 3\"))\n",
    "dq.put(Update(10,\"Update entity 4\"))\n",
    "dq.put(Update(1, \"Update entity 2\"))\n",
    "dq.put(Update(10,\"Update entity 5\"))\n",
    "dq.put(Update(1, \"Update entity 2\"))\n",
    "        \n",
    "[str(x) for x in getAll(dq)]"
   ]
  },
  {
   "cell_type": "markdown",
   "metadata": {},
   "source": [
    "The result should look like the thing in the first paragraph:\n",
    "\n",
    "```\n",
    "['Update entity 2', 'Update entity 1', 'Update entity 3', 'Update entity 4', 'Update entity 5']\n",
    "```\n",
    "\n",
    "Now I would like to use property based testing framework from package 'hypothesis' to verify that my new queue works as intended.\n",
    "\n",
    "1. if I only push unique items, it should behave the same as 'queue.PriorityQueue'\n",
    "2. if I only push equal items with different priorities, queue size would allways be 1, with the smallest priority.\n",
    "3. if I push random items with some duplication to both deduplicated and standard priority queue and then put all of these items to two ordered sets, they should be equal."
   ]
  },
  {
   "cell_type": "markdown",
   "metadata": {
    "collapsed": true
   },
   "source": [
    "For the testing itself I will use the `pipeThrough` utility function that accepts a queue and iterable to fill that queue and returns a list.\n",
    "\n",
    "First I will define the test for the unique items:"
   ]
  },
  {
   "cell_type": "code",
   "execution_count": 34,
   "metadata": {
    "collapsed": false
   },
   "outputs": [],
   "source": [
    "from hypothesis import given, reject, note\n",
    "from hypothesis.strategies import integers, text, lists, tuples, binary, streaming, sampled_from\n",
    "\n",
    "hexadecimal = text(alphabet=\"0123456789abcdef\")\n",
    "uniqueItems = lists(elements=tuples(integers(-10,10),hexadecimal),average_size=20, unique_by=lambda x: x[1])\n",
    "@given(uniqueItems)\n",
    "def test1(setsToTest):\n",
    "    pq = PriorityQueue()\n",
    "    dq = PriorityDeduplicatedQueue()\n",
    "    assert pipeThrough(pq,setsToTest) == pipeThrough(dq,setsToTest),\\\n",
    "      \"Priority queue contained %s but deduplicated queue had %s\" % (qremaining,dqremaining)\n",
    "    \n",
    "test1()\n"
   ]
  },
  {
   "cell_type": "markdown",
   "metadata": {},
   "source": [
    "Now I will define the test for single item of different priorities.\n",
    "As I stated previously, there should be only 1 remainint item in queue, of the smallest priority "
   ]
  },
  {
   "cell_type": "code",
   "execution_count": 35,
   "metadata": {
    "collapsed": false
   },
   "outputs": [],
   "source": [
    "priorities = lists(elements=integers(),min_size=2)\n",
    "@given(priorities)\n",
    "def test2(p):\n",
    "    dq = PriorityDeduplicatedQueue()\n",
    "    dq.setEqualityMetric(lambda x: x._entity)\n",
    "    \n",
    "    result = pipeThrough(dq,(Update(x,\"entity\") for x in p))\n",
    "    assert len(result) == 1, \"There should only be one entry\"\n",
    "    assert result[0]._priority == min(p), \"It should have the smallest priority vlaue\"\n",
    "\n",
    "test2()"
   ]
  },
  {
   "cell_type": "code",
   "execution_count": null,
   "metadata": {
    "collapsed": true
   },
   "outputs": [],
   "source": [
    "Now I will define the test for single item of different priorities.\n",
    "As I stated previously, there should be only 1 remainint item in queue, of the smallest priority "
   ]
  },
  {
   "cell_type": "code",
   "execution_count": 33,
   "metadata": {
    "collapsed": false
   },
   "outputs": [],
   "source": [
    "entities = sampled_from(['Update entity 2',\n",
    " 'Update entity 1',\n",
    " 'Update entity 3',\n",
    " 'Update entity 4',\n",
    " 'Update entity 5'])\n",
    "\n",
    "items = lists(elements=tuples(integers(-10,10),entities),average_size=20, unique_by=lambda x: x[1])\n",
    "@given(items)\n",
    "def test3(i):\n",
    "    items = [Update(x,e) for x,e in i]\n",
    "    \n",
    "    pq = PriorityQueue()\n",
    "    dq = PriorityDeduplicatedQueue()\n",
    "    dq.setEqualityMetric(lambda x: x._entity)\n",
    "    \n",
    "    deduplicated =[k._entity for k in pipeThrough(dq,items)]\n",
    "    ordinary = pipeThrough(pq,items)\n",
    "    deduplicateOrdinary =[k for k in collections.OrderedDict([k._entity,0] for k in ordinary)]\n",
    "    assert deduplicated == deduplicateOrdinary, \\\n",
    "      \"Priority queue contained %s but deduplicated queue had %s\" % (deduplicateOrdinary,deduplicated)\n",
    "\n",
    "test3()"
   ]
  },
  {
   "cell_type": "markdown",
   "metadata": {},
   "source": [
    "Beware, that I cheated in my test-cases, `pipeThrough` first fills and then epties the whole que, and this is not really representative of the usuall usecase of Queue ... but if I ever create a package out of this, I will add more representative tests as well. Now I wonder if I can convince my friend to try my `PriorityDeduplicatedQueue` in his project :-)"
   ]
  }
 ],
 "metadata": {
  "kernelspec": {
   "display_name": "Python 3",
   "language": "python",
   "name": "python3"
  },
  "language_info": {
   "codemirror_mode": {
    "name": "ipython",
    "version": 3
   },
   "file_extension": ".py",
   "mimetype": "text/x-python",
   "name": "python",
   "nbconvert_exporter": "python",
   "pygments_lexer": "ipython3",
   "version": "3.5.1"
  }
 },
 "nbformat": 4,
 "nbformat_minor": 1
}
