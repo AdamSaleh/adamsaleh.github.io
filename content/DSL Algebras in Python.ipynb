{
 "cells": [
  {
   "cell_type": "markdown",
   "metadata": {
    "outputExpanded": false
   },
   "source": [
    "# What do I mean by DSL Algebra?\n",
    "\n",
    "When I say algebra, I don't think about implementing i.e. DSL for linear algebra in Python. I think about algebra in general as in \"a set of objects and a collection of operations on them\".\n",
    "\n",
    "I like algebras, when they are used in programming. Probably the most well-known is Relational Algebra. The object in Relational Algebra is a *relation*, with operations like *join*, *projection* and *union*. The nice thing about having something that works like an algebra is, that you always work with the same type of object, reusing the box of tools without breaking the flow.\n",
    "\n",
    "That is one of the reasons I like Pythons collections. Pythons sets and list actually have quite a nice algebra built around them.\n"
   ]
  },
  {
   "cell_type": "code",
   "execution_count": 2,
   "metadata": {
    "collapsed": true,
    "outputExpanded": false
   },
   "outputs": [
    {
     "data": {
      "text/plain": [
       "{1, 2, 3, 4, 5}"
      ]
     },
     "metadata": {},
     "execution_count": 2,
     "output_type": "execute_result"
    }
   ],
   "source": [
    "{1,2,3} | {3,4,5}"
   ]
  },
  {
   "cell_type": "code",
   "execution_count": 3,
   "metadata": {
    "collapsed": false,
    "outputExpanded": false
   },
   "source": [
    "{1,2,3} & {3,4,}"
   ],
   "outputs": [
    {
     "data": {
      "text/plain": [
       "{3}"
      ]
     },
     "metadata": {},
     "execution_count": 3,
     "output_type": "execute_result"
    }
   ]
  },
  {
   "cell_type": "code",
   "execution_count": 4,
   "metadata": {
    "collapsed": false,
    "outputExpanded": false
   },
   "source": [
    "{1,2,3} - {3,4,5}"
   ],
   "outputs": [
    {
     "data": {
      "text/plain": [
       "{1, 2}"
      ]
     },
     "metadata": {},
     "execution_count": 4,
     "output_type": "execute_result"
    }
   ]
  },
  {
   "cell_type": "markdown",
   "metadata": {
    "outputExpanded": false
   },
   "source": [
    "And what I really like is, that all the laws I remember about sets from discrete math still work. For example, with union as `|` and empty set as `set()`:"
   ]
  },
  {
   "cell_type": "code",
   "execution_count": 5,
   "metadata": {
    "collapsed": false,
    "outputExpanded": false
   },
   "source": [
    "a = {1,2,3}\n",
    "a == a|set()==set()|a\n"
   ],
   "outputs": [
    {
     "data": {
      "text/plain": [
       "True"
      ]
     },
     "metadata": {},
     "execution_count": 5,
     "output_type": "execute_result"
    }
   ]
  },
  {
   "cell_type": "code",
   "execution_count": 6,
   "metadata": {
    "collapsed": false,
    "outputExpanded": false
   },
   "source": [
    "b = {3,4,5}\n",
    "c = {5,6,7}\n",
    "(a | b) | c == a | (b | c)"
   ],
   "outputs": [
    {
     "data": {
      "text/plain": [
       "True"
      ]
     },
     "metadata": {},
     "execution_count": 6,
     "output_type": "execute_result"
    }
   ]
  },
  {
   "cell_type": "markdown",
   "metadata": {
    "outputExpanded": false
   },
   "source": [
    "My personal preference is to use these math-like operators over calling methods on objects, even though methpd calls would produce the same result, and often would be more efficient"
   ]
  },
  {
   "cell_type": "code",
   "execution_count": 7,
   "metadata": {
    "collapsed": false,
    "outputExpanded": false
   },
   "source": [
    "a = {1,2}\n",
    "a.add(3)\n",
    "a.add(4)\n",
    "a.remove(2)\n",
    "a == ({1,2} | {3} | {4}) - {2}"
   ],
   "outputs": [
    {
     "data": {
      "text/plain": [
       "True"
      ]
     },
     "metadata": {},
     "execution_count": 7,
     "output_type": "execute_result"
    }
   ]
  },
  {
   "cell_type": "markdown",
   "metadata": {
    "outputExpanded": false
   },
   "source": [
    "To be honest, I probably would write this code with method calls, because they are more readable than operators: "
   ]
  },
  {
   "cell_type": "code",
   "execution_count": 8,
   "metadata": {
    "collapsed": false,
    "outputExpanded": false
   },
   "source": [
    "a == {1,2,3}.union({3,4}).difference({2})"
   ],
   "outputs": [
    {
     "data": {
      "text/plain": [
       "True"
      ]
     },
     "metadata": {},
     "execution_count": 8,
     "output_type": "execute_result"
    }
   ]
  },
  {
   "cell_type": "markdown",
   "metadata": {
    "outputExpanded": false
   },
   "source": [
    "I don't really want to have operators everywhere, what I want is composability. Now-days we might call this *fluent* interface, but I want to go one step further, I want the interface to conform to predefined set of rules.\n",
    "\n",
    "This is what I mean when I say algebra:\n",
    "* interfaces I work with *compose* with each other, they interoperate well, they are *fluent*\n",
    "* the implementation is *lawful*, it conforms to predefined rules"
   ]
  },
  {
   "cell_type": "markdown",
   "metadata": {
    "outputExpanded": false
   },
   "source": [
    "By **dsl algebra** I mean two distinct, but related things:\n",
    "* making a dsl that forms an algebra\n",
    "* creating algebra that helps with creating dsl-s"
   ]
  },
  {
   "cell_type": "markdown",
   "metadata": {
    "outputExpanded": false
   },
   "source": [
    "# Why?\n",
    "\n",
    "So I have been watching too many talks from Scala conferences and reading too many posts from haskell enthusiasts.\n",
    "And now I envy them. Because I am mostly working with javascript and python and barely anybody even knows what `monad` *is*, while on the scala-side they are using co-free co-monads to implement cool, extensible DSLs.\n",
    "\n",
    "Ok, there is fantasy-land and Ramda, but last time my colleague was trying to show off Ramda to the rest of the team, he mostly got puzzled looks from the most of them. And there isn't much in Python.\n",
    "\nBut I still want to try all of those cool things I see in the typed functional languages."
   ]
  },
  {
   "cell_type": "markdown",
   "metadata": {
    "outputExpanded": false
   },
   "source": [
    "# Monoids are cool\n",
    "\n",
    "One of the most useful concept to use here is the one of a *monoid*. \n",
    "If we think of this as an interface that is implemented by a type *T*, it needs two things:\n",
    "* the *empty* element\n",
    "* the *append* operation, that takes any two T's and returns a new T\n",
    "\n",
    "There are two laws:\n",
    "* for any a of type T: append(a,empty) == append(empty,a) == a\n",
    "* for any a,b,c of type T: append(a,append(b,c)) == append(append(a,b),c)\n",
    "\n",
    "Now we have this interface, we can do cool things with this :)\n",
    "\n",
    "And by cool thigs, I mean going through [this presentation](https://www.youtube.com/watch?v=WsA7GtUQeB8) by Gabriel Gonzalez and translating the concepts from haskell to python :)\n",
    "\nIf you are not scared of Haskell, I really recomend that presentation. There is even a [souce for it](https://github.com/Gabriel439/slides/tree/master/lambdaconf/category)."
   ]
  },
  {
   "cell_type": "markdown",
   "metadata": {
    "outputExpanded": false
   },
   "source": [
    "Typeclasses present the first translation hiccup. In haskell you use these to signidy that a type conforms to some interface, similarily to Java/C# interfaces. Nice thing about this is, that you can define implementations for existing types. This makes them more similiar to C# extension methods, or Clojure protocols. Fortunately, we have single dispatch in Python to simulate this."
   ]
  },
  {
   "cell_type": "code",
   "execution_count": 9,
   "metadata": {
    "collapsed": false,
    "outputExpanded": false
   },
   "source": [
    "from functools import singledispatch\n",
    "@singledispatch\n",
    "def mempty(a):\n",
    "    raise Error(\"Not implemented for\" + a)\n",
    "\n",
    "@singledispatch\n",
    "def mappend(a, b):\n",
    "    raise Error(\"Not implemented for\" + a)"
   ],
   "outputs": []
  },
  {
   "cell_type": "code",
   "execution_count": 10,
   "metadata": {
    "collapsed": false,
    "outputExpanded": false
   },
   "source": [
    "@mempty.register(list)\n",
    "def _(a):\n",
    "    return []\n",
    "\n",
    "@mappend.register(list)\n",
    "def _(a,b):\n",
    "    return a + b"
   ],
   "outputs": []
  },
  {
   "cell_type": "code",
   "execution_count": 11,
   "metadata": {
    "collapsed": false,
    "outputExpanded": false
   },
   "source": [
    "mappend([1,2,3],[4,5,6])"
   ],
   "outputs": [
    {
     "data": {
      "text/plain": [
       "[1, 2, 3, 4, 5, 6]"
      ]
     },
     "metadata": {},
     "execution_count": 11,
     "output_type": "execute_result"
    }
   ]
  },
  {
   "cell_type": "code",
   "execution_count": 12,
   "metadata": {
    "collapsed": false,
    "outputExpanded": false
   },
   "source": [
    "@mempty.register(None.__class__)\n",
    "def _(a):\n",
    "    return None\n",
    "\n",
    "@mappend.register(None.__class__)\n",
    "def _(a,b):\n",
    "    return None"
   ],
   "outputs": []
  },
  {
   "cell_type": "code",
   "execution_count": 13,
   "metadata": {
    "collapsed": false,
    "outputExpanded": false
   },
   "source": [
    "mappend(None,None) == None"
   ],
   "outputs": [
    {
     "data": {
      "text/plain": [
       "True"
      ]
     },
     "metadata": {},
     "execution_count": 13,
     "output_type": "execute_result"
    }
   ]
  },
  {
   "cell_type": "markdown",
   "metadata": {
    "outputExpanded": false
   },
   "source": [
    "# Generic functions\n",
    "\nNow we can create a generic function that works on all monoids, such as mconcat, that takes a list and appends its contents."
   ]
  },
  {
   "cell_type": "code",
   "execution_count": 14,
   "metadata": {
    "collapsed": false,
    "outputExpanded": false
   },
   "source": [
    "def mconcat(l):\n",
    "    acc = l[0]\n",
    "    for x in l[1:]:\n",
    "        acc = mappend(acc,x)\n",
    "    return acc\n",
    "\nmconcat([[1,2],[3,4,5]])"
   ],
   "outputs": [
    {
     "data": {
      "text/plain": [
       "[1, 2, 3, 4, 5]"
      ]
     },
     "metadata": {},
     "execution_count": 14,
     "output_type": "execute_result"
    }
   ]
  },
  {
   "cell_type": "markdown",
   "metadata": {
    "outputExpanded": false
   },
   "source": [
    "As you can see, we have run into our first problem. In theory we should be able to do mconcat of an [] and get the mempty for the lists member type. But python doesn't have typed lists. Well, we see how far will this get us :)"
   ]
  },
  {
   "cell_type": "markdown",
   "metadata": {},
   "source": [
    "# Nesting\n",
    "\n",
    "Second thing we could do, is to try to nest these inside of other structures.\n",
    "For example, if you have n-tuple with monoids, you can prove, that the n-tuple is monoid. Well, in Python you can't implement the (), but there is algebraic thing that behavesnjuat like monoid without the mempty element, called semi-group, so lets talk about these instead :)"
   ]
  },
  {
   "cell_type": "code",
   "execution_count": 16,
   "metadata": {
    "collapsed": false
   },
   "source": [
    "\n",
    "@mappend.register((0,0).__class__)\n",
    "def _(a,b):\n",
    "    return tuple(mappend(i,j) for i,j in zip(a,b))"
   ],
   "outputs": []
  },
  {
   "cell_type": "code",
   "execution_count": 17,
   "metadata": {
    "collapsed": false
   },
   "source": [
    "mappend(([1,2,3],[10,11,12]),([4,5,6],[14,15]))"
   ],
   "outputs": [
    {
     "data": {
      "text/plain": [
       "([1, 2, 3, 4, 5, 6], [10, 11, 12, 14, 15])"
      ]
     },
     "metadata": {},
     "execution_count": 17,
     "output_type": "execute_result"
    }
   ]
  },
  {
   "cell_type": "code",
   "execution_count": 18,
   "metadata": {
    "collapsed": false
   },
   "source": [
    "mappend(([1,2],([10,11],([20,21],[25,26]))),([3,4],([12,13],([22,23],[26,28]))))"
   ],
   "outputs": [
    {
     "data": {
      "text/plain": [
       "([1, 2, 3, 4], ([10, 11, 12, 13], ([20, 21, 22, 23], [25, 26, 26, 28])))"
      ]
     },
     "metadata": {},
     "execution_count": 18,
     "output_type": "execute_result"
    }
   ]
  },
  {
   "cell_type": "code",
   "execution_count": 23,
   "metadata": {
    "collapsed": false
   },
   "source": [
    "@mappend.register(\"\".__class__)\n",
    "def _(a,b):\n",
    "    return a+b"
   ],
   "outputs": []
  },
  {
   "cell_type": "markdown",
   "metadata": {},
   "source": [
    "# Functions as semigroups\n",
    "\nIf we have function f that accepts type A as input param and returns type B, then f forms a semigroup if B forms a semigroup."
   ]
  },
  {
   "cell_type": "code",
   "execution_count": 24,
   "metadata": {
    "collapsed": false
   },
   "source": [
    "@mappend.register(mconcat.__class__)\n",
    "def _(a,b):\n",
    "  def result(*x):\n",
    "    a_r= a(*x)\n",
    "    b_r=b(*x)\n",
    "    return mappend(r_a,r_b)\n",
    "  return result"
   ],
   "outputs": []
  },
  {
   "cell_type": "code",
   "execution_count": 25,
   "metadata": {
    "collapsed": false
   },
   "source": [
    "a = input(\"asdf\")\n"
   ],
   "outputs": [
    {
     "traceback": [
      "\u001b[0;31m---------------------------------------------------------------------------\u001b[0m",
      "\u001b[0;31mStdinNotImplementedError\u001b[0m                  Traceback (most recent call last)",
      "\u001b[0;32m<ipython-input-25-43e370e459da>\u001b[0m in \u001b[0;36m<module>\u001b[0;34m()\u001b[0m\n\u001b[0;32m----> 1\u001b[0;31m \u001b[0ma\u001b[0m \u001b[1;33m=\u001b[0m \u001b[0minput\u001b[0m\u001b[1;33m(\u001b[0m\u001b[1;34m\"asdf\"\u001b[0m\u001b[1;33m)\u001b[0m\u001b[1;33m\u001b[0m\u001b[0m\n\u001b[0m",
      "\u001b[0;32mC:\\Users\\asaleh\\AppData\\Local\\Programs\\Python\\Python35\\lib\\site-packages\\ipykernel\\kernelbase.py\u001b[0m in \u001b[0;36mraw_input\u001b[0;34m(self, prompt)\u001b[0m\n\u001b[1;32m    687\u001b[0m         \u001b[1;32mif\u001b[0m \u001b[1;32mnot\u001b[0m \u001b[0mself\u001b[0m\u001b[1;33m.\u001b[0m\u001b[0m_allow_stdin\u001b[0m\u001b[1;33m:\u001b[0m\u001b[1;33m\u001b[0m\u001b[0m\n\u001b[1;32m    688\u001b[0m             raise StdinNotImplementedError(\n\u001b[0;32m--> 689\u001b[0;31m                 \u001b[1;34m\"raw_input was called, but this frontend does not support input requests.\"\u001b[0m\u001b[1;33m\u001b[0m\u001b[0m\n\u001b[0m\u001b[1;32m    690\u001b[0m             )\n\u001b[1;32m    691\u001b[0m         return self._input_request(str(prompt),\n",
      "\u001b[0;31mStdinNotImplementedError\u001b[0m: raw_input was called, but this frontend does not support input requests."
     ],
     "ename": "StdinNotImplementedError",
     "evalue": "raw_input was called, but this frontend does not support input requests.",
     "output_type": "error"
    }
   ]
  }
 ],
 "metadata": {
  "kernelspec": {
   "name": "python3",
   "language": "python",
   "display_name": "Python 3"
  },
  "language_info": {
   "mimetype": "text/x-python",
   "nbconvert_exporter": "python",
   "name": "python",
   "codemirror_mode": {
    "name": "ipython",
    "version": 3
   },
   "version": "3.5.2",
   "pygments_lexer": "ipython3",
   "file_extension": ".py"
  },
  "kernel_info": {
   "name": "python3"
  }
 },
 "nbformat": 4,
 "nbformat_minor": 0
}