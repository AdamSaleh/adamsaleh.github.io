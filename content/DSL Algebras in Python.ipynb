{
 "cells": [
  {
   "cell_type": "markdown",
   "metadata": {
    "outputExpanded": false
   },
   "source": [
    "# What do I mean by DSL Algebra?\n",
    "\n",
    "When I say algebra, I don't think about implementing i.e. DSL for linear algebra in Python. I think about algebra in general as in \"a set of objects and a collection of operations on them\".\n",
    "\n",
    "I like algebras, when they are used in programming. Probably the most well-known is Relational Algebra. The object in Relational Algebra is a *relation*, with operations like *join*, *projection* and *union*. The nice thing about having something that works like an algebra is, that you always work with the same type of object, reusing the box of tools without breaking the flow.\n",
    "\n",
    "That is one of the reasons I like Pythons collections. Pythons sets and list actually have quite a nice algebra built around them.\n"
   ]
  },
  {
   "cell_type": "code",
   "execution_count": 1,
   "metadata": {
    "collapsed": false,
    "outputExpanded": false
   },
   "outputs": [
    {
     "data": {
      "text/plain": [
       "{1, 2, 3, 4, 5}"
      ]
     },
     "execution_count": 1,
     "metadata": {},
     "output_type": "execute_result"
    }
   ],
   "source": [
    "{1,2,3} | {3,4,5}"
   ]
  },
  {
   "cell_type": "code",
   "execution_count": 2,
   "metadata": {
    "collapsed": false,
    "outputExpanded": false
   },
   "outputs": [
    {
     "data": {
      "text/plain": [
       "{3}"
      ]
     },
     "execution_count": 2,
     "metadata": {},
     "output_type": "execute_result"
    }
   ],
   "source": [
    "{1,2,3} & {3,4,}"
   ]
  },
  {
   "cell_type": "code",
   "execution_count": 3,
   "metadata": {
    "collapsed": false,
    "outputExpanded": false
   },
   "outputs": [
    {
     "data": {
      "text/plain": [
       "{1, 2}"
      ]
     },
     "execution_count": 3,
     "metadata": {},
     "output_type": "execute_result"
    }
   ],
   "source": [
    "{1,2,3} - {3,4,5}"
   ]
  },
  {
   "cell_type": "markdown",
   "metadata": {
    "outputExpanded": false
   },
   "source": [
    "And what I really like is, that all the laws I remember about sets from discrete math still work. For example, with union as `|` and empty set as `set()`:"
   ]
  },
  {
   "cell_type": "code",
   "execution_count": 4,
   "metadata": {
    "collapsed": false,
    "outputExpanded": false
   },
   "outputs": [
    {
     "data": {
      "text/plain": [
       "True"
      ]
     },
     "execution_count": 4,
     "metadata": {},
     "output_type": "execute_result"
    }
   ],
   "source": [
    "a = {1,2,3}\n",
    "a == a|set()==set()|a\n"
   ]
  },
  {
   "cell_type": "code",
   "execution_count": 5,
   "metadata": {
    "collapsed": false,
    "outputExpanded": false
   },
   "outputs": [
    {
     "data": {
      "text/plain": [
       "True"
      ]
     },
     "execution_count": 5,
     "metadata": {},
     "output_type": "execute_result"
    }
   ],
   "source": [
    "b = {3,4,5}\n",
    "c = {5,6,7}\n",
    "(a | b) | c == a | (b | c)"
   ]
  },
  {
   "cell_type": "markdown",
   "metadata": {
    "outputExpanded": false
   },
   "source": [
    "My personal preference is to use these math-like operators over calling methods on objects, even though methpd calls would produce the same result, and often would be more efficient"
   ]
  },
  {
   "cell_type": "code",
   "execution_count": 6,
   "metadata": {
    "collapsed": false,
    "outputExpanded": false
   },
   "outputs": [
    {
     "data": {
      "text/plain": [
       "True"
      ]
     },
     "execution_count": 6,
     "metadata": {},
     "output_type": "execute_result"
    }
   ],
   "source": [
    "a = {1,2}\n",
    "a.add(3)\n",
    "a.add(4)\n",
    "a.remove(2)\n",
    "a == ({1,2} | {3} | {4}) - {2}"
   ]
  },
  {
   "cell_type": "markdown",
   "metadata": {
    "outputExpanded": false
   },
   "source": [
    "To be honest, I probably would write this code with method calls, because they are more readable than operators: "
   ]
  },
  {
   "cell_type": "code",
   "execution_count": 7,
   "metadata": {
    "collapsed": false,
    "outputExpanded": false
   },
   "outputs": [
    {
     "data": {
      "text/plain": [
       "True"
      ]
     },
     "execution_count": 7,
     "metadata": {},
     "output_type": "execute_result"
    }
   ],
   "source": [
    "a == {1,2,3}.union({3,4}).difference({2})"
   ]
  },
  {
   "cell_type": "markdown",
   "metadata": {
    "outputExpanded": false
   },
   "source": [
    "I don't really want to have operators everywhere, what I want is composability. Now-days we might call this *fluent* interface, but I want to go one step further, I want the interface to conform to predefined set of rules.\n",
    "\n",
    "This is what I mean when I say algebra:\n",
    "* interfaces I work with *compose* with each other, they interoperate well, they are *fluent*\n",
    "* the implementation is *lawful*, it conforms to predefined rules"
   ]
  },
  {
   "cell_type": "markdown",
   "metadata": {
    "outputExpanded": false
   },
   "source": [
    "By **dsl algebra** I mean two distinct, but related things:\n",
    "* making a dsl that forms an algebra\n",
    "* creating algebra that helps with creating dsl-s"
   ]
  },
  {
   "cell_type": "markdown",
   "metadata": {
    "outputExpanded": false
   },
   "source": [
    "# Why?\n",
    "\n",
    "So I have been watching too many talks from Scala conferences and reading too many posts from haskell enthusiasts.\n",
    "And now I envy them. Because I am mostly working with javascript and python and barely anybody even knows what `monad` *is*, while on the scala-side they are using co-free co-monads to implement cool, extensible DSLs.\n",
    "\n",
    "Ok, there is fantasy-land and Ramda, but last time my colleague was trying to show off Ramda to the rest of the team, he mostly got puzzled looks from the most of them. And there isn't much in Python.\n",
    "\n",
    "But I still want to try all of those cool things I see in the typed functional languages."
   ]
  },
  {
   "cell_type": "markdown",
   "metadata": {
    "outputExpanded": false
   },
   "source": [
    "# Monoids are cool\n",
    "\n",
    "One useful concept to use here is the one of a *monoid*. \n",
    "If we think of this as an interface that is implemented by a type *T*, it needs two things:\n",
    "* the *empty* element, usually called *mempty*\n",
    "* the *append* operation, that takes any two T's and returns a new T\n",
    "\n",
    "There are two laws:\n",
    "* for any a of type T: append(a,empty) == append(empty,a) == a\n",
    "* for any a,b,c of type T: append(a,append(b,c)) == append(append(a,b),c)\n",
    "\n",
    "Now we have this interface, we can do cool things with this :)\n",
    "\n",
    "And by cool thigs, I mean going through [this presentation](https://www.youtube.com/watch?v=WsA7GtUQeB8) by Gabriel Gonzalez and translating the concepts from haskell to python :)\n",
    "\n",
    "If you are not scared of Haskell, I really recomend that presentation. There is even a [souce for it](https://github.com/Gabriel439/slides/tree/master/lambdaconf/category)."
   ]
  },
  {
   "cell_type": "markdown",
   "metadata": {
    "outputExpanded": false
   },
   "source": [
    "Typeclasses present the first translation hiccup. In haskell you use these to signidy that a type conforms to some interface, similarily to Java/C# interfaces. Nice thing about this is, that you can define implementations for existing types. This makes them more similiar to C# extension methods, or Clojure protocols. Fortunately, we have single dispatch in Python to simulate this."
   ]
  },
  {
   "cell_type": "code",
   "execution_count": 8,
   "metadata": {
    "collapsed": false,
    "outputExpanded": false
   },
   "outputs": [],
   "source": [
    "from functools import singledispatch\n",
    "@singledispatch\n",
    "def mempty(a):\n",
    "    raise Error(\"Not implemented for\" + a)\n",
    "\n",
    "@singledispatch\n",
    "def mappend(a, b):\n",
    "    raise Error(\"Not implemented for\" + a)"
   ]
  },
  {
   "cell_type": "markdown",
   "metadata": {},
   "source": [
    "We can definitely implement these for lists.\n",
    "* mappend is +, and we know that appending lists is associative\n",
    "* mempty is [], and we know that it doesn't matter if you'd append empty list to left or right"
   ]
  },
  {
   "cell_type": "code",
   "execution_count": 9,
   "metadata": {
    "collapsed": false,
    "outputExpanded": false
   },
   "outputs": [],
   "source": [
    "@mempty.register(list)\n",
    "def _(a):\n",
    "    return []\n",
    "\n",
    "@mappend.register(list)\n",
    "def _(a,b):\n",
    "    return a + b"
   ]
  },
  {
   "cell_type": "code",
   "execution_count": 10,
   "metadata": {
    "collapsed": false,
    "outputExpanded": false
   },
   "outputs": [
    {
     "data": {
      "text/plain": [
       "[1, 2, 3, 4, 5, 6]"
      ]
     },
     "execution_count": 10,
     "metadata": {},
     "output_type": "execute_result"
    }
   ],
   "source": [
    "mappend([1,2,3],[4,5,6])"
   ]
  },
  {
   "cell_type": "markdown",
   "metadata": {},
   "source": [
    "We can trivially implement these for None. It might look kind'a silly, but it will be useful, once we get to combine function."
   ]
  },
  {
   "cell_type": "code",
   "execution_count": 11,
   "metadata": {
    "collapsed": false,
    "outputExpanded": false
   },
   "outputs": [],
   "source": [
    "@mempty.register(None.__class__)\n",
    "def _(a):\n",
    "    return None\n",
    "\n",
    "@mappend.register(None.__class__)\n",
    "def _(a,b):\n",
    "    return None"
   ]
  },
  {
   "cell_type": "code",
   "execution_count": 12,
   "metadata": {
    "collapsed": false,
    "outputExpanded": false
   },
   "outputs": [
    {
     "data": {
      "text/plain": [
       "True"
      ]
     },
     "execution_count": 12,
     "metadata": {},
     "output_type": "execute_result"
    }
   ],
   "source": [
    "mappend(None,None) == None"
   ]
  },
  {
   "cell_type": "markdown",
   "metadata": {
    "outputExpanded": false
   },
   "source": [
    "# Generic functions\n",
    "\n",
    "Now we can create a generic function that works on all monoids, such as mconcat, that takes a list and appends its contents."
   ]
  },
  {
   "cell_type": "code",
   "execution_count": 13,
   "metadata": {
    "collapsed": false,
    "outputExpanded": false
   },
   "outputs": [
    {
     "data": {
      "text/plain": [
       "[1, 2, 3, 4, 5]"
      ]
     },
     "execution_count": 13,
     "metadata": {},
     "output_type": "execute_result"
    }
   ],
   "source": [
    "def mconcat(l):\n",
    "    acc = l[0]\n",
    "    for x in l[1:]:\n",
    "        acc = mappend(acc,x)\n",
    "    return acc\n",
    "\n",
    "mconcat([[1,2],[3,4,5]])"
   ]
  },
  {
   "cell_type": "markdown",
   "metadata": {
    "outputExpanded": false
   },
   "source": [
    "As you can see, we have run into our first problem. In theory we should be able to do mconcat of an [] and get the mempty for the lists member type. But python doesn't have typed lists. Well, we see how far will this get us :)"
   ]
  },
  {
   "cell_type": "markdown",
   "metadata": {
    "outputExpanded": false
   },
   "source": [
    "# Nesting\n",
    "\n",
    "Second thing we could do, is to try to nest these inside of other structures.\n",
    "For example, if you have n-tuple with monoids, you can prove, that the n-tuple is monoid. I am lazy to write out the proof, so I just defer to the presentation I am copying from :)"
   ]
  },
  {
   "cell_type": "code",
   "execution_count": 14,
   "metadata": {
    "collapsed": false,
    "outputExpanded": false
   },
   "outputs": [],
   "source": [
    "\n",
    "@mappend.register((0,0).__class__)\n",
    "def _(a,b):\n",
    "    return tuple(mappend(i,j) for i,j in zip(a,b))"
   ]
  },
  {
   "cell_type": "code",
   "execution_count": 15,
   "metadata": {
    "collapsed": false,
    "outputExpanded": false
   },
   "outputs": [
    {
     "data": {
      "text/plain": [
       "([1, 2, 3, 4, 5, 6], [10, 11, 12, 14, 15])"
      ]
     },
     "execution_count": 15,
     "metadata": {},
     "output_type": "execute_result"
    }
   ],
   "source": [
    "mappend(([1,2,3],[10,11,12]),([4,5,6],[14,15]))"
   ]
  },
  {
   "cell_type": "markdown",
   "metadata": {},
   "source": [
    "This of course means that we can nest the touples in other touples :)"
   ]
  },
  {
   "cell_type": "code",
   "execution_count": 16,
   "metadata": {
    "collapsed": false,
    "outputExpanded": false
   },
   "outputs": [
    {
     "data": {
      "text/plain": [
       "([1, 2, 3, 4], ([10, 11, 12, 13], ([20, 21, 22, 23], [25, 26, 26, 28])))"
      ]
     },
     "execution_count": 16,
     "metadata": {},
     "output_type": "execute_result"
    }
   ],
   "source": [
    "mappend(([1,2],([10,11],([20,21],[25,26]))),\n",
    "       ([3,4],([12,13],([22,23],[26,28]))))"
   ]
  },
  {
   "cell_type": "markdown",
   "metadata": {
    "outputExpanded": false
   },
   "source": [
    "# Nesting with functions\n",
    "\n",
    "If we have function f that accepts type A as input param and returns type B, then f forms a semigroup if B forms a semigroup.\n",
    "\n",
    "Basically, we pass the input into all of the functions and then we append the results."
   ]
  },
  {
   "cell_type": "code",
   "execution_count": 34,
   "metadata": {
    "collapsed": false,
    "outputExpanded": false
   },
   "outputs": [],
   "source": [
    "@mappend.register(mconcat.__class__)\n",
    "def _(a,b):\n",
    "  def result(*x):\n",
    "    a_r= a(*x)\n",
    "    b_r=b(*x)\n",
    "    return mappend(a_r,b_r)\n",
    "  return result"
   ]
  },
  {
   "cell_type": "markdown",
   "metadata": {
    "outputExpanded": false
   },
   "source": [
    "This means we can send a single arg to multiple functions that return None. This is where the mappend definition comes useful, because without it we would have seen exceptions here."
   ]
  },
  {
   "cell_type": "code",
   "execution_count": 18,
   "metadata": {
    "collapsed": false,
    "outputExpanded": false
   },
   "outputs": [
    {
     "name": "stdout",
     "output_type": "stream",
     "text": [
      "Hello World!\n",
      "Hi World!\n"
     ]
    }
   ],
   "source": [
    "def phello(arg):\n",
    "  print(\"Hello\",arg)\n",
    "  \n",
    "def phi(arg):\n",
    "  print(\"Hi\",arg)\n",
    "\n",
    "mappend(phello,phi)(\"World!\")"
   ]
  },
  {
   "cell_type": "markdown",
   "metadata": {
    "outputExpanded": false
   },
   "source": [
    "Or they could return function that returns None :)"
   ]
  },
  {
   "cell_type": "code",
   "execution_count": 19,
   "metadata": {
    "collapsed": true,
    "outputExpanded": false
   },
   "outputs": [],
   "source": [
    "def promptName():\n",
    "    name = input(\"Enter Your Name: \")\n",
    "    return lambda: print(\"Hi \", name)\n",
    "\n",
    "def promptAge():\n",
    "    age = input(\"Enter Your Age: \")\n",
    "    return lambda: print(\"Your Age is\", age)\n",
    "\n",
    "promptBoth = mappend(promptName,promptAge)"
   ]
  },
  {
   "cell_type": "code",
   "execution_count": 20,
   "metadata": {
    "collapsed": false,
    "outputExpanded": false
   },
   "outputs": [
    {
     "name": "stdout",
     "output_type": "stream",
     "text": [
      "Enter Your Name: Adam\n",
      "Enter Your Age: 10\n"
     ]
    }
   ],
   "source": [
    "answers = promptBoth()"
   ]
  },
  {
   "cell_type": "code",
   "execution_count": 21,
   "metadata": {
    "collapsed": false,
    "outputExpanded": false
   },
   "outputs": [
    {
     "name": "stdout",
     "output_type": "stream",
     "text": [
      "Hi  Adam\n",
      "Your Age is 10\n"
     ]
    }
   ],
   "source": [
    "answers()"
   ]
  },
  {
   "cell_type": "markdown",
   "metadata": {
    "outputExpanded": false
   },
   "source": [
    "We could actually get these back, if we return a monoid from tose inner functions."
   ]
  },
  {
   "cell_type": "code",
   "execution_count": 22,
   "metadata": {
    "collapsed": false,
    "outputExpanded": false
   },
   "outputs": [
    {
     "name": "stdout",
     "output_type": "stream",
     "text": [
      "Enter Your Name: Adam\n",
      "Enter Your Age: 10\n"
     ]
    },
    {
     "data": {
      "text/plain": [
       "['Adam', '10']"
      ]
     },
     "execution_count": 22,
     "metadata": {},
     "output_type": "execute_result"
    }
   ],
   "source": [
    "def getName():\n",
    "    name = input(\"Enter Your Name: \")\n",
    "    return lambda: [name]\n",
    "\n",
    "def getAge():\n",
    "    age = input(\"Enter Your Age: \")\n",
    "    return lambda: [age]\n",
    "\n",
    "getBoth = mappend(getName,getAge)\n",
    "listAnswers = getBoth()\n",
    "listAnswers()"
   ]
  },
  {
   "cell_type": "markdown",
   "metadata": {},
   "source": [
    "# Function nesting and laws\n",
    "\n",
    "Lets look again at the most important law that this `mappend` needs to uphold.\n",
    "\n",
    "```\n",
    "mappend(f, mappend(g,h)) == mappend(mappend(f,g),h)\n",
    "```\n",
    ", given any functions `a`,`b`,`c`, that \n",
    "* accept the same input param \n",
    "* and return the same semigroup.\n",
    "\n",
    "To make this more readable, I will use $\\oplus$ instead of `mappend`. This means, that I want to prove\n",
    "$$ f \\oplus (g \\oplus h) = (f \\oplus g) \\oplus h $$\n",
    "\n",
    "Functions are equivalent when for any input, they produce equal output.\n",
    "\n",
    "So, lets assume arbitrary input of `x`, and we will try to evaluate this on the both sides and try get to the same result (we will mark result of $f(x)$ as $f_x$ and we will evaluate the functions from the left):\n",
    "\n",
    "$$ \\begin{align*} (f \\oplus (g \\oplus h))(x) &= f(x) \\oplus (g \\oplus h)(x) \\\\\n",
    "&= f_x \\oplus (g \\oplus h) \\\\\n",
    "&= f_x \\oplus (g(x) \\oplus h(x)) \\\\\n",
    "&= f_x \\oplus (g_x \\oplus h(x) )\\\\\n",
    "&= f_x \\oplus (g_x \\oplus h_x)\n",
    "\\end{align*} $$\n",
    "\n",
    "$$ \\begin{align*} ((f \\oplus g) \\oplus h)(x) &= (f \\oplus g)(x) \\oplus h(x) \\\\\n",
    "&= (f(x) \\oplus g(x)) \\oplus h(x) \\\\\n",
    "&= (f_x \\oplus g(x)) \\oplus h(x) \\\\\n",
    "&= (f_x \\oplus g_x) \\oplus h(x) \\\\\n",
    "&= (f_x \\oplus g_x) \\oplus h_x \n",
    "\\end{align*} $$\n",
    "\n",
    "Because we know, that $f_x$, $g_x$ and $h_x$ are from the same semigroup, the last lines are equivalent. There is one big assumption, and that is, that the function application will always start at right. This way, no matter the bracket position, $f(x)$ in our example always gets evaluated first.  This is why we can't i.e. flip the evaluation of the functions in our implementation, because ordering matters, and next code sample would introduce a subtle bug.\n",
    "\n",
    "```\n",
    "@mappend.register(mconcat.__class__)\n",
    "def _(a,b):\n",
    "  def result(*x):\n",
    "    b_r = b(*x)\n",
    "    a_r = a(*x)\n",
    "    return mappend(a_r,b_r)\n",
    "  return result\n",
    "```\n",
    "\n",
    "In math, we know that function will always return the same result for the same input, in python this is not the case. This means, that while sketching out a proof is helpful, we can't rely on it too much and still need to be doing testing."
   ]
  },
  {
   "cell_type": "markdown",
   "metadata": {
    "outputExpanded": false
   },
   "source": [
    "# Dsl for getting configuration\n",
    "\n",
    "We could make a little library for asking for config from this :)\n",
    "\n",
    "If you have read Gabriels presentation, you might think, that now I would be explaining Monads, and then creating monoidal event stream combinator. Unfortunately, I don't think I am hard-core enough to do that in python.\n",
    "\n",
    "On the other hand, writing a tiny config library sounds like a bit of harmless fun.\n",
    "\n",
    "First, lets create a mappend for Dictionary."
   ]
  },
  {
   "cell_type": "code",
   "execution_count": 23,
   "metadata": {
    "collapsed": false,
    "outputExpanded": false
   },
   "outputs": [],
   "source": [
    "@mappend.register(dict)\n",
    "def _(a,b):\n",
    "    return {**a, **b}"
   ]
  },
  {
   "cell_type": "markdown",
   "metadata": {
    "outputExpanded": false
   },
   "source": [
    "Now we could create a generic function, i.e. askFor:"
   ]
  },
  {
   "cell_type": "code",
   "execution_count": 24,
   "metadata": {
    "collapsed": true,
    "outputExpanded": false
   },
   "outputs": [],
   "source": [
    "def askFor(name):\n",
    "    def getAnswer():\n",
    "        answer = input(name)\n",
    "        return {name: answer}\n",
    "    return getAnswer"
   ]
  },
  {
   "cell_type": "code",
   "execution_count": 25,
   "metadata": {
    "collapsed": true,
    "outputExpanded": false
   },
   "outputs": [],
   "source": [
    "askAll = mconcat([\n",
    "        askFor('name'),\n",
    "        askFor('age'),\n",
    "        askFor('email')\n",
    "    ])"
   ]
  },
  {
   "cell_type": "code",
   "execution_count": 26,
   "metadata": {
    "collapsed": false,
    "outputExpanded": false
   },
   "outputs": [
    {
     "name": "stdout",
     "output_type": "stream",
     "text": [
      "nameAdam\n",
      "age10\n",
      "emaila@a.a\n"
     ]
    },
    {
     "data": {
      "text/plain": [
       "{'age': '10', 'email': 'a@a.a', 'name': 'Adam'}"
      ]
     },
     "execution_count": 26,
     "metadata": {},
     "output_type": "execute_result"
    }
   ],
   "source": [
    "askAll()"
   ]
  },
  {
   "cell_type": "markdown",
   "metadata": {
    "outputExpanded": false
   },
   "source": [
    "What we could do now, instead of asking for input manually, we could pass in a config string and parse it. I will first create the config string, with a simple structure \"key:value\" on each line."
   ]
  },
  {
   "cell_type": "code",
   "execution_count": 27,
   "metadata": {
    "collapsed": true,
    "outputExpanded": false
   },
   "outputs": [],
   "source": [
    "config = \"\"\"\n",
    "name:eve\n",
    "age:16\n",
    "dance:swing\n",
    "\"\"\""
   ]
  },
  {
   "cell_type": "markdown",
   "metadata": {},
   "source": [
    "Now I can create a simple parsing function, where I can input the key, and it will return the value.\n",
    "Actually, it will return a parser that takes the string produces a dictionary with single KV pair, but thats almost the same, just more composable :)\n",
    "\n",
    "And for now, if it doesn't find the key, it produces empty dictionary."
   ]
  },
  {
   "cell_type": "code",
   "execution_count": 28,
   "metadata": {
    "collapsed": false
   },
   "outputs": [],
   "source": [
    "import re\n",
    "\n",
    "def parseFor(name):\n",
    "    def getAnswer(config):\n",
    "        m = re.search('(?<='+name+').*', config)\n",
    "        if m == None:\n",
    "            return {}\n",
    "        else: \n",
    "            return {name: m.group(0)}\n",
    "    return getAnswer"
   ]
  },
  {
   "cell_type": "code",
   "execution_count": 29,
   "metadata": {
    "collapsed": false,
    "outputExpanded": false
   },
   "outputs": [
    {
     "data": {
      "text/plain": [
       "{'age': ':16', 'name': ':eve'}"
      ]
     },
     "execution_count": 29,
     "metadata": {},
     "output_type": "execute_result"
    }
   ],
   "source": [
    "parseAll = mconcat([\n",
    "        parseFor('name'),\n",
    "        parseFor('age'),\n",
    "        parseFor('email')\n",
    "    ])\n",
    "\n",
    "parseAll(config)"
   ]
  },
  {
   "cell_type": "markdown",
   "metadata": {
    "outputExpanded": false
   },
   "source": [
    "And because in our parsing functions we get the whole config, we could parse different things as well. For example we could get names of all of the keys."
   ]
  },
  {
   "cell_type": "code",
   "execution_count": 30,
   "metadata": {
    "collapsed": true,
    "outputExpanded": false
   },
   "outputs": [],
   "source": [
    "def getKeys(config):\n",
    "    return {\"keys\": [x.strip() for x in re.split(\":.*\\n\",config) if x.strip()!= \"\"]}"
   ]
  },
  {
   "cell_type": "code",
   "execution_count": 33,
   "metadata": {
    "collapsed": false,
    "outputExpanded": false
   },
   "outputs": [
    {
     "data": {
      "text/plain": [
       "{'keys': ['name', 'age', 'dance'], 'name': ':eve'}"
      ]
     },
     "execution_count": 33,
     "metadata": {},
     "output_type": "execute_result"
    }
   ],
   "source": [
    "parseAll = mconcat([parseFor('name'),getKeys])\n",
    "\n",
    "parseAll(config)"
   ]
  },
  {
   "cell_type": "markdown",
   "metadata": {},
   "source": [
    "## Better config object?\n",
    "\n",
    "Another observation we can make, is that we can create an alternative interpretation of dicitonary mappend, where don't just over-write the latter, but we assume that values of the dictionary are monoids themselves. This means we can mappend them again :-)"
   ]
  },
  {
   "cell_type": "code",
   "execution_count": 36,
   "metadata": {
    "collapsed": true
   },
   "outputs": [],
   "source": [
    "@mappend.register(dict)\n",
    "def _(a,b):\n",
    "    return {**a, **b,**{k:mappend(a[k],b[k]) for k in a if k in b}}\n",
    "    "
   ]
  },
  {
   "cell_type": "markdown",
   "metadata": {},
   "source": [
    "We could then have additional alternative implementation for our function mappend.\n",
    "Our new mappend would return the result of the first function, that doesn't return `none`."
   ]
  },
  {
   "cell_type": "code",
   "execution_count": 37,
   "metadata": {
    "collapsed": true
   },
   "outputs": [],
   "source": [
    "@mappend.register(mconcat.__class__)\n",
    "def _(a,b):\n",
    "  def result(*x):\n",
    "    a_r= a(*x)\n",
    "    if a_r!=None:\n",
    "        return a_r;\n",
    "    b_r=b(*x)\n",
    "    return b_r\n",
    "  return result"
   ]
  },
  {
   "cell_type": "markdown",
   "metadata": {},
   "source": [
    "This way we can flip the building blocks for our little dsl."
   ]
  },
  {
   "cell_type": "code",
   "execution_count": 44,
   "metadata": {
    "collapsed": true
   },
   "outputs": [],
   "source": [
    "def askFor(name):\n",
    "    def getAnswer(config):\n",
    "        answer = input(name)\n",
    "        return answer\n",
    "    return {name: getAnswer}\n",
    "\n",
    "def parseFor(name):\n",
    "    def getAnswer(config):\n",
    "        m = re.search('(?<='+name+').*', config)\n",
    "        if m == None:\n",
    "            return None \n",
    "        return m.group(0)\n",
    "    return {name: getAnswer}\n",
    "\n"
   ]
  },
  {
   "cell_type": "code",
   "execution_count": 45,
   "metadata": {
    "collapsed": false
   },
   "outputs": [
    {
     "data": {
      "text/plain": [
       "{'age': <function __main__._.<locals>.result>,\n",
       " 'email': <function __main__._.<locals>.result>,\n",
       " 'name': <function __main__._.<locals>.result>}"
      ]
     },
     "execution_count": 45,
     "metadata": {},
     "output_type": "execute_result"
    }
   ],
   "source": [
    "parseAll = mconcat([\n",
    "        parseFor('name'),\n",
    "        askFor('name'),\n",
    "        parseFor('age'),\n",
    "        askFor('age'),\n",
    "        parseFor('email'),\n",
    "        askFor('email')\n",
    "    ])\n",
    "\n",
    "parseAll"
   ]
  },
  {
   "cell_type": "markdown",
   "metadata": {},
   "source": [
    "The drawback is, that now we have dictionary of functions, where previously we had just a singe funciton that got us our config. We an still implement that:"
   ]
  },
  {
   "cell_type": "code",
   "execution_count": 46,
   "metadata": {
    "collapsed": false
   },
   "outputs": [
    {
     "name": "stdout",
     "output_type": "stream",
     "text": [
      "emaila@a.a\n"
     ]
    },
    {
     "data": {
      "text/plain": [
       "{'age': ':16', 'email': 'a@a.a', 'name': ':eve'}"
      ]
     },
     "execution_count": 46,
     "metadata": {},
     "output_type": "execute_result"
    }
   ],
   "source": [
    "def getConfig(parser, config):\n",
    "    return {k:parser[k](config) for k in parser}"
   ]
  },
  {
   "cell_type": "markdown",
   "metadata": {},
   "source": [
    "Way we implemented this (dictionary keys get mappended and the first return from a funcion wins) we should only be prompted for the email, and rest of this should be parsed from config."
   ]
  },
  {
   "cell_type": "code",
   "execution_count": 47,
   "metadata": {
    "collapsed": false
   },
   "outputs": [
    {
     "name": "stdout",
     "output_type": "stream",
     "text": [
      "emaila@a.c\n"
     ]
    },
    {
     "data": {
      "text/plain": [
       "{'age': ':16', 'email': 'a@a.c', 'name': ':eve'}"
      ]
     },
     "execution_count": 47,
     "metadata": {},
     "output_type": "execute_result"
    }
   ],
   "source": [
    "getConfig(parseAll,config)"
   ]
  },
  {
   "cell_type": "markdown",
   "metadata": {},
   "source": [
    "And now I almost have what I wanted in the beginning. I have \n",
    "* created a dsl (for parsing configuration)\n",
    "* the building blocks are nice, and I can just `mconcat` them together\n",
    "* if I want to add new building block, it just needs to\n",
    "  * accept the config-string\n",
    "  * return a KV dict\n",
    "  \n",
    " On the other hand, tit has no error handling, it is kind-of inefficient, and in practce would be just a useless toy. I think the solution here is more category theory, obviously! \n",
    " \n",
    "One thing I didn't really talk about are applicatives, that havw been heavily referenced in Gabriels talk. Thing is, in haskel, many libraries have applicative interface. In python, I would first need to figure out, what would that even mean for a type."
   ]
  }
 ],
 "metadata": {
  "kernel_info": {
   "name": "python3"
  },
  "kernelspec": {
   "display_name": "Python 3",
   "language": "python",
   "name": "python3"
  },
  "language_info": {
   "codemirror_mode": {
    "name": "ipython",
    "version": 3
   },
   "file_extension": ".py",
   "mimetype": "text/x-python",
   "name": "python",
   "nbconvert_exporter": "python",
   "pygments_lexer": "ipython3",
   "version": "3.5.1"
  }
 },
 "nbformat": 4,
 "nbformat_minor": 0
}
