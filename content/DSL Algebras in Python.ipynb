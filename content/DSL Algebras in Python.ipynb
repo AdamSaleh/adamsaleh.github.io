{
 "cells": [
  {
   "cell_type": "markdown",
   "metadata": {
    "outputExpanded": false
   },
   "source": [
    "# What do I mean by DSL Algebra?\n",
    "\n",
    "When I say algebra, I don't think about implementing i.e. DSL for linear algebra in Python. I think about algebra in general as in \"a set of objects and a collection of operations on them\".\n",
    "\n",
    "I like algebras, when they are used in programming. Probably the most well-known is Relational Algebra. The object in Relational Algebra is a *relation*, with operations like *join*, *projection* and *union*. The nice thing about having something that works like an algebra is, that you always work with the same type of object, reusing the box of tools without breaking the flow.\n",
    "\n",
    "That is one of the reasons I like Pythons collections. Pythons sets and list actually have quite a nice algebra built around them.\n"
   ]
  },
  {
   "cell_type": "code",
   "execution_count": 5,
   "metadata": {
    "collapsed": false,
    "outputExpanded": false
   },
   "outputs": [
    {
     "data": {
      "text/plain": [
       "{1, 2, 3, 4, 5}"
      ]
     },
     "execution_count": 5,
     "metadata": {},
     "output_type": "execute_result"
    }
   ],
   "source": [
    "{1,2,3} | {3,4,5}"
   ]
  },
  {
   "cell_type": "code",
   "execution_count": 6,
   "metadata": {
    "collapsed": false,
    "outputExpanded": false
   },
   "outputs": [
    {
     "data": {
      "text/plain": [
       "{3}"
      ]
     },
     "execution_count": 6,
     "metadata": {},
     "output_type": "execute_result"
    }
   ],
   "source": [
    "{1,2,3} & {3,4,}"
   ]
  },
  {
   "cell_type": "code",
   "execution_count": 7,
   "metadata": {
    "collapsed": false,
    "outputExpanded": false
   },
   "outputs": [
    {
     "data": {
      "text/plain": [
       "{1, 2}"
      ]
     },
     "execution_count": 7,
     "metadata": {},
     "output_type": "execute_result"
    }
   ],
   "source": [
    "{1,2,3} - {3,4,5}"
   ]
  },
  {
   "cell_type": "markdown",
   "metadata": {
    "outputExpanded": false
   },
   "source": [
    "And what I really like is, that all the laws I remember about sets from discrete math still work. For example, with union as `|` and empty set as `set()`:"
   ]
  },
  {
   "cell_type": "code",
   "execution_count": 8,
   "metadata": {
    "collapsed": false,
    "outputExpanded": false
   },
   "outputs": [
    {
     "data": {
      "text/plain": [
       "True"
      ]
     },
     "execution_count": 8,
     "metadata": {},
     "output_type": "execute_result"
    }
   ],
   "source": [
    "a = {1,2,3}\n",
    "a == a|set()==set()|a\n"
   ]
  },
  {
   "cell_type": "code",
   "execution_count": 9,
   "metadata": {
    "collapsed": false,
    "outputExpanded": false
   },
   "outputs": [
    {
     "data": {
      "text/plain": [
       "True"
      ]
     },
     "execution_count": 9,
     "metadata": {},
     "output_type": "execute_result"
    }
   ],
   "source": [
    "b = {3,4,5}\n",
    "c = {5,6,7}\n",
    "(a | b) | c == a | (b | c)"
   ]
  },
  {
   "cell_type": "markdown",
   "metadata": {
    "outputExpanded": false
   },
   "source": [
    "My personal preference is to use these math-like operators over calling methods on objects, even though methpd calls would produce the same result, and often would be more efficient"
   ]
  },
  {
   "cell_type": "code",
   "execution_count": 10,
   "metadata": {
    "collapsed": false,
    "outputExpanded": false
   },
   "outputs": [
    {
     "data": {
      "text/plain": [
       "True"
      ]
     },
     "execution_count": 10,
     "metadata": {},
     "output_type": "execute_result"
    }
   ],
   "source": [
    "a = {1,2}\n",
    "a.add(3)\n",
    "a.add(4)\n",
    "a.remove(2)\n",
    "a == ({1,2} | {3} | {4}) - {2}"
   ]
  },
  {
   "cell_type": "markdown",
   "metadata": {
    "outputExpanded": false
   },
   "source": [
    "To be honest, I probably would write this code with method calls, because they are more readable than operators: "
   ]
  },
  {
   "cell_type": "code",
   "execution_count": 11,
   "metadata": {
    "collapsed": false,
    "outputExpanded": false
   },
   "outputs": [
    {
     "data": {
      "text/plain": [
       "True"
      ]
     },
     "execution_count": 11,
     "metadata": {},
     "output_type": "execute_result"
    }
   ],
   "source": [
    "a == {1,2,3}.union({3,4}).difference({2})"
   ]
  },
  {
   "cell_type": "markdown",
   "metadata": {
    "outputExpanded": false
   },
   "source": [
    "I don't really want to have operators everywhere, what I want is composability. Now-days we might call this *fluent* interface, but I want to go one step further, I want the interface to conform to predefined set of rules.\n",
    "\n",
    "This is what I mean when I say algebra:\n",
    "* interfaces I work with *compose* with each other, they interoperate well, they are *fluent*\n",
    "* the implementation is *lawful*, it conforms to predefined rules"
   ]
  },
  {
   "cell_type": "markdown",
   "metadata": {
    "outputExpanded": false
   },
   "source": [
    "By **dsl algebra** I mean two distinct, but related things:\n",
    "* making a dsl that forms an algebra\n",
    "* creating algebra that helps with creating dsl-s"
   ]
  },
  {
   "cell_type": "markdown",
   "metadata": {
    "outputExpanded": false
   },
   "source": [
    "# Why?\n",
    "\n",
    "So I have been watching too many talks from Scala conferences and reading too many posts from haskell enthusiasts.\n",
    "And now I envy them. Because I am mostly working with javascript and python and barely anybody even knows what `monad` *is*, while on the scala-side they are using co-free co-monads to implement cool, extensible DSLs.\n",
    "\n",
    "Ok, there is fantasy-land and Ramda, but last time my colleague was trying to show off Ramda to the rest of the team, he mostly got puzzled looks from the most of them. And there isn't much in Python.\n",
    "\n",
    "But I still want to try all of those cool things I see in the typed functional languages."
   ]
  },
  {
   "cell_type": "markdown",
   "metadata": {
    "outputExpanded": false
   },
   "source": [
    "# Monoids are cool\n",
    "\n",
    "One of the most useful concept to use here is the one of a *monoid*. \n",
    "If we think of this as an interface that is implemented by a type *T*, it needs two things:\n",
    "* the *empty* element\n",
    "* the *append* operation, that takes any two T's and returns a new T\n",
    "\n",
    "There are two laws:\n",
    "* for any a of type T: append(a,empty) == append(empty,a) == a\n",
    "* for any a,b,c of type T: append(a,append(b,c)) == append(append(a,b),c)\n",
    "\n",
    "Now we have this interface, we can do cool things with this :)\n",
    "\n",
    "And by cool thigs, I mean going through [this presentation](https://www.youtube.com/watch?v=WsA7GtUQeB8) by Gabriel Gonzalez and translating the concepts from haskell to python :)\n",
    "\n",
    "If you are not scared of Haskell, I really recomend that presentation. There is even a [souce for it](https://github.com/Gabriel439/slides/tree/master/lambdaconf/category)."
   ]
  },
  {
   "cell_type": "markdown",
   "metadata": {
    "outputExpanded": false
   },
   "source": [
    "Typeclasses present the first translation hiccup. In haskell you use these to signidy that a type conforms to some interface, similarily to Java/C# interfaces. Nice thing about this is, that you can define implementations for existing types. This makes them more similiar to C# extension methods, or Clojure protocols. Fortunately, we have single dispatch in Python to simulate this."
   ]
  },
  {
   "cell_type": "code",
   "execution_count": 12,
   "metadata": {
    "collapsed": false,
    "outputExpanded": false
   },
   "outputs": [],
   "source": [
    "from functools import singledispatch\n",
    "@singledispatch\n",
    "def mempty(a):\n",
    "    raise Error(\"Not implemented for\" + a)\n",
    "\n",
    "@singledispatch\n",
    "def mappend(a, b):\n",
    "    raise Error(\"Not implemented for\" + a)"
   ]
  },
  {
   "cell_type": "code",
   "execution_count": 13,
   "metadata": {
    "collapsed": false,
    "outputExpanded": false
   },
   "outputs": [],
   "source": [
    "@mempty.register(list)\n",
    "def _(a):\n",
    "    return []\n",
    "\n",
    "@mappend.register(list)\n",
    "def _(a,b):\n",
    "    return a + b"
   ]
  },
  {
   "cell_type": "code",
   "execution_count": 14,
   "metadata": {
    "collapsed": false,
    "outputExpanded": false
   },
   "outputs": [
    {
     "data": {
      "text/plain": [
       "[1, 2, 3, 4, 5, 6]"
      ]
     },
     "execution_count": 14,
     "metadata": {},
     "output_type": "execute_result"
    }
   ],
   "source": [
    "mappend([1,2,3],[4,5,6])"
   ]
  },
  {
   "cell_type": "code",
   "execution_count": 15,
   "metadata": {
    "collapsed": false,
    "outputExpanded": false
   },
   "outputs": [],
   "source": [
    "@mempty.register(None.__class__)\n",
    "def _(a):\n",
    "    return None\n",
    "\n",
    "@mappend.register(None.__class__)\n",
    "def _(a,b):\n",
    "    return None"
   ]
  },
  {
   "cell_type": "code",
   "execution_count": 16,
   "metadata": {
    "collapsed": false,
    "outputExpanded": false
   },
   "outputs": [
    {
     "data": {
      "text/plain": [
       "True"
      ]
     },
     "execution_count": 16,
     "metadata": {},
     "output_type": "execute_result"
    }
   ],
   "source": [
    "mappend(None,None) == None"
   ]
  },
  {
   "cell_type": "markdown",
   "metadata": {
    "outputExpanded": false
   },
   "source": [
    "# Generic functions\n",
    "\n",
    "Now we can create a generic function that works on all monoids, such as mconcat, that takes a list and appends its contents."
   ]
  },
  {
   "cell_type": "code",
   "execution_count": 17,
   "metadata": {
    "collapsed": false,
    "outputExpanded": false
   },
   "outputs": [
    {
     "data": {
      "text/plain": [
       "[1, 2, 3, 4, 5]"
      ]
     },
     "execution_count": 17,
     "metadata": {},
     "output_type": "execute_result"
    }
   ],
   "source": [
    "def mconcat(l):\n",
    "    acc = l[0]\n",
    "    for x in l[1:]:\n",
    "        acc = mappend(acc,x)\n",
    "    return acc\n",
    "\n",
    "mconcat([[1,2],[3,4,5]])"
   ]
  },
  {
   "cell_type": "markdown",
   "metadata": {
    "outputExpanded": false
   },
   "source": [
    "As you can see, we have run into our first problem. In theory we should be able to do mconcat of an [] and get the mempty for the lists member type. But python doesn't have typed lists. Well, we see how far will this get us :)"
   ]
  },
  {
   "cell_type": "markdown",
   "metadata": {},
   "source": [
    "# Nesting\n",
    "\n",
    "Second thing we could do, is to try to nest these inside of other structures.\n",
    "For example, if you have n-tuple with monoids, you can prove, that the n-tuple is monoid. Well, in Python you can't implement the (), but there is algebraic thing that behavesnjuat like monoid without the mempty element, called semi-group, so lets talk about these instead :)"
   ]
  },
  {
   "cell_type": "code",
   "execution_count": 18,
   "metadata": {
    "collapsed": false
   },
   "outputs": [],
   "source": [
    "\n",
    "@mappend.register((0,0).__class__)\n",
    "def _(a,b):\n",
    "    return tuple(mappend(i,j) for i,j in zip(a,b))"
   ]
  },
  {
   "cell_type": "code",
   "execution_count": 19,
   "metadata": {
    "collapsed": false
   },
   "outputs": [
    {
     "data": {
      "text/plain": [
       "([1, 2, 3, 4, 5, 6], [10, 11, 12, 14, 15])"
      ]
     },
     "execution_count": 19,
     "metadata": {},
     "output_type": "execute_result"
    }
   ],
   "source": [
    "mappend(([1,2,3],[10,11,12]),([4,5,6],[14,15]))"
   ]
  },
  {
   "cell_type": "code",
   "execution_count": 20,
   "metadata": {
    "collapsed": false
   },
   "outputs": [
    {
     "data": {
      "text/plain": [
       "([1, 2, 3, 4], ([10, 11, 12, 13], ([20, 21, 22, 23], [25, 26, 26, 28])))"
      ]
     },
     "execution_count": 20,
     "metadata": {},
     "output_type": "execute_result"
    }
   ],
   "source": [
    "mappend(([1,2],([10,11],([20,21],[25,26]))),([3,4],([12,13],([22,23],[26,28]))))"
   ]
  },
  {
   "cell_type": "code",
   "execution_count": 21,
   "metadata": {
    "collapsed": false
   },
   "outputs": [],
   "source": [
    "@mappend.register(\"\".__class__)\n",
    "def _(a,b):\n",
    "    return a+b"
   ]
  },
  {
   "cell_type": "markdown",
   "metadata": {},
   "source": [
    "# Functions as semigroups\n",
    "\n",
    "If we have function f that accepts type A as input param and returns type B, then f forms a semigroup if B forms a semigroup."
   ]
  },
  {
   "cell_type": "code",
   "execution_count": 25,
   "metadata": {
    "collapsed": false
   },
   "outputs": [],
   "source": [
    "@mappend.register(mconcat.__class__)\n",
    "def _(a,b):\n",
    "  def result(*x):\n",
    "    a_r= a(*x)\n",
    "    b_r=b(*x)\n",
    "    return mappend(a_r,b_r)\n",
    "  return result"
   ]
  },
  {
   "cell_type": "markdown",
   "metadata": {},
   "source": [
    "This means we can pipe a single arg to multiple functions that return None."
   ]
  },
  {
   "cell_type": "code",
   "execution_count": 28,
   "metadata": {
    "collapsed": false
   },
   "outputs": [
    {
     "name": "stdout",
     "output_type": "stream",
     "text": [
      "Hello World!\n",
      "Hi World!\n"
     ]
    }
   ],
   "source": [
    "def phello(arg):\n",
    "  print(\"Hello\",arg)\n",
    "  \n",
    "def phi(arg):\n",
    "  print(\"Hi\",arg)\n",
    "\n",
    "mappend(phello,phi)(\"World!\")"
   ]
  },
  {
   "cell_type": "markdown",
   "metadata": {},
   "source": [
    "Or they could return function that returns None :)"
   ]
  },
  {
   "cell_type": "code",
   "execution_count": 38,
   "metadata": {
    "collapsed": true
   },
   "outputs": [],
   "source": [
    "def promptName():\n",
    "    name = input(\"Enter Your Name: \")\n",
    "    return lambda: print(\"Hi \", name)\n",
    "\n",
    "def promptAge():\n",
    "    age = input(\"Enter Your Age: \")\n",
    "    return lambda: print(\"Your Age is\", age)\n",
    "\n",
    "promptBoth = mappend(promptName,promptAge)"
   ]
  },
  {
   "cell_type": "code",
   "execution_count": 39,
   "metadata": {
    "collapsed": false
   },
   "outputs": [
    {
     "name": "stdout",
     "output_type": "stream",
     "text": [
      "Enter Your Nameadam\n",
      "Enter Your Age11\n"
     ]
    }
   ],
   "source": [
    "answers = promptBoth()"
   ]
  },
  {
   "cell_type": "code",
   "execution_count": 40,
   "metadata": {
    "collapsed": false
   },
   "outputs": [
    {
     "name": "stdout",
     "output_type": "stream",
     "text": [
      "Hi  adam\n",
      "Your Age is 11\n"
     ]
    }
   ],
   "source": [
    "answers()"
   ]
  },
  {
   "cell_type": "markdown",
   "metadata": {},
   "source": [
    "We could actually get these back, if we return a monoid from tose inner functions."
   ]
  },
  {
   "cell_type": "code",
   "execution_count": 41,
   "metadata": {
    "collapsed": false
   },
   "outputs": [
    {
     "name": "stdout",
     "output_type": "stream",
     "text": [
      "Enter Your Name: Adam\n",
      "Enter Your Age: 11\n"
     ]
    },
    {
     "data": {
      "text/plain": [
       "['Adam', '11']"
      ]
     },
     "execution_count": 41,
     "metadata": {},
     "output_type": "execute_result"
    }
   ],
   "source": [
    "def getName():\n",
    "    name = input(\"Enter Your Name: \")\n",
    "    return lambda: [name]\n",
    "\n",
    "def getAge():\n",
    "    age = input(\"Enter Your Age: \")\n",
    "    return lambda: [age]\n",
    "\n",
    "getBoth = mappend(getName,getAge)\n",
    "listAnswers = getBoth()\n",
    "listAnswers()"
   ]
  },
  {
   "cell_type": "markdown",
   "metadata": {},
   "source": [
    "We could make a little library for asking for config from this :) First, lets create a mappend for Dictionary."
   ]
  },
  {
   "cell_type": "code",
   "execution_count": 45,
   "metadata": {
    "collapsed": false
   },
   "outputs": [],
   "source": [
    "@mappend.register(dict)\n",
    "def _(a,b):\n",
    "    return {**a, **b}"
   ]
  },
  {
   "cell_type": "markdown",
   "metadata": {},
   "source": [
    "Now we could create a generic function, i.e. askFor:"
   ]
  },
  {
   "cell_type": "code",
   "execution_count": 48,
   "metadata": {
    "collapsed": true
   },
   "outputs": [],
   "source": [
    "def askFor(name):\n",
    "    def getAnswer():\n",
    "        answer = input(name)\n",
    "        return lambda: {name: answer}\n",
    "    return getAnswer"
   ]
  },
  {
   "cell_type": "code",
   "execution_count": 49,
   "metadata": {
    "collapsed": false
   },
   "outputs": [],
   "source": [
    "askAll = mconcat([\n",
    "        askFor('name'),\n",
    "        askFor('age'),\n",
    "        askFor('email')\n",
    "    ])"
   ]
  },
  {
   "cell_type": "code",
   "execution_count": 50,
   "metadata": {
    "collapsed": false
   },
   "outputs": [
    {
     "name": "stdout",
     "output_type": "stream",
     "text": [
      "nameadam\n",
      "age11\n",
      "emaila@b.c\n"
     ]
    }
   ],
   "source": [
    "allAnswers = askAll()"
   ]
  },
  {
   "cell_type": "code",
   "execution_count": 51,
   "metadata": {
    "collapsed": false
   },
   "outputs": [
    {
     "data": {
      "text/plain": [
       "{'age': '11', 'email': 'a@b.c', 'name': 'adam'}"
      ]
     },
     "execution_count": 51,
     "metadata": {},
     "output_type": "execute_result"
    }
   ],
   "source": [
    "allAnswers()"
   ]
  },
  {
   "cell_type": "markdown",
   "metadata": {},
   "source": [
    "To be honest, I mmight have over-done it with nesting functions:"
   ]
  },
  {
   "cell_type": "code",
   "execution_count": 52,
   "metadata": {
    "collapsed": true
   },
   "outputs": [],
   "source": [
    "def askFor(name):\n",
    "    def getAnswer():\n",
    "        answer = input(name)\n",
    "        return {name: answer}\n",
    "    return getAnswer"
   ]
  },
  {
   "cell_type": "code",
   "execution_count": 53,
   "metadata": {
    "collapsed": true
   },
   "outputs": [],
   "source": [
    "askAll = mconcat([\n",
    "        askFor('name'),\n",
    "        askFor('age'),\n",
    "        askFor('email')\n",
    "    ])"
   ]
  },
  {
   "cell_type": "code",
   "execution_count": 54,
   "metadata": {
    "collapsed": false
   },
   "outputs": [
    {
     "name": "stdout",
     "output_type": "stream",
     "text": [
      "namea\n",
      "age11\n",
      "emaila@b.c\n"
     ]
    },
    {
     "data": {
      "text/plain": [
       "{'age': '11', 'email': 'a@b.c', 'name': 'a'}"
      ]
     },
     "execution_count": 54,
     "metadata": {},
     "output_type": "execute_result"
    }
   ],
   "source": [
    "askAll()"
   ]
  },
  {
   "cell_type": "markdown",
   "metadata": {},
   "source": [
    "Now we could abuse the fact, that {} is the mempty in our little monoid, and return it if no prompt happens."
   ]
  },
  {
   "cell_type": "code",
   "execution_count": 56,
   "metadata": {
    "collapsed": false
   },
   "outputs": [],
   "source": [
    "def askFor(name):\n",
    "    def getAnswer():\n",
    "        answer = input(name)\n",
    "        if answer == \"\":\n",
    "            return {}\n",
    "        else: \n",
    "            return {name: answer}\n",
    "    return getAnswer"
   ]
  },
  {
   "cell_type": "code",
   "execution_count": 57,
   "metadata": {
    "collapsed": false
   },
   "outputs": [
    {
     "name": "stdout",
     "output_type": "stream",
     "text": [
      "name\n",
      "age11\n",
      "email1@2.3\n"
     ]
    },
    {
     "data": {
      "text/plain": [
       "{'age': '11', 'email': '1@2.3'}"
      ]
     },
     "execution_count": 57,
     "metadata": {},
     "output_type": "execute_result"
    }
   ],
   "source": [
    "askAll = mconcat([\n",
    "        askFor('name'),\n",
    "        askFor('age'),\n",
    "        askFor('email')\n",
    "    ])\n",
    "askAll()"
   ]
  },
  {
   "cell_type": "markdown",
   "metadata": {},
   "source": [
    "This allow us to easily add defaults :-)"
   ]
  },
  {
   "cell_type": "code",
   "execution_count": 59,
   "metadata": {
    "collapsed": false
   },
   "outputs": [
    {
     "name": "stdout",
     "output_type": "stream",
     "text": [
      "name\n",
      "age11\n",
      "email12\n"
     ]
    },
    {
     "data": {
      "text/plain": [
       "{'age': '11', 'email': '12', 'name': 'adam'}"
      ]
     },
     "execution_count": 59,
     "metadata": {},
     "output_type": "execute_result"
    }
   ],
   "source": [
    "def override(name,value):\n",
    "    return lambda: {name:value}\n",
    "\n",
    "askAll = mconcat([\n",
    "        override('name','adam'),\n",
    "        askFor('name'),\n",
    "        askFor('age'),\n",
    "        askFor('email')\n",
    "    ])\n",
    "askAll()"
   ]
  },
  {
   "cell_type": "markdown",
   "metadata": {},
   "source": [
    "What we could do now, instead of asking for input manually, we could pass in a config string and parse it."
   ]
  },
  {
   "cell_type": "code",
   "execution_count": 63,
   "metadata": {
    "collapsed": true
   },
   "outputs": [],
   "source": [
    "import re\n",
    "config = \"\"\"\n",
    "name:eve\n",
    "age:16\n",
    "dance:swing\n",
    "\"\"\"\n",
    "\n",
    "def parseFor(name):\n",
    "    def getAnswer(config):\n",
    "        m = re.search('(?<='+name+').*', config)\n",
    "        if m == None:\n",
    "            return {}\n",
    "        else: \n",
    "            return {name: m.group(0)}\n",
    "    return getAnswer"
   ]
  },
  {
   "cell_type": "code",
   "execution_count": 64,
   "metadata": {
    "collapsed": false
   },
   "outputs": [
    {
     "data": {
      "text/plain": [
       "{'age': ':16', 'name': ':eve'}"
      ]
     },
     "execution_count": 64,
     "metadata": {},
     "output_type": "execute_result"
    }
   ],
   "source": [
    "parseAll = mconcat([\n",
    "        parseFor('name'),\n",
    "        parseFor('age'),\n",
    "        parseFor('email')\n",
    "    ])\n",
    "\n",
    "parseAll(config)"
   ]
  },
  {
   "cell_type": "markdown",
   "metadata": {},
   "source": [
    "And because we get the whole config, we could parse different things as well."
   ]
  },
  {
   "cell_type": "code",
   "execution_count": 74,
   "metadata": {
    "collapsed": true
   },
   "outputs": [],
   "source": [
    "def getKeys(config):\n",
    "    return {\"keys\": [x.strip() for x in re.split(\":.*\\n\",config) if x.strip()!= \"\"]}"
   ]
  },
  {
   "cell_type": "code",
   "execution_count": 75,
   "metadata": {
    "collapsed": false
   },
   "outputs": [
    {
     "data": {
      "text/plain": [
       "{'age': ':16', 'keys': ['name', 'age', 'dance'], 'name': ':eve'}"
      ]
     },
     "execution_count": 75,
     "metadata": {},
     "output_type": "execute_result"
    }
   ],
   "source": [
    "parseAll = mconcat([\n",
    "        parseFor('name'),\n",
    "        parseFor('age'),\n",
    "        parseFor('email'),\n",
    "        getKeys\n",
    "    ])\n",
    "\n",
    "parseAll(config)"
   ]
  },
  {
   "cell_type": "code",
   "execution_count": 71,
   "metadata": {
    "collapsed": false
   },
   "outputs": [
    {
     "data": {
      "text/plain": [
       "['name', 'age', 'dance']"
      ]
     },
     "execution_count": 71,
     "metadata": {},
     "output_type": "execute_result"
    }
   ],
   "source": [
    "[x.strip() for x in re.split(\":.*\\n\",config) if x.strip()!= \"\"]"
   ]
  }
 ],
 "metadata": {
  "kernel_info": {
   "name": "python3"
  },
  "kernelspec": {
   "display_name": "Python 3",
   "language": "python",
   "name": "python3"
  },
  "language_info": {
   "codemirror_mode": {
    "name": "ipython",
    "version": 3
   },
   "file_extension": ".py",
   "mimetype": "text/x-python",
   "name": "python",
   "nbconvert_exporter": "python",
   "pygments_lexer": "ipython3",
   "version": "3.5.1"
  }
 },
 "nbformat": 4,
 "nbformat_minor": 0
}
