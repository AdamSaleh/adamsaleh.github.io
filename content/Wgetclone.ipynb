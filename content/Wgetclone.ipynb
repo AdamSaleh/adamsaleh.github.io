{
 "cells": [
  {
   "cell_type": "markdown",
   "metadata": {},
   "source": [
    "# The lousy vanilla nodejs wget clone\n",
    "\n",
    "This project should serve as a helpful learning tool to familiarize yourself with\n",
    "nodejs. This is why we won't use any libraries in this project.\n",
    "\n",
    "We want to be able download a file and store it on the disk.\n",
    "\n",
    "Main resources would be\n",
    "\n",
    "* https://nodejs.org/dist/latest-v6.x/docs/api/all.html\n",
    "* https://developer.mozilla.org/en-US/docs/Web/JavaScript/Reference\n",
    "\n",
    "Javascript is an evolving language, so be sure to check http://node.green/ as well. There is a config option --harmony, that enables features currently in staging. We won't be using those.\n"
   ]
  },
  {
   "cell_type": "code",
   "execution_count": 2,
   "metadata": {
    "collapsed": false,
    "outputExpanded": false
   },
   "source": [
    "process.version"
   ],
   "outputs": [
    {
     "execution_count": 2,
     "data": {
      "text/plain": [
       "'v6.9.2'"
      ]
     },
     "metadata": {},
     "output_type": "execute_result"
    }
   ]
  }
 ],
 "nbformat": 4,
 "nbformat_minor": 0,
 "metadata": {
  "kernelspec": {
   "name": "javascript",
   "language": "javascript",
   "display_name": "Javascript (Node.js)"
  },
  "kernel_info": {
   "name": "javascript"
  },
  "language_info": {
   "name": "javascript",
   "version": "6.9.2",
   "mimetype": "application/javascript",
   "file_extension": ".js"
  }
 }
}