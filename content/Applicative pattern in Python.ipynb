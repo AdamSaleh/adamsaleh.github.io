{
 "cells": [
  {
   "cell_type": "markdown",
   "metadata": {
    "id": "de6fdf12-32dd-4725-9819-b37b0418222b",
    "focus": false,
    "outputExpanded": false
   },
   "source": [
    "# Applicative Functors?\n",
    "\nApplicative functors are, let me say, a desin pattern, popular in typed functional languages. Mostly Haskell, because of their roots in cateory-theory and that sounds like a thing people writing Haskell like. Based on conference talks Scala people are trying to use this pattern as well. So my question would be, is this still usefull even if I don't have a static type system? "
   ]
  },
  {
   "cell_type": "markdown",
   "metadata": {
    "id": "1100a234-c53d-4407-a4d3-fccb1ef66b07",
    "focus": false,
    "outputExpanded": false
   },
   "source": [
    "# Why would anybody deal with Category Theory in programming?\n",
    "\n",
    "Well, to understand that, you need to imagine yourself in the shoes of a beginner haskell programmer. You have your awesome functional language, and really like the predictability.\n",
    "\n",
    "* you can't change values\n",
    "* no null/nil/None/undefined or any such nonsense\n",
    "* this means there is no global state, awesome\n",
    "* all functions are pure, stateless, defined only by relation of inputs to outputs, no I/O\n",
    " * basically the most testable thing ever\n",
    "\n",
    "And all of this is awesome, but after a while you realize that not having I/O kind-of sucks, and thar what you have is basically a really tricked-out command-line calculator. (At least that was my experience learning Haskell at my uni)\n",
    "\n",
    "The question then became, how do we keep the awesome things about Haskell, like no Null-pointer exceptions, testable stateless functions, but add new things on top of it. What if it makes sense to have global variable, I/O, or return null? If want to build i.e. a database, all of these look useful. \n",
    "\n",
    "What then happened was that Philip Wadler read a paper about using monads from category theory as interface to chain I/O operations. And he implemented this as the base for I/O in haskell. And 25 years later we see monadic interfaces in C# Linq and Tasks, Java Streams and almost in Javascript Promise.\n",
    "\n",
    "I do want to explain wat category theory *is* and how does it map to programming.\n",
    "\n",
    "# Introducing Functor\n",
    "\n",
    "Category theory is usually concerned with relation between diferent categories, but for programming, we are usually concerned only with category of types and the unary functions that convert between them.\n",
    "\n",
    "When programmer talks about relarion between two categories,\n",
    "usually one will basically be his favourite language and second one\n",
    "some fancy extension to that language.\n",
    "\n",
    "Like said original Haskell and Haskell with I/O.\n",
    "\n",
    "So what in practice is a fuctor?\n",
    "\n",
    "In general, anything where you can define a sensible `map` operation.\n",
    "For example:\n",
    "\n",
    "* list\n",
    "* stream\n",
    "* generator\n",
    "* tree\n",
    "\n",
    "Sensible for list means, that it shouldn't matter whether you\n",
    "strs.map(trim).map(uppercase)\n",
    "\n",
    "or\n",
    "\n",
    "strs.map(lambda x: uppercase(trim(x)))\n",
    "\n",
    "# Do you even lift?\n",
    "\n",
    "There is a recuring concept, where we use some bit of information about\n",
    "our datatype to convert functions that know nothig about it, to work with it.\n",
    "\n",
    "We call this *lifting*.\n",
    "\n",
    "For example, because I know that lists have map function, I could lift i.e. `str` to work on lists of things.\n"
   ]
  },
  {
   "cell_type": "code",
   "execution_count": 11,
   "metadata": {
    "collapsed": false,
    "id": "1ecdf7b5-e436-46ee-914a-f8cd3646b1a0",
    "focus": true,
    "outputExpanded": false
   },
   "outputs": [],
   "source": [
    "def lift(fn):\n",
    "    def liftedfn(x):\n",
    "      return list(map(fn,x))\n",
    "    return liftedfn "
   ]
  },
  {
   "cell_type": "code",
   "execution_count": 12,
   "metadata": {
    "collapsed": false,
    "focus": false,
    "id": "dec0bd55-0da9-4da3-b359-75269144686c",
    "outputExpanded": false
   },
   "outputs": [
    {
     "execution_count": 12,
     "data": {
      "text/plain": [
       "['1', '2', '3']"
      ]
     },
     "metadata": {},
     "output_type": "execute_result"
    }
   ],
   "source": [
    "lifted_str = lift(str)\n",
    "lifted_str([1,2,3])"
   ]
  },
  {
   "cell_type": "markdown",
   "metadata": {},
   "source": [
    "# What if I have multiple parameters?\n",
    "\n",
    "Mapping only single param functions can be limiting. It would be cool if `lift` would could work on function with arbitrary many parameters.\n",
    "\n",
    "Could *currying* rescue us?\n",
    "\n",
    "Currying is a concept, where instead of passing in all the params into the function at once, you pass in the first param and grt a new function as a result. This function accepts the second param and returns a function that accepts the third, and by now you should be getting a picture.\n",
    "\nOr maybe I should show an example.Lets invent a nontrivial 3 arg function, we will call it erm, `window` (because slice was taken)."
   ]
  },
  {
   "cell_type": "code",
   "execution_count": 20,
   "metadata": {
    "collapsed": false
   },
   "source": [
    "from functools import partial\n",
    "\n",
    "def window(begin,end,array):\n",
    "    return array[begin:end]\n",
    "\nwindow(2,4,[1,2,3,4,5])"
   ],
   "outputs": [
    {
     "execution_count": 20,
     "data": {
      "text/plain": [
       "[3, 4]"
      ]
     },
     "metadata": {},
     "output_type": "execute_result"
    }
   ]
  },
  {
   "cell_type": "markdown",
   "metadata": {},
   "source": [
    "If this function were curried, it would look like this:"
   ]
  },
  {
   "cell_type": "code",
   "execution_count": 21,
   "metadata": {
    "collapsed": false
   },
   "source": [
    "def curried_window(begin):\n",
    "    return lambda end: (lambda array: array[begin:end])\n",
    "curried_window(2)(4)([1,2,3,4,5])"
   ],
   "outputs": [
    {
     "execution_count": 21,
     "data": {
      "text/plain": [
       "[3, 4]"
      ]
     },
     "metadata": {},
     "output_type": "execute_result"
    }
   ]
  },
  {
   "cell_type": "markdown",
   "metadata": {},
   "source": [
    "Some functional languages have this as a default. The nice thing about that is, that you can quickly create more specific fuctions, without the need to wrap them in new function definitions.\n",
    "\nAnd this seems to solve out problem with multi param function, because sudenly, everything is a single param function, if you squint hard enough :)"
   ]
  }
 ],
 "metadata": {
  "kernelspec": {
   "name": "python3",
   "language": "python",
   "display_name": "Python 3"
  },
  "language_info": {
   "name": "python",
   "codemirror_mode": {
    "name": "ipython",
    "version": 3
   },
   "file_extension": ".py",
   "mimetype": "text/x-python",
   "version": "3.5.2",
   "pygments_lexer": "ipython3",
   "nbconvert_exporter": "python"
  },
  "kernel_info": {
   "name": "python3"
  }
 },
 "nbformat": 4,
 "nbformat_minor": 1
}