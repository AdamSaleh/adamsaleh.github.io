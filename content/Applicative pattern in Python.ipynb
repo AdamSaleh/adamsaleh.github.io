{
 "cells": [
  {
   "cell_type": "markdown",
   "metadata": {
    "id": "de6fdf12-32dd-4725-9819-b37b0418222b",
    "focus": false,
    "outputExpanded": false
   },
   "source": [
    "# Applicative Functors?\n",
    "\nApplicative functors are, let me say, a desin pattern, popular in typed functional languages. Mostly Haskell, because of their roots in cateory-theory and that sounds like a thing people writing Haskell like. Based on conference talks Scala people are trying to use this pattern as well. So my question would be, is this still usefull even if I don't have a static type system? "
   ],
   "outputs": []
  },
  {
   "cell_type": "markdown",
   "metadata": {
    "id": "1100a234-c53d-4407-a4d3-fccb1ef66b07",
    "focus": false,
    "outputExpanded": false
   },
   "source": [
    "# Why would anybody deal with Category Theory in programming?\n",
    "\n",
    "Well, to understand that, you need to imagine yourself in the shoes of a beginner haskell programmer. You have your awesome functional language, and really like the predictability.\n",
    "\n",
    "* you can't change values\n",
    "* no null/nil/None/undefined or any such nonsense\n",
    "* this means there is no global state, awesome\n",
    "* all functions are pure, stateless, defined only by relation of inputs to outputs, no I/O\n",
    " * basically the most testable thing ever\n",
    "\n",
    "And all of this is awesome, but after a while you realize that not having I/O kind-of sucks, and thar what you have is basically a really tricked-out command-line calculator. (At least that was my experience learning Haskell at my uni)\n",
    "\n",
    "The question then became, how do we keep the awesome things about Haskell, like no Null-pointer exceptions, testable stateless functions, but add new things on top of it. What if it makes sense to have global variable, I/O, or return null? If want to build i.e. a database, all of these look useful. \n",
    "\n",
    "What then happened was that Philip Wadler read a paper about using monads from category theory as interface to chain I/O operations. And he implemented this as the base for I/O in haskell. And 25 years later we see monadic interfaces in C# Linq and Tasks, Java Streams and almost in Javascript Promise.\n",
    "\n",
    "I would like to show a few things out of this algebraic cookbook :)\n",
    "\n",
    "# Introducing Functor\n",
    "\n",
    "Category theory is usually concerned with relation between diferent categories, but for programming, we are usually concerned only with category of types and the unary functions that convert between them.\n",
    "\n",
    "When programmer talks about relarion between two categories,\n",
    "usually one will basically be his favourite language and second one\n",
    "some fancy extension to that language.\n",
    "\n",
    "Like said original Haskell and Haskell with I/O.\n",
    "\n",
    "So what in practice is a fuctor?\n",
    "\n",
    "In general, anything where you can define a sensible `map` operation.\n",
    "For example:\n",
    "\n",
    "* list\n",
    "* stream\n",
    "* generator\n",
    "* tree\n",
    "\n",
    "Sensible for list means, that it shouldn't matter whether you\n",
    "strs.map(trim).map(uppercase)\n",
    "\n",
    "or\n",
    "\n",
    "strs.map(lambda x: uppercase(trim(x)))\n",
    "\n",
    "# Do you even lift?\n",
    "\n",
    "There is a recuring concept, where we use some bit of information about\n",
    "our datatype to convert functions that know nothig about it, to work with it.\n",
    "\n",
    "We call this *lifting*.\n",
    "\n",
    "For example, because I know that lists have map function, I could lift i.e. `str` to work on lists of things.\n"
   ],
   "outputs": []
  },
  {
   "cell_type": "code",
   "execution_count": 1,
   "metadata": {
    "collapsed": false,
    "id": "1ecdf7b5-e436-46ee-914a-f8cd3646b1a0",
    "focus": true,
    "outputExpanded": false
   },
   "outputs": [],
   "source": [
    "def lift(fn):\n",
    "    def liftedfn(x):\n",
    "      return list(map(fn,x))\n",
    "    return liftedfn "
   ]
  },
  {
   "cell_type": "code",
   "execution_count": 2,
   "metadata": {
    "collapsed": false,
    "focus": false,
    "id": "dec0bd55-0da9-4da3-b359-75269144686c",
    "outputExpanded": false
   },
   "outputs": [],
   "source": [
    "lifted_str = lift(str)\n",
    "lifted_str([1,2,3])"
   ]
  },
  {
   "cell_type": "markdown",
   "metadata": {
    "outputExpanded": false
   },
   "source": [
    "# What if I have multiple parameters?\n",
    "\n",
    "Mapping only single param functions can be limiting. It would be cool if `lift` would could work on function with arbitrary many parameters.\n",
    "\n",
    "Could *currying* rescue us?\n",
    "\n",
    "Currying is a concept, where instead of passing in all the params into the function at once, you pass in the first param and grt a new function as a result. This function accepts the second param and returns a function that accepts the third, and by now you should be getting a picture.\n",
    "\nOr maybe I should show an example.Lets invent a nontrivial 3 arg function, we will call it erm, `window` (because slice was taken)."
   ],
   "outputs": []
  },
  {
   "cell_type": "code",
   "execution_count": 3,
   "metadata": {
    "collapsed": false,
    "outputExpanded": false
   },
   "source": [
    "from functools import partial\n",
    "\n",
    "def window(begin,end,array):\n",
    "    return array[begin:end]\n",
    "\nwindow(2,4,[1,2,3,4,5])"
   ],
   "outputs": []
  },
  {
   "cell_type": "markdown",
   "metadata": {
    "outputExpanded": false
   },
   "source": [
    "If this function were curried, it would look like this:"
   ],
   "outputs": []
  },
  {
   "cell_type": "code",
   "execution_count": 4,
   "metadata": {
    "collapsed": false,
    "outputExpanded": false
   },
   "source": [
    "def curried_window(begin):\n",
    "    return lambda end: (lambda array: array[begin:end])\n",
    "curried_window(2)(4)([1,2,3,4,5])"
   ],
   "outputs": []
  },
  {
   "cell_type": "markdown",
   "metadata": {
    "outputExpanded": false
   },
   "source": [
    "Some functional languages have this as a default. The nice thing about that is, that you can quickly create more specific fuctions, without the need to wrap them in new function definitions.\n",
    "\nAnd this seems to solve out problem with multi param function, because sudenly, everything is a single param function, if you squint hard enough :)"
   ],
   "outputs": []
  },
  {
   "cell_type": "code",
   "execution_count": 5,
   "metadata": {
    "collapsed": false,
    "outputExpanded": false
   },
   "source": [
    "list(map(curried_window,[1,2,3,4]))"
   ],
   "outputs": []
  },
  {
   "cell_type": "markdown",
   "metadata": {
    "outputExpanded": false
   },
   "source": [
    "Ok, as you can see, currying won't save us just yet, because even though we can use map with them,\n",
    "result is kind-of useless list of functions. We would need to somehow be able to *apply* this list of functions on a list of values. "
   ],
   "outputs": []
  },
  {
   "cell_type": "code",
   "execution_count": 14,
   "metadata": {
    "collapsed": false,
    "outputExpanded": false
   },
   "source": [
    "def apply(lfn,lx):\n",
    "    return [fn(x) for fn in lfn for x in lx]\n",
    "\n\n",
    "a0 = map(curried_window,[1,2])\n",
    "a1 = apply(a0,[5,6])\n",
    "a2 = apply(a1,[\n",
    "    [1,2,3,4,5,6],\n",
    "    [1,2,3,4,5,6]\n",
    "              ])\n",
    "\na2"
   ],
   "outputs": []
  },
  {
   "cell_type": "markdown",
   "metadata": {
    "outputExpanded": false
   },
   "source": [
    "Yay, this seems to have worked :)\n",
    "\n",
    "Now we can try to combine currying with *apply* and create a propper lift function :)\n"
   ],
   "outputs": []
  },
  {
   "cell_type": "code",
   "execution_count": 10,
   "metadata": {
    "collapsed": false,
    "outputExpanded": false
   },
   "source": [
    "def curry(n, fn):\n",
    "    if n == 1:\n",
    "        return fn\n",
    "    if n == 2:\n",
    "        return lambda x:partial(fn,x)\n",
    "    else:\n",
    "        return lambda x:curry(n-1,partial(fn,x))\n",
    "    \n",
    "def lift(fn):\n",
    "    def lifted(arg0, *args):\n",
    "        result = map(curry(len(args)+1, fn),arg0)\n",
    "        for a in args:\n",
    "            result = apply(result, a)\n",
    "        return result\n",
    "    return lifted"
   ],
   "outputs": []
  },
  {
   "cell_type": "code",
   "execution_count": 17,
   "metadata": {
    "collapsed": false,
    "outputExpanded": false
   },
   "source": [
    "liftedw = lift(window)\n",
    "liftedw([1,2], [5,6], [\n",
    "    [1,2,3,4,5,6],\n",
    "    [1,2,3,4,5,6],\n",
    "])"
   ],
   "outputs": []
  },
  {
   "cell_type": "markdown",
   "metadata": {
    "outputExpanded": false
   },
   "source": [
    "So, why to through all of this trouble to get the equivalent of i.e:"
   ],
   "outputs": []
  },
  {
   "cell_type": "code",
   "execution_count": 16,
   "metadata": {
    "collapsed": false,
    "outputExpanded": false
   },
   "source": [
    "[window(x,y,z) \n",
    " for x in [1,2] \n",
    " for y in [5,6] \n",
    " for z in [[1,2,3,4,5,6],[1,2,3,4,5,6]]]"
   ],
   "outputs": []
  },
  {
   "cell_type": "markdown",
   "metadata": {
    "outputExpanded": false
   },
   "source": [
    "I have two reasons:\n",
    "* We can change the behavior of lift for lists if we need to\n",
    "* We could use this pattern for things that are not iterable :)\n",
    "\n",
    "Right now the result of the function call would be a list of results for all of the permutations.\n",
    "We might want to do a a zip of them instead."
   ],
   "outputs": []
  },
  {
   "cell_type": "code",
   "execution_count": 18,
   "metadata": {
    "collapsed": false,
    "outputExpanded": false
   },
   "source": [
    "def apply(lfn,lx):\n",
    "    return [fn(x) for fn, x in zip(lfn, lx)]\n",
    "\n",
    "liftedw([1,2], [5,6], [\n",
    "    [1,2,3,4,5,6],\n",
    "    [1,2,3,4,5,6],\n",
    "])"
   ],
   "outputs": []
  },
  {
   "cell_type": "markdown",
   "metadata": {
    "outputExpanded": false
   },
   "source": [
    "So what about some other uses? One I really like is using applicatives for validation.\n",
    "\n",
    "First, let me harp on a thing I don't like about *exceptions*. Once you throw it,\n",
    "you are aborting the execution. I especially dislike it, if somebody uses exceptions\n",
    "to validate function params, i.e.:"
   ],
   "outputs": []
  },
  {
   "cell_type": "code",
   "execution_count": 19,
   "metadata": {
    "collapsed": false,
    "outputExpanded": false
   },
   "source": [
    "def validated_window(begin, end, arr):\n",
    "    if begin < 0:\n",
    "        raise Exception(\"Begin was negative\")\n",
    "    if end < 1:\n",
    "        raise Exception(\"End was not positive\")\n",
    "    return window(begin,end,arr)\n",
    "\nvalidated_window(-1,-1,[])"
   ],
   "outputs": []
  },
  {
   "cell_type": "markdown",
   "metadata": {
    "outputExpanded": false
   },
   "source": [
    "Exception only told me about the frst problem. But with applicative pattern, I can rewrite it in such way, that I would get all of them.\n",
    "\nI will define two validating functions:"
   ],
   "outputs": []
  },
  {
   "cell_type": "code",
   "execution_count": 3,
   "metadata": {
    "collapsed": false,
    "outputExpanded": false
   },
   "source": [
    "def valid_begin(begin):\n",
    "    return begin if begin >= 0 else Exception(\"Begin was negative\")\n",
    "\n",
    "def valid_end(end):\n",
    "    return end if end > 0 else Exception(\"End was not positive\")"
   ],
   "outputs": []
  },
  {
   "cell_type": "markdown",
   "metadata": {
    "outputExpanded": false
   },
   "source": [
    "Now, let me define how would I like to write the validated function."
   ],
   "outputs": []
  },
  {
   "cell_type": "code",
   "execution_count": 6,
   "metadata": {
    "collapsed": false,
    "outputExpanded": false
   },
   "source": [
    "def validated_window(begin, end, arr):    \n",
    "    return liftedw(valid_end(begin),valid_end(end),arr)"
   ],
   "outputs": []
  },
  {
   "cell_type": "markdown",
   "metadata": {
    "outputExpanded": false
   },
   "source": [
    "Now the interesting part of the puzzle is to redefine applyy once again, from thing that processes values in arrays, to thing that can deal with values that might be useless Exceptions."
   ],
   "outputs": []
  },
  {
   "cell_type": "code",
   "execution_count": 7,
   "metadata": {
    "collapsed": false,
    "outputExpanded": false
   },
   "source": [
    "def apply(lfn,lx):\n",
    "    if isinstance(lfn,Exception) and isinstance(lx,Exception):\n",
    "        return Exception(*lfn.args,*lx.args)\n",
    "    if isinstance(lfn,Exception):\n",
    "        return lfn    \n",
    "    if isinstance(lx,Exception):\n",
    "        return lx\n",
    "    return lfn(lx)\n",
    "    "
   ],
   "outputs": []
  },
  {
   "cell_type": "markdown",
   "metadata": {},
   "source": [
    "As you can see, there are 3 cases to consider:\n",
    "* if both *fn* and *x* contain exceptions, I return agregate exception\n",
    "* if *fn* or *x* contain exceptions, I return the exception\n",
    "* if none of these happen, I can return *fn(x)*"
   ]
  },
  {
   "cell_type": "code",
   "execution_count": 8,
   "metadata": {
    "collapsed": false,
    "outputExpanded": false
   },
   "source": [
    "\nvalidated_window(-1,-1,[])"
   ],
   "outputs": []
  },
  {
   "cell_type": "markdown",
   "metadata": {},
   "source": [
    "In similar fashion we could try to solve None. A sensible behavior might be, "
   ]
  },
  {
   "cell_type": "code",
   "execution_count": null,
   "metadata": {
    "collapsed": false
   },
   "source": [],
   "outputs": []
  },
  {
   "cell_type": "code",
   "execution_count": null,
   "metadata": {
    "collapsed": false,
    "outputExpanded": false
   },
   "source": [],
   "outputs": []
  }
 ],
 "metadata": {
  "kernelspec": {
   "name": "python3",
   "language": "python",
   "display_name": "Python 3"
  },
  "language_info": {
   "mimetype": "text/x-python",
   "codemirror_mode": {
    "name": "ipython",
    "version": 3
   },
   "nbconvert_exporter": "python",
   "pygments_lexer": "ipython3",
   "name": "python",
   "file_extension": ".py",
   "version": "3.5.2"
  },
  "kernel_info": {
   "name": "python3"
  }
 },
 "nbformat": 4,
 "nbformat_minor": 1
}