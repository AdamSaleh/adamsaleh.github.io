{
 "cells": [
  {
   "cell_type": "markdown",
   "metadata": {},
   "source": [
    "# Applicative Functors?\n",
    "\n",
    "Applicative functors are, let me say, a desin pattern, popular in typed functional languages. Mostly Haskell, because of their roots in cateory-theory and that sounds like a thing people writing Haskell like. Based on conference talks Scala people are trying to use this pattern as well. So my question would be, is this still usefull even if I don't have a static type system? "
   ]
  },
  {
   "cell_type": "markdown",
   "metadata": {},
   "source": [
    "# Why would anybody deal with Category Theory in programming?\n",
    "\n",
    "Well, to understand that, you need to imagine yourself in the shoes of a beginner haskell programmer. You have your awesome functional language, and really like the predictability.\n",
    "\n",
    "* you can't change values\n",
    "* no null/nil/None/undefined or any such nonsense\n",
    "* this means there is no global state, awesome\n",
    "* all functions are pure, stateless, defined only by relation of inputs to outputs, no I/O\n",
    " * basically the most testable thing ever\n",
    "\n",
    "And all of this is awesome, but after a while you realize that not having I/O kind-of sucks, and thar what you have is basically a really tricked-out command-line calculator. (At least that was my experience learning Haskell at my uni)\n",
    "\n",
    "The question then became, how do we keep the awesome things about Haskell, like no Null-pointer exceptions, testable stateless functions, but add new things on top of it. What if it makes sense to have global variable, I/O, or return null? If want to build i.e. a database, all of these look useful. \n",
    "\n",
    "What then happened was that Philip Wadler read "
   ]
  },
  {
   "cell_type": "code",
   "execution_count": 9,
   "metadata": {
    "collapsed": false
   },
   "outputs": [
    {
     "data": {
      "text/plain": [
       "[1, 2, 4]"
      ]
     },
     "execution_count": 9,
     "metadata": {},
     "output_type": "execute_result"
    }
   ],
   "source": [
    "[1,2,4]"
   ]
  }
 ],
 "metadata": {
  "kernelspec": {
   "display_name": "Python 3",
   "language": "python",
   "name": "python3"
  },
  "language_info": {
   "codemirror_mode": {
    "name": "ipython",
    "version": 3
   },
   "file_extension": ".py",
   "mimetype": "text/x-python",
   "name": "python",
   "nbconvert_exporter": "python",
   "pygments_lexer": "ipython3",
   "version": "3.4.3"
  }
 },
 "nbformat": 4,
 "nbformat_minor": 1
}
