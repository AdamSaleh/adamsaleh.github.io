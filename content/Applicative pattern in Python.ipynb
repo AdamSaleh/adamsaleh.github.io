{
 "cells": [
  {
   "cell_type": "markdown",
   "metadata": {
    "focus": false,
    "id": "de6fdf12-32dd-4725-9819-b37b0418222b",
    "outputExpanded": false
   },
   "source": [
    "# Applicative Functors?\n",
    "\n",
    "Applicative functors are, let me say, a desin pattern, popular in typed functional languages. Mostly Haskell, because of their roots in cateory-theory and that sounds like a thing people writing Haskell like. Based on conference talks Scala people are trying to use this pattern as well. So my question would be, is this still usefull even if I don't have a static type system? "
   ]
  },
  {
   "cell_type": "markdown",
   "metadata": {
    "focus": false,
    "id": "1100a234-c53d-4407-a4d3-fccb1ef66b07",
    "outputExpanded": false
   },
   "source": [
    "# Why would anybody deal with Category Theory in programming?\n",
    "\n",
    "Well, to understand that, you need to imagine yourself in the shoes of a beginner haskell programmer. You have your awesome functional language, and really like the predictability.\n",
    "\n",
    "* you can't change values\n",
    "* no null/nil/None/undefined or any such nonsense\n",
    "* this means there is no global state, awesome\n",
    "* all functions are pure, stateless, defined only by relation of inputs to outputs, no I/O\n",
    " * basically the most testable thing ever\n",
    "\n",
    "And all of this is awesome, but after a while you realize that not having I/O kind-of sucks, and thar what you have is basically a really tricked-out command-line calculator. (At least that was my experience learning Haskell at my uni)\n",
    "\n",
    "The question then became, how do we keep the awesome things about Haskell, like no Null-pointer exceptions, testable stateless functions, but add new things on top of it. It often makes sense to have global variable, I/O, or return null. If want to build i.e. a database, all of these look useful. \n",
    "\n",
    "What then happened was that Philip Wadler read a paper about using monads from category theory as interface to chain I/O operations. And he implemented this as the base for I/O in haskell. And 25 years later we see monadic interfaces in C# Linq and Tasks, Java Streams and almost in Javascript Promise.\n",
    "\n",
    "I would like to show few more things out of this algebraic cookbook :) \n",
    "\n",
    "# Who should read this?\n",
    "\n",
    "Anybody who is interested with using algebraic design patterns in Python.\n",
    "I have three kinds of people in mind as my target audience.\n",
    "\n",
    "* Me :-) Lets be clear, similiar to many monad tutorials, this is mostly a record for my future self, to remind me that I once understood something about this. \n",
    "* People familliar with these concepts in haskell, wanting to see them in dynamically typed language like Python\n",
    "* People interested in these algebraic patterns that know Pthon and don't have resources to learn i.e. haskell.\n",
    "\n",
    "If you are somebody interested, but wants to see these in haskell rather than python, go read [Bartosz Milewski's Programming Cafe](https://bartoszmilewski.com/), or [haskellforall by Gabriel Gonzalez](http://www.haskellforall.com/).\n",
    "\n",
    "As with the previous article, some of my examples will be attempts to translate some articles about haskell to python :)\n",
    "\n",
    "# Introducing Functor\n",
    "\n",
    "Category theory is usually concerned with relation between diferent categories, but for programming, we are usually concerned only with category of types and the unary functions that convert between them.\n",
    "\n",
    "When programmer talks about relarion between two categories,\n",
    "usually one will basically be his favourite language and second one\n",
    "some fancy extension to that language.\n",
    "\n",
    "Like said original Haskell and Haskell with I/O.\n",
    "\n",
    "So what in practice is a fuctor?\n",
    "\n",
    "In general, anything where you can define a sensible `map` operation.\n",
    "For example:\n",
    "\n",
    "* list\n",
    "* stream\n",
    "* generator\n",
    "* tree\n",
    "\n",
    "Sensible for list means, that it shouldn't matter whether you\n",
    "strs.map(trim).map(uppercase)\n",
    "\n",
    "or\n",
    "\n",
    "strs.map(lambda x: uppercase(trim(x)))\n",
    "\n",
    "# Do you even lift?\n",
    "\n",
    "There is a recuring concept, where we use some bit of information about\n",
    "our datatype to convert functions that know nothig about it, to work with it.\n",
    "\n",
    "We call this *lifting*.\n",
    "\n",
    "For example, because I know that lists have map function, I could lift i.e. `str` to work on lists of things.\n"
   ]
  },
  {
   "cell_type": "code",
   "execution_count": null,
   "metadata": {
    "collapsed": true,
    "focus": true,
    "id": "1ecdf7b5-e436-46ee-914a-f8cd3646b1a0",
    "outputExpanded": false
   },
   "outputs": [],
   "source": [
    "def lift(fn):\n",
    "    def liftedfn(x):\n",
    "      return list(map(fn,x))\n",
    "    return liftedfn "
   ]
  },
  {
   "cell_type": "code",
   "execution_count": null,
   "metadata": {
    "collapsed": true,
    "focus": false,
    "id": "dec0bd55-0da9-4da3-b359-75269144686c",
    "outputExpanded": false
   },
   "outputs": [],
   "source": [
    "lifted_str = lift(str)\n",
    "lifted_str([1,2,3])"
   ]
  },
  {
   "cell_type": "markdown",
   "metadata": {
    "outputExpanded": false
   },
   "source": [
    "# Category theory!\n",
    "\n",
    "This idea of translating objects from one domain to another is at the core of the mathematical subject of category theory. \n",
    "\n",
    "Category in mathemathics is defined by three things:\n",
    "* collection of objects\n",
    "* collection of possible transformations between these objects, called morphisms\n",
    "* if we can transform object X to Y, and we can transform object Y to Z, there needs to be transformation from A to C in our transformation collection\n",
    "\n",
    "You could draw a category using upper-case letters for objects, and arrows to signify possible transformations.\n",
    "\n",
    "![Category](https://upload.wikimedia.org/wikipedia/commons/e/ef/Commutative_diagram_for_morphism.svg)\n",
    "\n",
    "Functor is then mapping between categories. On the image you can see a category of red objects, with morphisms $f$, $g$ and three identity morphisms (i.e. arrows that transform and object to itself) and a functor $F$ that *lifts* the transformations from red category, to green, where there are only two objects.\n",
    "\n",
    "![Functor](https://upload.wikimedia.org/wikibooks/en/3/36/Functor.png) "
   ]
  },
  {
   "cell_type": "markdown",
   "metadata": {
    "outputExpanded": false
   },
   "source": [
    "# What if I have multiple parameters?\n",
    "\n",
    "Mapping only single param functions can be limiting. It would be cool if `lift` would could work on function with arbitrary many parameters.\n",
    "\n",
    "Could *currying* rescue us?\n",
    "\n",
    "Currying is a concept, where instead of passing in all the params into the function at once, you pass in the first param and grt a new function as a result. This function accepts the second param and returns a function that accepts the third, and by now you should be getting a picture.\n",
    "\n",
    "Or maybe I should show an example.Lets invent a nontrivial 3 arg function, we will call it erm, `window` (because slice was taken)."
   ]
  },
  {
   "cell_type": "code",
   "execution_count": 3,
   "metadata": {
    "outputExpanded": false
   },
   "outputs": [
    {
     "data": {
      "text/plain": [
       "[3, 4]"
      ]
     },
     "execution_count": 3,
     "metadata": {},
     "output_type": "execute_result"
    }
   ],
   "source": [
    "from functools import partial\n",
    "\n",
    "def window(begin,end,array):\n",
    "    return array[begin:end]\n",
    "\n",
    "window(2,4,[1,2,3,4,5])"
   ]
  },
  {
   "cell_type": "markdown",
   "metadata": {
    "outputExpanded": false
   },
   "source": [
    "If this function were curried, it would look like this:"
   ]
  },
  {
   "cell_type": "code",
   "execution_count": null,
   "metadata": {
    "collapsed": true,
    "outputExpanded": false
   },
   "outputs": [],
   "source": [
    "def curried_window(begin):\n",
    "    return lambda end: (lambda array: array[begin:end])\n",
    "curried_window(2)(4)([1,2,3,4,5])"
   ]
  },
  {
   "cell_type": "markdown",
   "metadata": {
    "outputExpanded": false
   },
   "source": [
    "Some functional languages have this as a default. The nice thing about that is, that you can quickly create more specific fuctions, without the need to wrap them in new function definitions.\n",
    "\n",
    "And this seems to solve out problem with multi param function, because sudenly, everything is a single param function, if you squint hard enough :)"
   ]
  },
  {
   "cell_type": "code",
   "execution_count": null,
   "metadata": {
    "collapsed": true,
    "outputExpanded": false
   },
   "outputs": [],
   "source": [
    "list(map(curried_window,[1,2,3,4]))"
   ]
  },
  {
   "cell_type": "markdown",
   "metadata": {
    "outputExpanded": false
   },
   "source": [
    "Ok, as you can see, currying won't save us just yet, because even though we can use map with them,\n",
    "result is kind-of useless list of functions. We would need to somehow be able to *apply* this list of functions on a list of values. "
   ]
  },
  {
   "cell_type": "code",
   "execution_count": null,
   "metadata": {
    "collapsed": true,
    "outputExpanded": false
   },
   "outputs": [],
   "source": [
    "def apply(lfn,lx):\n",
    "    return [fn(x) for fn in lfn for x in lx]\n",
    "\n",
    "\n",
    "a0 = map(curried_window,[1,2])\n",
    "a1 = apply(a0,[5,6])\n",
    "a2 = apply(a1,[\n",
    "    [1,2,3,4,5,6],\n",
    "    [1,2,3,4,5,6]\n",
    "              ])\n",
    "\n",
    "a2"
   ]
  },
  {
   "cell_type": "markdown",
   "metadata": {
    "outputExpanded": false
   },
   "source": [
    "Yay, this seems to have worked :)\n",
    "\n",
    "Now we can try to combine currying with *apply* and create a propper lift function :)\n"
   ]
  },
  {
   "cell_type": "code",
   "execution_count": 5,
   "metadata": {
    "collapsed": true,
    "outputExpanded": false
   },
   "outputs": [],
   "source": [
    "def curry(n, fn):\n",
    "    if n == 1:\n",
    "        return fn\n",
    "    if n == 2:\n",
    "        return lambda x:partial(fn,x)\n",
    "    else:\n",
    "        return lambda x:curry(n-1,partial(fn,x))\n",
    "    \n",
    "def lift(fn):\n",
    "    def lifted(arg0, *args):\n",
    "        result = map(curry(len(args)+1, fn),arg0)\n",
    "        for a in args:\n",
    "            result = apply(result, a)\n",
    "        return result\n",
    "    return lifted"
   ]
  },
  {
   "cell_type": "markdown",
   "metadata": {
    "outputExpanded": false
   },
   "source": [
    "There is one more assumption we made, when creating this lift function.\n",
    "On the line where we state:\n",
    "```\n",
    "result = map(curry(len(args)+1, fn),arg0)\n",
    "```\n",
    "we assume that you can use `map` function on the data-type we are lifting."
   ]
  },
  {
   "cell_type": "code",
   "execution_count": null,
   "metadata": {
    "collapsed": true,
    "outputExpanded": false
   },
   "outputs": [],
   "source": [
    "liftedw = lift(window)\n",
    "liftedw([1,2], [5,6], [\n",
    "    [1,2,3,4,5,6],\n",
    "    [1,2,3,4,5,6],\n",
    "])"
   ]
  },
  {
   "cell_type": "markdown",
   "metadata": {
    "outputExpanded": false
   },
   "source": [
    "So, why to through all of this trouble to get the equivalent of i.e:"
   ]
  },
  {
   "cell_type": "code",
   "execution_count": null,
   "metadata": {
    "collapsed": true,
    "outputExpanded": false
   },
   "outputs": [],
   "source": [
    "[window(x,y,z) \n",
    " for x in [1,2] \n",
    " for y in [5,6] \n",
    " for z in [[1,2,3,4,5,6],[1,2,3,4,5,6]]]"
   ]
  },
  {
   "cell_type": "markdown",
   "metadata": {
    "outputExpanded": false
   },
   "source": [
    "I have two reasons:\n",
    "* We could use this pattern for things that are not iterable :)\n",
    "* we can analyze the pattern in isolation and figure out interesting relations"
   ]
  },
  {
   "cell_type": "markdown",
   "metadata": {
    "outputExpanded": false
   },
   "source": [
    "# Lifting values\n",
    "\n",
    "So far, we were concerned about lifting functions, but we would probably like to be able to lift arbitrary values as well. As you can see in our `lifted` definition, we have so far assumed, that we are lifting at least an unary function. Because we can't derive the wrapper for values from map and apply, we need to define it for the specific datatype. We uaually call this function `pure`"
   ]
  },
  {
   "cell_type": "code",
   "execution_count": null,
   "metadata": {
    "collapsed": true,
    "outputExpanded": false
   },
   "outputs": [],
   "source": [
    "def pure(value):\n",
    "    return [value]"
   ]
  },
  {
   "cell_type": "markdown",
   "metadata": {
    "outputExpanded": false
   },
   "source": [
    "Interesting thing with `pure` is, that with it defined, we should be able to replace uses of `map(fn,o)` with `apply(pure(fn),o)`."
   ]
  },
  {
   "cell_type": "markdown",
   "metadata": {
    "outputExpanded": false
   },
   "source": [
    "# Algebra behind the applicative\n",
    "\n",
    "So far we have not been explicit about our formal requirements on `map`, `applicative` and `pure`. I have mentioned that `map` should behave *sensible* and that there is some relationship between functors, lifting and category theory.\n",
    "\n",
    "In my mind, the most sensible thing, is to think about functor as a lawful interface. Lawful interface would mean, that it conforms to more requirements, than just the ability to i.e. perform a method call.\n",
    "\n",
    "A type T describes a functor if:\n",
    "* we can consider T a wrapper over arbitrary type A\n",
    "* there is a function `map`, that\n",
    "  * accepts function `f`, that accepts `a` and returns `b`\n",
    "  * accepts `T` wrapping `a`\n",
    "  * returns `T` wrapping `b`\n",
    "  \n",
    "In haskell we would say that map has type (a -> b) -> T a -> T b\n",
    "With [Python's typing library](https://docs.python.org/3/library/typing.html) we could say that the type of `map` is\n",
    "```\n",
    "Callable[[Callable[[A],B], T[A]],T[B]]\n",
    "```\n",
    "\n",
    "The map function then needs to conform to these laws\n",
    "* for any t, `map(lambda x:x ,t) == t`\n",
    "* for any t and any two composable functions f and g, `map(f,map(g,t)) == map(lambda x: f(g(x)),t)`\n",
    "\n",
    "If we define `id` and `compose` functions:\n",
    "```\n",
    "def id(x):\n",
    "  return x\n",
    "  \n",
    "def compose(f,g):\n",
    "  def composed(x)\n",
    "    return f(g(x))\n",
    "  return composed\n",
    "```\n",
    "\n",
    "we can swap the lambda expressions in the laws:\n",
    "* for any t, `map(id ,t) == t`\n",
    "* for any t and any two composable functions f and g, `map(f,map(g,t)) == map(compose(f,g),t)`\n",
    "\n",
    "\n",
    "For applicative, we need it to implement be functor as well as\n",
    "* have function `pure` that accepts arbitrary `a` and returnt `T a`\n",
    "* have function `apply`, that\n",
    "  * for any function f, that accepts `a` and returns `b`\n",
    "  * accepts `T` wrapping `f`\n",
    "  * accepts `T` wrapping `a`\n",
    "  * returns `T` wrapping `b`\n",
    "  \n",
    "In haskell, we would say, that `pure` has type a -> T a and apply T (a -> b) -> T a -> T b\n",
    "With [Python's typing library](https://docs.python.org/3/library/typing.html) we could say that the type of `pure` is\n",
    "```\n",
    "Callable[[A], T[A]]\n",
    "```\n",
    "And type of `apply` is\n",
    "```\n",
    "Callable[[T[Callable[[A],B]], T[A]],T[B]]\n",
    "```\n",
    "\n",
    "The `apply` and `pure` functions need to conform to these laws:\n",
    "* for any t, `apply(pure(id),t) == t`\n",
    "* for any function f and type x, `apply(pure(f),pure(x)) == f(x)`\n",
    "* for any t, x, `apply(t, pure(x)) == apply(pure(lambda g: g(x)),t)`\n",
    "* for any u,v,w, `apply(apply(apply(pure(compose),u),v),w) == apply(u,apply(v,w))`\n",
    "  * be aware that apply is not required to be associative, i.e. you can't state what ?? should be in `apply(apply(u,v),w) ?? apply(u,apply(v,w))`"
   ]
  },
  {
   "cell_type": "markdown",
   "metadata": {},
   "source": [
    "# Why should we care about lawfulness?\n",
    "\n",
    "If you look at the laws for both functor and applicative, they may seem arbitrary. Well, for functor, I have some intuition, because I had abstract algebra course at university and when I look at the laws my mins goes \"This kida looks like definition of homomorphism, I remember those to be useful, I guess it makes sense then.\" I dont really remember the specifics, but because it is vaguely familliar, I am fine with it.\n",
    "\n",
    "There is better reason to like lawful interfaces, though. Just by using the the laws of the interface, we can define new and usefull stuff.\n",
    "\n",
    "Lets look at nesting of two different functors, where we would have T[U[A]]. It is easy to see, that for any a, T[U[a]] is a functor as well.\n",
    "\n",
    "If map for T is tmap, and map for U is umap, we can define the tumap for the nesting of U in T like this:\n",
    "\n",
    "```\n",
    "def tumap(fn,tu):\n",
    "  return tmap(lambda x: umap(fn,x), tu)\n",
    "```\n",
    "\n",
    "And because we know the functor laws we can try to prove that they hold for this implementation as well.\n",
    "\n",
    "* for any `tu`, `tumap(id, tu) == tu`\n",
    "\n",
    "$$ \\begin{align*} \\text{map}_{t_u}(id, t_u) &= {map}_{t} ( \\lambda x: map_u(id,x), t_u) \\\\\n",
    "&= {map}_{t} ( \\lambda x: x, t_u) \\\\\n",
    "&= {map}_{t} ( id, t_u) \\\\\n",
    "&=  t_u \\\\\n",
    "\\end{align*} $$\n",
    "\n",
    "* for any t and any two composable functions f and g, tumap(f,tumap(g,tu)) == map(compose(f,g),tu)\n",
    "$$ \\begin{align*} \\text{map}_{t_u}(compose(f,g), t_u) &= {map}_{t} ( \\lambda x: map_u(compose(f,g),x), t_u) \\\\\n",
    "&= {map}_{t} ( \\lambda x: map_u(compose(f,g),x), t_u) \\\\\n",
    "&=  tu \\\\\n",
    "\\end{align*} $$\n",
    "\n",
    "\n",
    "$$ \\begin{align*} \\text{map}_{t_u}(f, {map}_{tu}(g,tu)) &= {map}_{t} ( \\lambda x: map_u(f,x), {map}_{t} ( \\lambda x: map_u(g,x), tu)) \\\\\n",
    "&= {map}_{t} ( \\lambda x: x, tu) \\\\\n",
    "&= {map}_{t} ( id, tu) \\\\\n",
    "&=  tu \\\\\n",
    "\\end{align*} $$"
   ]
  },
  {
   "cell_type": "markdown",
   "metadata": {
    "outputExpanded": false
   },
   "source": [
    "# Parametrized lift\n",
    "\n",
    "For some of the following examples, I need to be able to lift into different domains, so I am changing the lift function to be parametrized.\n",
    "\n",
    "Because our these datatypes might not have `map` available, I am adding one more function to the mix, that is called `pure`. It is the constructor for the applicative datatype, that wraps a single value.\n",
    "\n",
    "For list, pure function would be a singleton value:\n",
    "```\n",
    "def pureList(value):\n",
    "  return [value]\n",
    "```\n",
    "\n",
    "The interesting thing is, that you can define `map` in terms of `apply` and `pure`:\n",
    "\n",
    "```\n",
    "def map(f, l):\n",
    "  return apply(pure(f),l)\n",
    "```\n"
   ]
  },
  {
   "cell_type": "code",
   "execution_count": null,
   "metadata": {
    "collapsed": true,
    "outputExpanded": false
   },
   "outputs": [],
   "source": [
    "def lift(pure, apply, fn):\n",
    "    def lifted(arg0, *args):\n",
    "        result = apply(pure(curry(len(args)+1, fn)),arg0)\n",
    "        for a in args:\n",
    "            result = apply(result, a)\n",
    "        return result\n",
    "    return lifted"
   ]
  },
  {
   "cell_type": "markdown",
   "metadata": {
    "outputExpanded": false
   },
   "source": [
    "# Solving the null-pointer exception?\n",
    "\n",
    "One thing we could try, is to solve the NPE problem with this. If you think about it, when you have function, that doesn't expect `None`, but gets it, only reasonable thing we could do with this, is return `None`. \n",
    "\n",
    "We can define our wrapper function `pure` to just return the value back. We wouldn't be able to do this kind of cheating in haskell, where we would need to explicitly box the type. In Python this seems to be working.\n",
    "\n",
    "We define our apply function to return `None` if any of the params are `None`.\n",
    "We can try this on `int` function."
   ]
  },
  {
   "cell_type": "code",
   "execution_count": null,
   "metadata": {
    "collapsed": true,
    "outputExpanded": false
   },
   "outputs": [],
   "source": [
    "def pureDefault(val):\n",
    "    return val\n",
    "\n",
    "def applyNone(lfn,lx):\n",
    "    if lfn!=None and lx!=None:\n",
    "        return lfn(lx)\n",
    "    return None\n",
    "\n",
    "nint = lift(pureDefault, applyNone, int)"
   ]
  },
  {
   "cell_type": "markdown",
   "metadata": {
    "outputExpanded": false
   },
   "source": [
    "Now we can compare:"
   ]
  },
  {
   "cell_type": "code",
   "execution_count": null,
   "metadata": {
    "collapsed": true,
    "outputExpanded": false
   },
   "outputs": [],
   "source": [
    "print(int(\"1\"))\n",
    "print(int(None))"
   ]
  },
  {
   "cell_type": "code",
   "execution_count": null,
   "metadata": {
    "collapsed": true,
    "outputExpanded": false
   },
   "outputs": [],
   "source": [
    "print(nint(\"1\"))\n",
    "print(nint(None))"
   ]
  },
  {
   "cell_type": "markdown",
   "metadata": {
    "outputExpanded": false
   },
   "source": [
    "To be honest, this is sort of a toy example. You probably don't want to just wrap your functions with this and instead of error at the place of failure just recieve the propagated nulls everywhere. But we can do better.  "
   ]
  },
  {
   "cell_type": "markdown",
   "metadata": {
    "outputExpanded": false
   },
   "source": [
    "# Applicative Validation\n",
    "\n",
    "So what about some other uses? One I really like is using applicatives for validation.\n",
    "\n",
    "First, let me harp on a thing I don't like about *exceptions*. Once you throw it,\n",
    "you are aborting the execution. I especially dislike it, if somebody uses exceptions\n",
    "to validate function params, i.e.:"
   ]
  },
  {
   "cell_type": "code",
   "execution_count": null,
   "metadata": {
    "collapsed": true,
    "outputExpanded": false
   },
   "outputs": [],
   "source": [
    "def validated_window(begin, end, arr):\n",
    "    if begin < 0:\n",
    "        raise Exception(\"Begin was negative\")\n",
    "    if end < 1:\n",
    "        raise Exception(\"End was not positive\")\n",
    "    return window(begin,end,arr)\n",
    "\n",
    "validated_window(-1,-1,[])"
   ]
  },
  {
   "cell_type": "markdown",
   "metadata": {
    "outputExpanded": false
   },
   "source": [
    "Exception only told me about the frst problem. But with applicative pattern, I can rewrite it in such way, that I would get all of them.\n",
    "\n",
    "I will define two validating functions:"
   ]
  },
  {
   "cell_type": "code",
   "execution_count": null,
   "metadata": {
    "collapsed": true,
    "outputExpanded": false
   },
   "outputs": [],
   "source": [
    "def valid_begin(begin):\n",
    "    return begin if begin >= 0 else Exception(\"Begin was negative\")\n",
    "\n",
    "def valid_end(end):\n",
    "    return end if end > 0 else Exception(\"End was not positive\")"
   ]
  },
  {
   "cell_type": "markdown",
   "metadata": {
    "outputExpanded": false
   },
   "source": [
    "Now, let me define how would I like to write the validated function."
   ]
  },
  {
   "cell_type": "code",
   "execution_count": null,
   "metadata": {
    "collapsed": true,
    "outputExpanded": false
   },
   "outputs": [],
   "source": [
    "def validated_window(begin, end, arr):    \n",
    "    return liftedw(valid_begin(begin),valid_end(end),arr)"
   ]
  },
  {
   "cell_type": "markdown",
   "metadata": {
    "outputExpanded": false
   },
   "source": [
    "Now the interesting part of the puzzle is to redefine applyy once again, from thing that processes values in arrays, to thing that can deal with values that might be useless Exceptions."
   ]
  },
  {
   "cell_type": "code",
   "execution_count": null,
   "metadata": {
    "collapsed": true,
    "outputExpanded": false
   },
   "outputs": [],
   "source": [
    "def applyError(lfn,lx):\n",
    "    if isinstance(lfn,Exception) and isinstance(lx,Exception):\n",
    "        return Exception(*lfn.args,*lx.args)\n",
    "    if isinstance(lfn,Exception):\n",
    "        return lfn    \n",
    "    if isinstance(lx,Exception):\n",
    "        return lx\n",
    "    return lfn(lx)\n",
    "    "
   ]
  },
  {
   "cell_type": "markdown",
   "metadata": {
    "outputExpanded": false
   },
   "source": [
    "As you can see, there are 3 cases to consider:\n",
    "* if both *fn* and *x* contain exceptions, I return agregate exception\n",
    "* if *fn* or *x* contain exceptions, I return the exception\n",
    "* if none of these happen, I can return *fn(x)*"
   ]
  },
  {
   "cell_type": "code",
   "execution_count": null,
   "metadata": {
    "collapsed": true,
    "outputExpanded": false
   },
   "outputs": [],
   "source": [
    "liftedw = lift(pureDefault, applyError, window);\n",
    "validated_window(-1,-1,[])"
   ]
  },
  {
   "cell_type": "markdown",
   "metadata": {
    "outputExpanded": false
   },
   "source": [
    "This style of applicative validation is more or less taken from the [Purescript book](https://leanpub.com/purescript/read#leanpub-auto-applicative-validation). There is a difference, in the explicit boxing and unboxing I have mentioned earlier. If we explixitly boxed i.e. the `Exception` in an object of i.e. `Validated` class, we might be able to use some nice features of python, like sinlge dispatch. On the other hand, the lack of static type checking means, that the boxing wouldn't really help us."
   ]
  },
  {
   "cell_type": "markdown",
   "metadata": {
    "outputExpanded": false
   },
   "source": [
    "# Composing applicatives\n",
    "\n",
    "What we could do, on the other hand, is to create an class for defining applicatives:"
   ]
  },
  {
   "cell_type": "code",
   "execution_count": 2,
   "metadata": {
    "collapsed": true,
    "outputExpanded": false
   },
   "outputs": [],
   "source": [
    "class Applicative:\n",
    "    def __init__(self, pure, apply):\n",
    "        self.pure = pure\n",
    "        self.apply = apply\n",
    "        \n",
    "    def lift(self, fn):\n",
    "        def lifted(arg0, *args):\n",
    "            result = self.apply(self.pure(curry(len(args)+1, fn)),arg0)\n",
    "            for a in args:\n",
    "                result = self.apply(result, a)\n",
    "            return result\n",
    "        return lifted"
   ]
  },
  {
   "cell_type": "markdown",
   "metadata": {
    "outputExpanded": false
   },
   "source": [
    "Now we can manipulate these. For example, I might want to be able to lift not only to domain of lists or domain of validated values, but some combination, like validated lists, or lists of validated values, or even validated lists or validated values."
   ]
  },
  {
   "cell_type": "code",
   "execution_count": null,
   "metadata": {
    "collapsed": true,
    "outputExpanded": false
   },
   "outputs": [],
   "source": [
    "def containing(outer, inner):\n",
    "    def pure(val):\n",
    "        return outer.pure(inner.pure(val))\n",
    "    def apply(lfn, lval):\n",
    "        return outer.lift(inner.apply)(lfn,lval)\n",
    "    return Applicative(pure,apply)"
   ]
  },
  {
   "cell_type": "code",
   "execution_count": null,
   "metadata": {
    "collapsed": true,
    "outputExpanded": false
   },
   "outputs": [],
   "source": [
    "ErrorAp = Applicative(pureDefault,applyError)\n",
    "\n",
    "def pureArr(val):\n",
    "    while True:\n",
    "        yield val\n",
    "\n",
    "def applyZip(lfn,lx):\n",
    "    ar = zip(lfn, lx)\n",
    "    return (fn(x) for fn, x in ar)\n",
    "\n",
    "ListApp = Applicative(pureArr, applyZip)\n",
    "\n",
    "ListOfValid = containing(ListApp, ErrorAp )"
   ]
  },
  {
   "cell_type": "code",
   "execution_count": null,
   "metadata": {
    "collapsed": true,
    "outputExpanded": false
   },
   "outputs": [],
   "source": [
    "list(ListOfValid.lift(window)([1,2], [5,6], [\n",
    "    [1,2,3,4,5,6],\n",
    "    [1,2,3,4,5,6],\n",
    "]))"
   ]
  },
  {
   "cell_type": "code",
   "execution_count": null,
   "metadata": {
    "collapsed": true,
    "outputExpanded": false
   },
   "outputs": [],
   "source": [
    "list(ListOfValid.lift(window)([1,Exception(\"Begin was negative\")], [5,Exception(\"End was not positive\")], [\n",
    "    [1,2,3,4,5,6],\n",
    "    [1,2,3,4,5,6],\n",
    "]))\n",
    "\n"
   ]
  },
  {
   "cell_type": "code",
   "execution_count": null,
   "metadata": {
    "collapsed": true,
    "outputExpanded": false
   },
   "outputs": [],
   "source": [
    "ListOfValid.lift(window)([1,Exception(\"Begin was negative\")], [5, 6], [\n",
    "    [1,2,3,4,5,6],\n",
    "    [1,2,3,4,5,6],\n",
    "])"
   ]
  },
  {
   "cell_type": "markdown",
   "metadata": {
    "outputExpanded": false
   },
   "source": [
    "# Reactive programming!"
   ]
  },
  {
   "cell_type": "code",
   "execution_count": 6,
   "metadata": {
    "outputExpanded": false
   },
   "outputs": [
    {
     "data": {
      "application/vnd.jupyter.widget-view+json": {
       "model_id": "6132fe4e90034897afe2394a3cba3ffc"
      }
     },
     "metadata": {},
     "output_type": "display_data"
    },
    {
     "data": {
      "application/vnd.jupyter.widget-view+json": {
       "model_id": "d0f71031ef1046339849c6f7a9b82bd3"
      }
     },
     "metadata": {},
     "output_type": "display_data"
    },
    {
     "data": {
      "application/vnd.jupyter.widget-view+json": {
       "model_id": "b3624316f89943d389ea5f3d76878466"
      }
     },
     "metadata": {},
     "output_type": "display_data"
    }
   ],
   "source": [
    "from ipywidgets import *\n",
    "from IPython.display import display\n",
    "\n",
    "a = IntSlider()\n",
    "a.observe(lambda x: print(x['new']))\n",
    "\n",
    "class Propagated:\n",
    "    def __init__(self, last):\n",
    "        self.last = last\n",
    "        self.subscriptions = []\n",
    "        \n",
    "    def getValue(self):\n",
    "        return self.last\n",
    "    \n",
    "    def subscribe(self, cb):\n",
    "        self.subscriptions += [cb]\n",
    "    \n",
    "    def observe(self, prop):\n",
    "        prop.subscribe(lambda x: self.set(x))\n",
    "    \n",
    "    def setValue(self, value):\n",
    "        self.last = value\n",
    "        for cb in self.subscriptions:\n",
    "            cb(value)\n",
    "    \n",
    "def purePropagated(val):\n",
    "    return Propagated(val)\n",
    "    \n",
    "def applyPropagated(fn,val):\n",
    "    result = Propagated(fn.getValue()(val.getValue()))\n",
    "    fn.subscribe(lambda f: result.setValue(f(val.getValue())))\n",
    "    val.subscribe(lambda v: result.setValue(fn.getValue()(v)))\n",
    "    return result\n",
    "\n",
    "propApplicative = Applicative(purePropagated, applyPropagated)    \n",
    "    \n",
    "    \n",
    "def pipeToPropagated(widget,propagated):\n",
    "    def update(x):\n",
    "        if x['name'] == 'value':\n",
    "            propagated.setValue(x['new'])\n",
    "    widget.observe(update)\n",
    "\n",
    "def wrapWidgetInPropagated(widget):\n",
    "    display(widget)\n",
    "    p = Propagated(widget.value)\n",
    "    pipeToPropagated(widget,p)\n",
    "    return p;\n",
    "    \n",
    "v0 = wrapWidgetInPropagated(IntSlider())\n",
    "v1 = wrapWidgetInPropagated(IntSlider())\n",
    "s3 = IntSlider()\n",
    "\n",
    "display(s3)\n",
    "\n",
    "def add(a, b):\n",
    "    return a + b\n",
    "\n",
    "v3 = propApplicative.lift(add)(v0, v1)\n",
    "def sub(x):\n",
    "    s3.value = x\n",
    "    \n",
    "v3.subscribe(sub)"
   ]
  }
 ],
 "metadata": {
  "kernel_info": {
   "name": "python3"
  },
  "kernelspec": {
   "display_name": "Python 3",
   "language": "python",
   "name": "python3"
  },
  "language_info": {
   "codemirror_mode": {
    "name": "ipython",
    "version": 3
   },
   "file_extension": ".py",
   "mimetype": "text/x-python",
   "name": "python",
   "nbconvert_exporter": "python",
   "pygments_lexer": "ipython3",
   "version": "3.5.1"
  }
 },
 "nbformat": 4,
 "nbformat_minor": 1
}
