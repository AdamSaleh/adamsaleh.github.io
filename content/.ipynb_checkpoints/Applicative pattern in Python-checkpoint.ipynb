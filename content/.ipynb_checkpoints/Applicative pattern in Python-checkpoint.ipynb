{
 "cells": [
  {
   "cell_type": "markdown",
   "metadata": {
    "focus": false,
    "id": "de6fdf12-32dd-4725-9819-b37b0418222b",
    "outputExpanded": false
   },
   "source": [
    "# Applicative Functors?\n",
    "\n",
    "Applicative functors are, let me say, a desin pattern, popular in typed functional languages. Mostly Haskell, because of their roots in cateory-theory and that sounds like a thing people writing Haskell like. Based on conference talks Scala people are trying to use this pattern as well. So my question would be, is this still usefull even if I don't have a static type system? "
   ]
  },
  {
   "cell_type": "markdown",
   "metadata": {
    "focus": false,
    "id": "1100a234-c53d-4407-a4d3-fccb1ef66b07",
    "outputExpanded": false
   },
   "source": [
    "# Why would anybody deal with Category Theory in programming?\n",
    "\n",
    "Well, to understand that, you need to imagine yourself in the shoes of a beginner haskell programmer. You have your awesome functional language, and really like the predictability.\n",
    "\n",
    "* you can't change values\n",
    "* no null/nil/None/undefined or any such nonsense\n",
    "* this means there is no global state, awesome\n",
    "* all functions are pure, stateless, defined only by relation of inputs to outputs, no I/O\n",
    " * basically the most testable thing ever\n",
    "\n",
    "And all of this is awesome, but after a while you realize that not having I/O kind-of sucks, and thar what you have is basically a really tricked-out command-line calculator. (At least that was my experience learning Haskell at my uni)\n",
    "\n",
    "The question then became, how do we keep the awesome things about Haskell, like no Null-pointer exceptions, testable stateless functions, but add new things on top of it. It often makes sense to have global variable, I/O, or return null. If want to build i.e. a database, all of these look useful. \n",
    "\n",
    "What then happened was that Philip Wadler read a paper about using monads from category theory as interface to chain I/O operations. And he implemented this as the base for I/O in haskell. And 25 years later we see monadic interfaces in C# Linq and Tasks, Java Streams and almost in Javascript Promise.\n",
    "\n",
    "I would like to show few more things out of this algebraic cookbook :)\n",
    "\n",
    "# Introducing Functor\n",
    "\n",
    "Category theory is usually concerned with relation between diferent categories, but for programming, we are usually concerned only with category of types and the unary functions that convert between them.\n",
    "\n",
    "When programmer talks about relarion between two categories,\n",
    "usually one will basically be his favourite language and second one\n",
    "some fancy extension to that language.\n",
    "\n",
    "Like said original Haskell and Haskell with I/O.\n",
    "\n",
    "So what in practice is a fuctor?\n",
    "\n",
    "In general, anything where you can define a sensible `map` operation.\n",
    "For example:\n",
    "\n",
    "* list\n",
    "* stream\n",
    "* generator\n",
    "* tree\n",
    "\n",
    "Sensible for list means, that it shouldn't matter whether you\n",
    "strs.map(trim).map(uppercase)\n",
    "\n",
    "or\n",
    "\n",
    "strs.map(lambda x: uppercase(trim(x)))\n",
    "\n",
    "# Do you even lift?\n",
    "\n",
    "There is a recuring concept, where we use some bit of information about\n",
    "our datatype to convert functions that know nothig about it, to work with it.\n",
    "\n",
    "We call this *lifting*.\n",
    "\n",
    "For example, because I know that lists have map function, I could lift i.e. `str` to work on lists of things.\n"
   ]
  },
  {
   "cell_type": "code",
   "execution_count": 1,
   "metadata": {
    "collapsed": false,
    "focus": true,
    "id": "1ecdf7b5-e436-46ee-914a-f8cd3646b1a0",
    "outputExpanded": false
   },
   "outputs": [],
   "source": [
    "def lift(fn):\n",
    "    def liftedfn(x):\n",
    "      return list(map(fn,x))\n",
    "    return liftedfn "
   ]
  },
  {
   "cell_type": "code",
   "execution_count": 2,
   "metadata": {
    "collapsed": false,
    "focus": false,
    "id": "dec0bd55-0da9-4da3-b359-75269144686c",
    "outputExpanded": false
   },
   "outputs": [],
   "source": [
    "lifted_str = lift(str)\n",
    "lifted_str([1,2,3])"
   ]
  },
  {
   "cell_type": "markdown",
   "metadata": {},
   "source": [
    "# Category theory?\n",
    "\n",
    "This idea of translating objects from one domain to another is at the core of the mathematical subject of category theory. \n",
    "![Functor]() "
   ]
  },
  {
   "cell_type": "markdown",
   "metadata": {
    "outputExpanded": false
   },
   "source": [
    "# What if I have multiple parameters?\n",
    "\n",
    "Mapping only single param functions can be limiting. It would be cool if `lift` would could work on function with arbitrary many parameters.\n",
    "\n",
    "Could *currying* rescue us?\n",
    "\n",
    "Currying is a concept, where instead of passing in all the params into the function at once, you pass in the first param and grt a new function as a result. This function accepts the second param and returns a function that accepts the third, and by now you should be getting a picture.\n",
    "\n",
    "Or maybe I should show an example.Lets invent a nontrivial 3 arg function, we will call it erm, `window` (because slice was taken)."
   ]
  },
  {
   "cell_type": "code",
   "execution_count": 3,
   "metadata": {
    "collapsed": false,
    "outputExpanded": false
   },
   "outputs": [],
   "source": [
    "from functools import partial\n",
    "\n",
    "def window(begin,end,array):\n",
    "    return array[begin:end]\n",
    "\n",
    "window(2,4,[1,2,3,4,5])"
   ]
  },
  {
   "cell_type": "markdown",
   "metadata": {
    "outputExpanded": false
   },
   "source": [
    "If this function were curried, it would look like this:"
   ]
  },
  {
   "cell_type": "code",
   "execution_count": 4,
   "metadata": {
    "collapsed": false,
    "outputExpanded": false
   },
   "outputs": [],
   "source": [
    "def curried_window(begin):\n",
    "    return lambda end: (lambda array: array[begin:end])\n",
    "curried_window(2)(4)([1,2,3,4,5])"
   ]
  },
  {
   "cell_type": "markdown",
   "metadata": {
    "outputExpanded": false
   },
   "source": [
    "Some functional languages have this as a default. The nice thing about that is, that you can quickly create more specific fuctions, without the need to wrap them in new function definitions.\n",
    "\n",
    "And this seems to solve out problem with multi param function, because sudenly, everything is a single param function, if you squint hard enough :)"
   ]
  },
  {
   "cell_type": "code",
   "execution_count": 5,
   "metadata": {
    "collapsed": false,
    "outputExpanded": false
   },
   "outputs": [],
   "source": [
    "list(map(curried_window,[1,2,3,4]))"
   ]
  },
  {
   "cell_type": "markdown",
   "metadata": {
    "outputExpanded": false
   },
   "source": [
    "Ok, as you can see, currying won't save us just yet, because even though we can use map with them,\n",
    "result is kind-of useless list of functions. We would need to somehow be able to *apply* this list of functions on a list of values. "
   ]
  },
  {
   "cell_type": "code",
   "execution_count": 14,
   "metadata": {
    "collapsed": false,
    "outputExpanded": false
   },
   "outputs": [],
   "source": [
    "def apply(lfn,lx):\n",
    "    return [fn(x) for fn in lfn for x in lx]\n",
    "\n",
    "\n",
    "a0 = map(curried_window,[1,2])\n",
    "a1 = apply(a0,[5,6])\n",
    "a2 = apply(a1,[\n",
    "    [1,2,3,4,5,6],\n",
    "    [1,2,3,4,5,6]\n",
    "              ])\n",
    "\n",
    "a2"
   ]
  },
  {
   "cell_type": "markdown",
   "metadata": {
    "outputExpanded": false
   },
   "source": [
    "Yay, this seems to have worked :)\n",
    "\n",
    "Now we can try to combine currying with *apply* and create a propper lift function :)\n"
   ]
  },
  {
   "cell_type": "code",
   "execution_count": 10,
   "metadata": {
    "collapsed": false,
    "outputExpanded": false
   },
   "outputs": [],
   "source": [
    "def curry(n, fn):\n",
    "    if n == 1:\n",
    "        return fn\n",
    "    if n == 2:\n",
    "        return lambda x:partial(fn,x)\n",
    "    else:\n",
    "        return lambda x:curry(n-1,partial(fn,x))\n",
    "    \n",
    "def lift(fn):\n",
    "    def lifted(arg0, *args):\n",
    "        result = map(curry(len(args)+1, fn),arg0)\n",
    "        for a in args:\n",
    "            result = apply(result, a)\n",
    "        return result\n",
    "    return lifted"
   ]
  },
  {
   "cell_type": "code",
   "execution_count": 17,
   "metadata": {
    "collapsed": false,
    "outputExpanded": false
   },
   "outputs": [],
   "source": [
    "liftedw = lift(window)\n",
    "liftedw([1,2], [5,6], [\n",
    "    [1,2,3,4,5,6],\n",
    "    [1,2,3,4,5,6],\n",
    "])"
   ]
  },
  {
   "cell_type": "markdown",
   "metadata": {
    "outputExpanded": false
   },
   "source": [
    "So, why to through all of this trouble to get the equivalent of i.e:"
   ]
  },
  {
   "cell_type": "code",
   "execution_count": 16,
   "metadata": {
    "collapsed": false,
    "outputExpanded": false
   },
   "outputs": [],
   "source": [
    "[window(x,y,z) \n",
    " for x in [1,2] \n",
    " for y in [5,6] \n",
    " for z in [[1,2,3,4,5,6],[1,2,3,4,5,6]]]"
   ]
  },
  {
   "cell_type": "markdown",
   "metadata": {
    "outputExpanded": false
   },
   "source": [
    "I have two reasons:\n",
    "* We can change the behavior of lift for lists if we need to\n",
    "* We could use this pattern for things that are not iterable :)\n",
    "\n",
    "Right now the result of the function call would be a list of results for all of the permutations.\n",
    "We might want to do a a zip of them instead."
   ]
  },
  {
   "cell_type": "code",
   "execution_count": 18,
   "metadata": {
    "collapsed": false,
    "outputExpanded": false
   },
   "outputs": [],
   "source": [
    "def apply(lfn,lx):\n",
    "    return [fn(x) for fn, x in zip(lfn, lx)]\n",
    "\n",
    "liftedw([1,2], [5,6], [\n",
    "    [1,2,3,4,5,6],\n",
    "    [1,2,3,4,5,6],\n",
    "])"
   ]
  },
  {
   "cell_type": "markdown",
   "metadata": {},
   "source": [
    "# Parametrized lift\n",
    "\n",
    "For some of the following examples, I need to be able to lift into different domains, so I am changing the lift function to be parametrized."
   ]
  },
  {
   "cell_type": "code",
   "execution_count": 5,
   "metadata": {
    "collapsed": true
   },
   "outputs": [],
   "source": [
    "def lift(apply, fn):\n",
    "    def lifted(arg0, *args):\n",
    "        result = map(curry(len(args)+1, fn),arg0)\n",
    "        for a in args:\n",
    "            result = apply(result, a)\n",
    "        return result\n",
    "    return lifted"
   ]
  },
  {
   "cell_type": "markdown",
   "metadata": {},
   "source": [
    "# Solving the null-pointer exception"
   ]
  },
  {
   "cell_type": "code",
   "execution_count": 4,
   "metadata": {
    "collapsed": false
   },
   "outputs": [
    {
     "ename": "TypeError",
     "evalue": "int() argument must be a string, a bytes-like object or a number, not 'NoneType'",
     "output_type": "error",
     "traceback": [
      "\u001b[1;31m---------------------------------------------------------------------------\u001b[0m",
      "\u001b[1;31mTypeError\u001b[0m                                 Traceback (most recent call last)",
      "\u001b[1;32m<ipython-input-4-3f3b1d3c7325>\u001b[0m in \u001b[0;36m<module>\u001b[1;34m()\u001b[0m\n\u001b[1;32m----> 1\u001b[1;33m \u001b[0mint\u001b[0m\u001b[1;33m(\u001b[0m\u001b[1;32mNone\u001b[0m\u001b[1;33m)\u001b[0m\u001b[1;33m\u001b[0m\u001b[0m\n\u001b[0m",
      "\u001b[1;31mTypeError\u001b[0m: int() argument must be a string, a bytes-like object or a number, not 'NoneType'"
     ]
    }
   ],
   "source": [
    "int(None)"
   ]
  },
  {
   "cell_type": "markdown",
   "metadata": {
    "outputExpanded": false
   },
   "source": [
    "# Applicative Validation\n",
    "\n",
    "So what about some other uses? One I really like is using applicatives for validation.\n",
    "\n",
    "First, let me harp on a thing I don't like about *exceptions*. Once you throw it,\n",
    "you are aborting the execution. I especially dislike it, if somebody uses exceptions\n",
    "to validate function params, i.e.:"
   ]
  },
  {
   "cell_type": "code",
   "execution_count": 19,
   "metadata": {
    "collapsed": false,
    "outputExpanded": false
   },
   "outputs": [],
   "source": [
    "def validated_window(begin, end, arr):\n",
    "    if begin < 0:\n",
    "        raise Exception(\"Begin was negative\")\n",
    "    if end < 1:\n",
    "        raise Exception(\"End was not positive\")\n",
    "    return window(begin,end,arr)\n",
    "\n",
    "validated_window(-1,-1,[])"
   ]
  },
  {
   "cell_type": "markdown",
   "metadata": {
    "outputExpanded": false
   },
   "source": [
    "Exception only told me about the frst problem. But with applicative pattern, I can rewrite it in such way, that I would get all of them.\n",
    "\n",
    "I will define two validating functions:"
   ]
  },
  {
   "cell_type": "code",
   "execution_count": 3,
   "metadata": {
    "collapsed": false,
    "outputExpanded": false
   },
   "outputs": [],
   "source": [
    "def valid_begin(begin):\n",
    "    return begin if begin >= 0 else Exception(\"Begin was negative\")\n",
    "\n",
    "def valid_end(end):\n",
    "    return end if end > 0 else Exception(\"End was not positive\")"
   ]
  },
  {
   "cell_type": "markdown",
   "metadata": {
    "outputExpanded": false
   },
   "source": [
    "Now, let me define how would I like to write the validated function."
   ]
  },
  {
   "cell_type": "code",
   "execution_count": 6,
   "metadata": {
    "collapsed": false,
    "outputExpanded": false
   },
   "outputs": [],
   "source": [
    "def validated_window(begin, end, arr):    \n",
    "    return liftedw(valid_begin(begin),valid_end(end),arr)"
   ]
  },
  {
   "cell_type": "markdown",
   "metadata": {
    "outputExpanded": false
   },
   "source": [
    "Now the interesting part of the puzzle is to redefine applyy once again, from thing that processes values in arrays, to thing that can deal with values that might be useless Exceptions."
   ]
  },
  {
   "cell_type": "code",
   "execution_count": 7,
   "metadata": {
    "collapsed": false,
    "outputExpanded": false
   },
   "outputs": [],
   "source": [
    "def apply(lfn,lx):\n",
    "    if isinstance(lfn,Exception) and isinstance(lx,Exception):\n",
    "        return Exception(*lfn.args,*lx.args)\n",
    "    if isinstance(lfn,Exception):\n",
    "        return lfn    \n",
    "    if isinstance(lx,Exception):\n",
    "        return lx\n",
    "    return lfn(lx)\n",
    "    "
   ]
  },
  {
   "cell_type": "markdown",
   "metadata": {
    "outputExpanded": false
   },
   "source": [
    "As you can see, there are 3 cases to consider:\n",
    "* if both *fn* and *x* contain exceptions, I return agregate exception\n",
    "* if *fn* or *x* contain exceptions, I return the exception\n",
    "* if none of these happen, I can return *fn(x)*"
   ]
  },
  {
   "cell_type": "code",
   "execution_count": 8,
   "metadata": {
    "collapsed": false,
    "outputExpanded": false
   },
   "outputs": [],
   "source": [
    "\n",
    "validated_window(-1,-1,[])"
   ]
  },
  {
   "cell_type": "markdown",
   "metadata": {
    "outputExpanded": false
   },
   "source": [
    "This style of applicative validation is more or less taken from the [Purescript book](https://leanpub.com/purescript/read#leanpub-auto-applicative-validation). There is a difference, though, "
   ]
  },
  {
   "cell_type": "code",
   "execution_count": null,
   "metadata": {
    "collapsed": false,
    "outputExpanded": false
   },
   "outputs": [],
   "source": []
  },
  {
   "cell_type": "code",
   "execution_count": null,
   "metadata": {
    "collapsed": false,
    "outputExpanded": false
   },
   "outputs": [],
   "source": []
  }
 ],
 "metadata": {
  "kernel_info": {
   "name": "python3"
  },
  "kernelspec": {
   "display_name": "Python 3",
   "language": "python",
   "name": "python3"
  },
  "language_info": {
   "codemirror_mode": {
    "name": "ipython",
    "version": 3
   },
   "file_extension": ".py",
   "mimetype": "text/x-python",
   "name": "python",
   "nbconvert_exporter": "python",
   "pygments_lexer": "ipython3",
   "version": "3.5.1"
  }
 },
 "nbformat": 4,
 "nbformat_minor": 1
}
