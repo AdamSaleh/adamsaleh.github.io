{
 "cells": [
  {
   "cell_type": "markdown",
   "metadata": {},
   "source": [
    "# Writing a priority queue in Python?\n",
    "\n",
    "Today, I was talking with a friend of mine, about an interesting problem. They created an internal service to view aggregate data from several backend systems. (At least that is how I understood it.) Their idea was to have several threads that would poll the backends for data and cache them in an internal database, and in case of cache miss on i.e. a page view of something that hasn't been refreshed yet, they would fetch it right-away (because user probably wouldn't want to wait 3 to 5 minutes for the background cache update to finish).\n",
    "\n",
    "Because they wanted to have unified update interface, they do the background update with a priority queue. If the cache miss happens, just add a high priority request on the top of the queue, and it would be refreshed asap. And the updating would be nice and organized this way.\n",
    "\n",
    "I imagine their \"update request\" looks something like this:"
   ]
  },
  {
   "cell_type": "code",
   "execution_count": 1,
   "metadata": {
    "collapsed": true
   },
   "outputs": [],
   "source": [
    "class Update:\n",
    "    count = 0\n",
    "    def __init__(self, priority, entity):\n",
    "        Update.count+=1\n",
    "        self._number=Update.count\n",
    "        self._priority=priority\n",
    "        self._entity=entity\n",
    "        \n",
    "    def __repr__(self):\n",
    "        return \"%s_%s_%s\" % (self._priority, self._number,self._entity.__repr__())\n",
    "    \n",
    "    def __hash__(self):\n",
    "        return self.__repr__().__hash__()\n",
    "    \n",
    "    def __str__(self):\n",
    "        return self._entity.__str__()\n",
    "    \n",
    "    def __lt__(self,other):\n",
    "        return (self._priority,self._number) < (other._priority,other._number)\n",
    "    \n",
    "    def __eq__(self,other):\n",
    "        return (self._priority,self._number) == (other._priority,other._number)"
   ]
  },
  {
   "cell_type": "markdown",
   "metadata": {},
   "source": [
    "But there was one problem with this afterwards. It could now happen that a request for the same entity would be pushed into the queue several times and this would put strain on the system. Mostly on the memory, if I recall correctly?\n",
    "\n",
    "Basically the problem from their part might look like this (if we imagine a priority queue, where lowest goes first):"
   ]
  },
  {
   "cell_type": "code",
   "execution_count": 2,
   "metadata": {
    "collapsed": false
   },
   "outputs": [
    {
     "data": {
      "text/plain": [
       "['Update entity 2',\n",
       " 'Update entity 2',\n",
       " 'Update entity 1',\n",
       " 'Update entity 2',\n",
       " 'Update entity 3',\n",
       " 'Update entity 4',\n",
       " 'Update entity 5']"
      ]
     },
     "execution_count": 2,
     "metadata": {},
     "output_type": "execute_result"
    }
   ],
   "source": [
    "from queue import Queue, PriorityQueue\n",
    "\n",
    "q = PriorityQueue()\n",
    "q.put(Update(10,\"Update entity 1\"))\n",
    "q.put(Update(10,\"Update entity 2\"))\n",
    "q.put(Update(10,\"Update entity 3\"))\n",
    "q.put(Update(10,\"Update entity 4\"))\n",
    "q.put(Update(1, \"Update entity 2\"))\n",
    "q.put(Update(10,\"Update entity 5\"))\n",
    "q.put(Update(1, \"Update entity 2\"))\n",
    "\n",
    "\n",
    "def getAll(q):\n",
    "    while not q.empty():\n",
    "        yield q.get_nowait()\n",
    "        \n",
    "[str(x) for x in getAll(q)]"
   ]
  },
  {
   "cell_type": "markdown",
   "metadata": {},
   "source": [
    "This would result in execution of \n",
    "```\n",
    "[\"Update entity 2\",\"Update entity 2\",\"Update entity 1\",\"Update entity 2\",\"Update entity 3\",\"Update entity 4\",\"Update entity 5\"]\n",
    "```\n",
    "\n",
    "but what they would like to see is only execution of:\n",
    "\n",
    "```\n",
    "[\"Update entity 2\",\"Update entity 1\",\"Update entity 3\",\"Update entity 4\",\"Update entity 5\"]\n",
    "```\n",
    "\n",
    "I thought to myself, \"hey, this might be fun to play around with\" and tried to do this:"
   ]
  },
  {
   "cell_type": "code",
   "execution_count": 3,
   "metadata": {
    "collapsed": false
   },
   "outputs": [],
   "source": [
    "from blist import sorteddict\n",
    "\n",
    "class PriorityDeduplicatedQueue(Queue):\n",
    "    def _init(self,maxsize):\n",
    "        self.que=sorteddict()\n",
    "        self.items={}\n",
    "        self.equalityMetric = lambda x:x\n",
    "    \n",
    "    def setEqualityMetric(self, newEqualityMetric):\n",
    "        self.equalityMetric=newEqualityMetric\n",
    "    \n",
    "    def _put(self,prioritizedItem):\n",
    "        item = self.equalityMetric(prioritizedItem)\n",
    "        if item in self.items:\n",
    "            oldPrioritizedItem = self.items[item]\n",
    "            if oldPrioritizedItem > prioritizedItem:\n",
    "                del self.que[oldPrioritizedItem]\n",
    "                self.que[prioritizedItem] = item\n",
    "                self.items[item] = prioritizedItem\n",
    "        else: \n",
    "            self.que[prioritizedItem] = item\n",
    "            self.items[item] = prioritizedItem\n",
    "        \n",
    "    def _get(self):\n",
    "        key, item = self.que.popitem()\n",
    "        del self.items[item]\n",
    "        return key\n",
    "    \n",
    "    def _qsize(self):\n",
    "        return len(self.items)"
   ]
  },
  {
   "cell_type": "markdown",
   "metadata": {},
   "source": [
    "Core of this is the sorteddict, from blist package, which provides me with a data-structure that is\n",
    "* sorted and has popitem, making it a decent heap\n",
    "* supports fast removal of keys\n"
   ]
  },
  {
   "cell_type": "markdown",
   "metadata": {},
   "source": [
    "## Testing\n",
    "\n",
    "First, lets try, that this actually works:"
   ]
  },
  {
   "cell_type": "code",
   "execution_count": 4,
   "metadata": {
    "collapsed": false
   },
   "outputs": [
    {
     "ename": "TypeError",
     "evalue": "unhashable type: 'Update'",
     "output_type": "error",
     "traceback": [
      "\u001b[0;31m---------------------------------------------------------------------------\u001b[0m",
      "\u001b[0;31mTypeError\u001b[0m                                 Traceback (most recent call last)",
      "\u001b[0;32m<ipython-input-4-d1888b2ddf9c>\u001b[0m in \u001b[0;36m<module>\u001b[0;34m()\u001b[0m\n\u001b[1;32m      1\u001b[0m \u001b[0mq\u001b[0m \u001b[0;34m=\u001b[0m \u001b[0mPriorityDeduplicatedQueue\u001b[0m\u001b[0;34m(\u001b[0m\u001b[0;34m)\u001b[0m\u001b[0;34m\u001b[0m\u001b[0m\n\u001b[0;32m----> 2\u001b[0;31m \u001b[0mq\u001b[0m\u001b[0;34m.\u001b[0m\u001b[0mput\u001b[0m\u001b[0;34m(\u001b[0m\u001b[0mUpdate\u001b[0m\u001b[0;34m(\u001b[0m\u001b[0;36m10\u001b[0m\u001b[0;34m,\u001b[0m\u001b[0;34m\"Update entity 1\"\u001b[0m\u001b[0;34m)\u001b[0m\u001b[0;34m)\u001b[0m\u001b[0;34m\u001b[0m\u001b[0m\n\u001b[0m\u001b[1;32m      3\u001b[0m \u001b[0mq\u001b[0m\u001b[0;34m.\u001b[0m\u001b[0mput\u001b[0m\u001b[0;34m(\u001b[0m\u001b[0mUpdate\u001b[0m\u001b[0;34m(\u001b[0m\u001b[0;36m10\u001b[0m\u001b[0;34m,\u001b[0m\u001b[0;34m\"Update entity 2\"\u001b[0m\u001b[0;34m)\u001b[0m\u001b[0;34m)\u001b[0m\u001b[0;34m\u001b[0m\u001b[0m\n\u001b[1;32m      4\u001b[0m \u001b[0mq\u001b[0m\u001b[0;34m.\u001b[0m\u001b[0mput\u001b[0m\u001b[0;34m(\u001b[0m\u001b[0mUpdate\u001b[0m\u001b[0;34m(\u001b[0m\u001b[0;36m10\u001b[0m\u001b[0;34m,\u001b[0m\u001b[0;34m\"Update entity 3\"\u001b[0m\u001b[0;34m)\u001b[0m\u001b[0;34m)\u001b[0m\u001b[0;34m\u001b[0m\u001b[0m\n\u001b[1;32m      5\u001b[0m \u001b[0mq\u001b[0m\u001b[0;34m.\u001b[0m\u001b[0mput\u001b[0m\u001b[0;34m(\u001b[0m\u001b[0mUpdate\u001b[0m\u001b[0;34m(\u001b[0m\u001b[0;36m10\u001b[0m\u001b[0;34m,\u001b[0m\u001b[0;34m\"Update entity 4\"\u001b[0m\u001b[0;34m)\u001b[0m\u001b[0;34m)\u001b[0m\u001b[0;34m\u001b[0m\u001b[0m\n",
      "\u001b[0;32m/usr/lib/python3.4/queue.py\u001b[0m in \u001b[0;36mput\u001b[0;34m(self, item, block, timeout)\u001b[0m\n\u001b[1;32m    144\u001b[0m                             \u001b[0;32mraise\u001b[0m \u001b[0mFull\u001b[0m\u001b[0;34m\u001b[0m\u001b[0m\n\u001b[1;32m    145\u001b[0m                         \u001b[0mself\u001b[0m\u001b[0;34m.\u001b[0m\u001b[0mnot_full\u001b[0m\u001b[0;34m.\u001b[0m\u001b[0mwait\u001b[0m\u001b[0;34m(\u001b[0m\u001b[0mremaining\u001b[0m\u001b[0;34m)\u001b[0m\u001b[0;34m\u001b[0m\u001b[0m\n\u001b[0;32m--> 146\u001b[0;31m             \u001b[0mself\u001b[0m\u001b[0;34m.\u001b[0m\u001b[0m_put\u001b[0m\u001b[0;34m(\u001b[0m\u001b[0mitem\u001b[0m\u001b[0;34m)\u001b[0m\u001b[0;34m\u001b[0m\u001b[0m\n\u001b[0m\u001b[1;32m    147\u001b[0m             \u001b[0mself\u001b[0m\u001b[0;34m.\u001b[0m\u001b[0munfinished_tasks\u001b[0m \u001b[0;34m+=\u001b[0m \u001b[0;36m1\u001b[0m\u001b[0;34m\u001b[0m\u001b[0m\n\u001b[1;32m    148\u001b[0m             \u001b[0mself\u001b[0m\u001b[0;34m.\u001b[0m\u001b[0mnot_empty\u001b[0m\u001b[0;34m.\u001b[0m\u001b[0mnotify\u001b[0m\u001b[0;34m(\u001b[0m\u001b[0;34m)\u001b[0m\u001b[0;34m\u001b[0m\u001b[0m\n",
      "\u001b[0;32m<ipython-input-3-b7946470f6de>\u001b[0m in \u001b[0;36m_put\u001b[0;34m(self, prioritizedItem)\u001b[0m\n\u001b[1;32m     12\u001b[0m     \u001b[0;32mdef\u001b[0m \u001b[0m_put\u001b[0m\u001b[0;34m(\u001b[0m\u001b[0mself\u001b[0m\u001b[0;34m,\u001b[0m\u001b[0mprioritizedItem\u001b[0m\u001b[0;34m)\u001b[0m\u001b[0;34m:\u001b[0m\u001b[0;34m\u001b[0m\u001b[0m\n\u001b[1;32m     13\u001b[0m         \u001b[0mitem\u001b[0m \u001b[0;34m=\u001b[0m \u001b[0mself\u001b[0m\u001b[0;34m.\u001b[0m\u001b[0mequalityMetric\u001b[0m\u001b[0;34m(\u001b[0m\u001b[0mprioritizedItem\u001b[0m\u001b[0;34m)\u001b[0m\u001b[0;34m\u001b[0m\u001b[0m\n\u001b[0;32m---> 14\u001b[0;31m         \u001b[0;32mif\u001b[0m \u001b[0mitem\u001b[0m \u001b[0;32min\u001b[0m \u001b[0mself\u001b[0m\u001b[0;34m.\u001b[0m\u001b[0mitems\u001b[0m\u001b[0;34m:\u001b[0m\u001b[0;34m\u001b[0m\u001b[0m\n\u001b[0m\u001b[1;32m     15\u001b[0m             \u001b[0moldPrioritizedItem\u001b[0m \u001b[0;34m=\u001b[0m \u001b[0mself\u001b[0m\u001b[0;34m.\u001b[0m\u001b[0mitems\u001b[0m\u001b[0;34m[\u001b[0m\u001b[0mitem\u001b[0m\u001b[0;34m]\u001b[0m\u001b[0;34m\u001b[0m\u001b[0m\n\u001b[1;32m     16\u001b[0m             \u001b[0;32mif\u001b[0m \u001b[0moldPrioritizedItem\u001b[0m \u001b[0;34m>\u001b[0m \u001b[0mprioritizedItem\u001b[0m\u001b[0;34m:\u001b[0m\u001b[0;34m\u001b[0m\u001b[0m\n",
      "\u001b[0;31mTypeError\u001b[0m: unhashable type: 'Update'"
     ]
    }
   ],
   "source": [
    "q = PriorityDeduplicatedQueue()\n",
    "q.put(Update(10,\"Update entity 1\"))\n",
    "q.put(Update(10,\"Update entity 2\"))\n",
    "q.put(Update(10,\"Update entity 3\"))\n",
    "q.put(Update(10,\"Update entity 4\"))\n",
    "q.put(Update(1, \"Update entity 2\"))\n",
    "q.put(Update(10,\"Update entity 5\"))\n",
    "q.put(Update(1, \"Update entity 2\"))\n",
    "        \n",
    "[y for x,y in getAll(q)]"
   ]
  },
  {
   "cell_type": "markdown",
   "metadata": {},
   "source": [
    "The result should look like the thing in the first paragraph:\n",
    "\n",
    "```\n",
    "['Update entity 2', 'Update entity 1', 'Update entity 3', 'Update entity 4', 'Update entity 5']\n",
    "```\n",
    "\n",
    "Now I would like to use property based testing framework from package 'hypothesis' to verify that my new queue works as intended.\n",
    "\n",
    "1. if I only push unique items, it should behave the same as 'queue.PriorityQueue'\n",
    "2. if I only push equal items with different priorities, queue size would allways be 1, with the smallest priority.\n",
    "3. if I push random items with some duplication to both deduplicated and standard priority queue and then put all of these items to two ordered sets, they should be equal."
   ]
  },
  {
   "cell_type": "code",
   "execution_count": 1,
   "metadata": {
    "collapsed": true
   },
   "outputs": [],
   "source": [
    "from hypothesis import given, reject, note\n",
    "from hypothesis.strategies import integers, text, lists, tuples\n",
    "from queue import PriorityQueue\n",
    "\n",
    "hexadecimal = text(alphabet=\"0123456789abcdef\")\n",
    "uniqueItems = lists(elements=tuples(integers(-10,10),hexadecimal),average_size=20, unique_by=lambda x: x[1])\n",
    "uniqueItemsLists = lists(elements=uniqueItems,min_size=10)"
   ]
  },
  {
   "cell_type": "code",
   "execution_count": 2,
   "metadata": {
    "collapsed": false
   },
   "outputs": [
    {
     "name": "stdout",
     "output_type": "stream",
     "text": [
      "Falsifying example: test10(setsToTest=[])\n"
     ]
    },
    {
     "ename": "NameError",
     "evalue": "name 'PriorityDeduplicatedQueue' is not defined",
     "output_type": "error",
     "traceback": [
      "\u001b[0;31m---------------------------------------------\u001b[0m",
      "\u001b[0;31mNameError\u001b[0m   Traceback (most recent call last)",
      "\u001b[0;32m<ipython-input-2-5cc3d2815b11>\u001b[0m in \u001b[0;36m<module>\u001b[0;34m()\u001b[0m\n\u001b[1;32m     11\u001b[0m \u001b[0;34m\u001b[0m\u001b[0m\n\u001b[1;32m     12\u001b[0m \u001b[0;34m\u001b[0m\u001b[0m\n\u001b[0;32m---> 13\u001b[0;31m \u001b[0mtest10\u001b[0m\u001b[0;34m(\u001b[0m\u001b[0;34m)\u001b[0m\u001b[0;34m\u001b[0m\u001b[0m\n\u001b[0m",
      "\u001b[0;32m<ipython-input-2-5cc3d2815b11>\u001b[0m in \u001b[0;36mtest10\u001b[0;34m()\u001b[0m\n\u001b[1;32m      1\u001b[0m \u001b[0;34m@\u001b[0m\u001b[0mgiven\u001b[0m\u001b[0;34m(\u001b[0m\u001b[0muniqueItems\u001b[0m\u001b[0;34m)\u001b[0m\u001b[0;34m\u001b[0m\u001b[0m\n\u001b[0;32m----> 2\u001b[0;31m \u001b[0;32mdef\u001b[0m \u001b[0mtest10\u001b[0m\u001b[0;34m(\u001b[0m\u001b[0msetsToTest\u001b[0m\u001b[0;34m)\u001b[0m\u001b[0;34m:\u001b[0m\u001b[0;34m\u001b[0m\u001b[0m\n\u001b[0m\u001b[1;32m      3\u001b[0m     \u001b[0mpq\u001b[0m \u001b[0;34m=\u001b[0m \u001b[0mPriorityQueue\u001b[0m\u001b[0;34m(\u001b[0m\u001b[0;34m)\u001b[0m\u001b[0;34m\u001b[0m\u001b[0m\n\u001b[1;32m      4\u001b[0m     \u001b[0mdq\u001b[0m \u001b[0;34m=\u001b[0m \u001b[0mPriorityDeduplicatedQueue\u001b[0m\u001b[0;34m(\u001b[0m\u001b[0;34m)\u001b[0m\u001b[0;34m\u001b[0m\u001b[0m\n\u001b[1;32m      5\u001b[0m     \u001b[0;32mfor\u001b[0m \u001b[0mitem\u001b[0m \u001b[0;32min\u001b[0m \u001b[0msetsToTest\u001b[0m\u001b[0;34m:\u001b[0m\u001b[0;34m\u001b[0m\u001b[0m\n",
      "\u001b[0;32m/usr/local/lib/python3.4/dist-packages/hypothesis/core.py\u001b[0m in \u001b[0;36mwrapped_test\u001b[0;34m(*arguments, **kwargs)\u001b[0m\n\u001b[1;32m    522\u001b[0m                         reify_and_execute(\n\u001b[1;32m    523\u001b[0m                             \u001b[0msearch_strategy\u001b[0m\u001b[0;34m,\u001b[0m \u001b[0mtest\u001b[0m\u001b[0;34m,\u001b[0m\u001b[0;34m\u001b[0m\u001b[0m\n\u001b[0;32m--> 524\u001b[0;31m                             \u001b[0mprint_example\u001b[0m\u001b[0;34m=\u001b[0m\u001b[0;32mTrue\u001b[0m\u001b[0;34m,\u001b[0m \u001b[0mis_final\u001b[0m\u001b[0;34m=\u001b[0m\u001b[0;32mTrue\u001b[0m\u001b[0;34m\u001b[0m\u001b[0m\n\u001b[0m\u001b[1;32m    525\u001b[0m                         ))\n\u001b[1;32m    526\u001b[0m             \u001b[0;32mexcept\u001b[0m \u001b[0;34m(\u001b[0m\u001b[0mUnsatisfiedAssumption\u001b[0m\u001b[0;34m,\u001b[0m \u001b[0mStopTest\u001b[0m\u001b[0;34m)\u001b[0m\u001b[0;34m:\u001b[0m\u001b[0;34m\u001b[0m\u001b[0m\n",
      "\u001b[0;32m/usr/local/lib/python3.4/dist-packages/hypothesis/executors.py\u001b[0m in \u001b[0;36mdefault_new_style_executor\u001b[0;34m(data, function)\u001b[0m\n\u001b[1;32m     56\u001b[0m \u001b[0;34m\u001b[0m\u001b[0m\n\u001b[1;32m     57\u001b[0m \u001b[0;32mdef\u001b[0m \u001b[0mdefault_new_style_executor\u001b[0m\u001b[0;34m(\u001b[0m\u001b[0mdata\u001b[0m\u001b[0;34m,\u001b[0m \u001b[0mfunction\u001b[0m\u001b[0;34m)\u001b[0m\u001b[0;34m:\u001b[0m\u001b[0;34m\u001b[0m\u001b[0m\n\u001b[0;32m---> 58\u001b[0;31m     \u001b[0;32mreturn\u001b[0m \u001b[0mfunction\u001b[0m\u001b[0;34m(\u001b[0m\u001b[0mdata\u001b[0m\u001b[0;34m)\u001b[0m\u001b[0;34m\u001b[0m\u001b[0m\n\u001b[0m\u001b[1;32m     59\u001b[0m \u001b[0;34m\u001b[0m\u001b[0m\n\u001b[1;32m     60\u001b[0m \u001b[0;34m\u001b[0m\u001b[0m\n",
      "\u001b[0;32m/usr/local/lib/python3.4/dist-packages/hypothesis/core.py\u001b[0m in \u001b[0;36mrun\u001b[0;34m(data)\u001b[0m\n\u001b[1;32m    109\u001b[0m                     lambda: 'Trying example: %s(%s)' % (\n\u001b[1;32m    110\u001b[0m                         test.__name__, arg_string(test, args, kwargs)))\n\u001b[0;32m--> 111\u001b[0;31m             \u001b[0;32mreturn\u001b[0m \u001b[0mtest\u001b[0m\u001b[0;34m(\u001b[0m\u001b[0;34m*\u001b[0m\u001b[0margs\u001b[0m\u001b[0;34m,\u001b[0m \u001b[0;34m**\u001b[0m\u001b[0mkwargs\u001b[0m\u001b[0;34m)\u001b[0m\u001b[0;34m\u001b[0m\u001b[0m\n\u001b[0m\u001b[1;32m    112\u001b[0m     \u001b[0;32mreturn\u001b[0m \u001b[0mrun\u001b[0m\u001b[0;34m\u001b[0m\u001b[0m\n\u001b[1;32m    113\u001b[0m \u001b[0;34m\u001b[0m\u001b[0m\n",
      "\u001b[0;32m<ipython-input-2-5cc3d2815b11>\u001b[0m in \u001b[0;36mtest10\u001b[0;34m(setsToTest)\u001b[0m\n\u001b[1;32m      2\u001b[0m \u001b[0;32mdef\u001b[0m \u001b[0mtest10\u001b[0m\u001b[0;34m(\u001b[0m\u001b[0msetsToTest\u001b[0m\u001b[0;34m)\u001b[0m\u001b[0;34m:\u001b[0m\u001b[0;34m\u001b[0m\u001b[0m\n\u001b[1;32m      3\u001b[0m     \u001b[0mpq\u001b[0m \u001b[0;34m=\u001b[0m \u001b[0mPriorityQueue\u001b[0m\u001b[0;34m(\u001b[0m\u001b[0;34m)\u001b[0m\u001b[0;34m\u001b[0m\u001b[0m\n\u001b[0;32m----> 4\u001b[0;31m     \u001b[0mdq\u001b[0m \u001b[0;34m=\u001b[0m \u001b[0mPriorityDeduplicatedQueue\u001b[0m\u001b[0;34m(\u001b[0m\u001b[0;34m)\u001b[0m\u001b[0;34m\u001b[0m\u001b[0m\n\u001b[0m\u001b[1;32m      5\u001b[0m     \u001b[0;32mfor\u001b[0m \u001b[0mitem\u001b[0m \u001b[0;32min\u001b[0m \u001b[0msetsToTest\u001b[0m\u001b[0;34m:\u001b[0m\u001b[0;34m\u001b[0m\u001b[0m\n\u001b[1;32m      6\u001b[0m         \u001b[0mpq\u001b[0m\u001b[0;34m.\u001b[0m\u001b[0mput\u001b[0m\u001b[0;34m(\u001b[0m\u001b[0mitem\u001b[0m\u001b[0;34m)\u001b[0m\u001b[0;34m\u001b[0m\u001b[0m\n",
      "\u001b[0;31mNameError\u001b[0m: name 'PriorityDeduplicatedQueue' is not defined"
     ]
    }
   ],
   "source": [
    "@given(uniqueItems)\n",
    "def test10(setsToTest):\n",
    "    pq = PriorityQueue()\n",
    "    dq = PriorityDeduplicatedQueue()\n",
    "    for item in setsToTest:\n",
    "        pq.put(item)\n",
    "        dq.put(item)\n",
    "    qremaining = list(getAll(pq))\n",
    "    dqremaining = list(getAll(dq))\n",
    "    assert qremaining == dqremaining, \"Priority queue contained %s but deduplicated queue had %s\" % (qremaining,dqremaining)\n",
    "\n",
    "    \n",
    "test10()\n"
   ]
  },
  {
   "cell_type": "code",
   "execution_count": 3,
   "metadata": {
    "collapsed": false
   },
   "outputs": [
    {
     "ename": "NameError",
     "evalue": "name 'test1' is not defined",
     "output_type": "error",
     "traceback": [
      "\u001b[0;31m---------------------------------------------\u001b[0m",
      "\u001b[0;31mNameError\u001b[0m   Traceback (most recent call last)",
      "\u001b[0;32m<ipython-input-3-23a6752e832e>\u001b[0m in \u001b[0;36m<module>\u001b[0;34m()\u001b[0m\n\u001b[1;32m     15\u001b[0m     \u001b[0;32massert\u001b[0m \u001b[0mqremaining\u001b[0m \u001b[0;34m==\u001b[0m \u001b[0mdqremaining\u001b[0m\u001b[0;34m,\u001b[0m \u001b[0;34m\"%s and %s should be equal\"\u001b[0m \u001b[0;34m%\u001b[0m \u001b[0;34m(\u001b[0m\u001b[0mqremaining\u001b[0m\u001b[0;34m,\u001b[0m\u001b[0mdqremaining\u001b[0m\u001b[0;34m)\u001b[0m\u001b[0;34m\u001b[0m\u001b[0m\n\u001b[1;32m     16\u001b[0m \u001b[0;34m\u001b[0m\u001b[0m\n\u001b[0;32m---> 17\u001b[0;31m \u001b[0mtest1\u001b[0m\u001b[0;34m(\u001b[0m\u001b[0;34m)\u001b[0m\u001b[0;34m\u001b[0m\u001b[0m\n\u001b[0m",
      "\u001b[0;31mNameError\u001b[0m: name 'test1' is not defined"
     ]
    }
   ],
   "source": [
    "@given(uniqueItemsLists)\n",
    "def test11(setsToTest):\n",
    "    pq = PriorityQueue()\n",
    "    dq = PriorityDeduplicatedQueue()\n",
    "    for items in setsToTest:\n",
    "        for item in items:\n",
    "            pq.put(item)\n",
    "            dq.put(item)\n",
    "        if not pq.empty and not dq.empty:    \n",
    "            qitem = q.get_nowait()\n",
    "            dqitem = dq.get_nowait()\n",
    "            assert qitem==dqitem,\"%s and %s should be equal\" % (qitem,dqitem)\n",
    "    qremaining = list(getAll(pq))\n",
    "    dqremaining = list(getAll(dq))\n",
    "    assert qremaining == dqremaining, \"%s and %s should be equal\" % (qremaining,dqremaining)\n",
    "    \n",
    "test1()\n"
   ]
  }
 ],
 "metadata": {
  "kernelspec": {
   "display_name": "Python 3",
   "language": "python",
   "name": "python3"
  },
  "language_info": {
   "codemirror_mode": {
    "name": "ipython",
    "version": 3
   },
   "file_extension": ".py",
   "mimetype": "text/x-python",
   "name": "python",
   "nbconvert_exporter": "python",
   "pygments_lexer": "ipython3",
   "version": "3.4.3"
  }
 },
 "nbformat": 4,
 "nbformat_minor": 1
}
