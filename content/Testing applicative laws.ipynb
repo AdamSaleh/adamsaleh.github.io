{
 "cells": [
  {
   "cell_type": "markdown",
   "metadata": {},
   "source": [
    "# Testing the applicative laws?\n",
    "\n",
    "Now we have a problem, where we have several laws we want to adhere to, but testing that a property holds for *every* possible function is tricky. Fortunately, there is another definition for applicative, called monoidal.\n",
    "\n",
    "Definition for monoidal looks like this:\n",
    "\n",
    "For functor F, lets have \n",
    "* a empty F[Unit]\n",
    "* function combine(F[a], F[b]) = F[(a,b)], that combines functor of a and functor of b into functor of tuples of a and b\n",
    "\n",
    "Borrowing a trick from discrete math, we can have define Unit as an empty tuple."
   ]
  },
  {
   "cell_type": "code",
   "execution_count": 61,
   "metadata": {
    "collapsed": true
   },
   "outputs": [],
   "source": [
    "Unit = ()"
   ]
  },
  {
   "cell_type": "markdown",
   "metadata": {},
   "source": [
    "We can define both empty and combine with pure and apply:"
   ]
  },
  {
   "cell_type": "code",
   "execution_count": 63,
   "metadata": {
    "collapsed": true
   },
   "outputs": [],
   "source": [
    "class Applicative:\n",
    "    def pure(self, val):\n",
    "        raise NotImplementedError();\n",
    "    \n",
    "    def apply(self, fn, val):\n",
    "        raise NotImplementedError();\n",
    "    \n",
    "    def empty(self):\n",
    "        return self.pure(Unit)\n",
    "    \n",
    "    def combine(self, fa, fb):\n",
    "        return self.apply(self.apply(self.pure(lambda x: lambda y: (x, y)),fa),fb)\n",
    "    \n",
    "    def map(self, f, x):\n",
    "        return apply(pure(f),x)\n",
    "    \n",
    "    def lift(self, fn):\n",
    "        def lifted(arg0, *args):\n",
    "            result = self.apply(self.pure(curry(len(args)+1, fn)),arg0)\n",
    "            for a in args:\n",
    "                result = self.apply(result, a)\n",
    "            return result\n",
    "        return lifted"
   ]
  },
  {
   "cell_type": "markdown",
   "metadata": {},
   "source": [
    "Now we can take the alternative laws for monoidal instances taken from [Applicative programming with effects](http://openaccess.city.ac.uk/13222/1/Applicative-final.pdf):\n",
    "\n",
    "* naturality of `combine`: map(product(f,g), combine(u,v)) = combine(map(f,u), map(g,v))\n",
    "* left identity: map(second, combine(Unit, v)) = v\n",
    "* right identity: map(first, combine(v, Unit)) = v\n",
    "* map(assoc, combine(u, combine(v, w)) = combine(combine(u, v), w))\n",
    "\n",
    "We still need to define product, first, second and assoc:"
   ]
  },
  {
   "cell_type": "code",
   "execution_count": 71,
   "metadata": {
    "collapsed": true
   },
   "outputs": [],
   "source": [
    "def product(f,g):\n",
    "    def p(a_tuple):\n",
    "        a,b = a_tuple\n",
    "        return (f(a),g(b))\n",
    "    return p\n",
    "\n",
    "def first(a_tuple):\n",
    "    a,b = a_tuple\n",
    "    return a\n",
    "\n",
    "def second(a_tuple):\n",
    "    a,b = a_tuple\n",
    "    return b\n",
    "\n",
    "def assoc(nested):\n",
    "    a,(b,c) = nested\n",
    "    return ((a,b),c)"
   ]
  },
  {
   "cell_type": "markdown",
   "metadata": {},
   "source": [
    "Now we can "
   ]
  },
  {
   "cell_type": "code",
   "execution_count": null,
   "metadata": {
    "collapsed": true
   },
   "outputs": [],
   "source": []
  }
 ],
 "metadata": {
  "kernelspec": {
   "display_name": "Python 3",
   "language": "python",
   "name": "python3"
  },
  "language_info": {
   "codemirror_mode": {
    "name": "ipython",
    "version": 3
   },
   "file_extension": ".py",
   "mimetype": "text/x-python",
   "name": "python",
   "nbconvert_exporter": "python",
   "pygments_lexer": "ipython3",
   "version": "3.5.1"
  }
 },
 "nbformat": 4,
 "nbformat_minor": 2
}
