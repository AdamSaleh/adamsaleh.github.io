{
 "cells": [
  {
   "cell_type": "markdown",
   "metadata": {
    "outputExpanded": false
   },
   "source": [
    "# What if I have multiple parameters?\n",
    "\n",
    "Mapping only single param functions can be limiting. It would be cool if `lift` would could work on function with arbitrary many parameters.\n",
    "\n",
    "Could *currying* rescue us?\n",
    "\n",
    "Currying is a concept, where instead of passing in all the params into the function at once, you pass in the first param and grt a new function as a result. This function accepts the second param and returns a function that accepts the third, and by now you should be getting a picture.\n",
    "\n",
    "Or maybe I should show an example.Lets invent a nontrivial 3 arg function, we will call it erm, `window` (because slice was taken)."
   ]
  },
  {
   "cell_type": "code",
   "execution_count": 23,
   "metadata": {
    "outputExpanded": false
   },
   "outputs": [
    {
     "data": {
      "text/plain": [
       "[3, 4]"
      ]
     },
     "execution_count": 23,
     "metadata": {},
     "output_type": "execute_result"
    }
   ],
   "source": [
    "from functools import partial\n",
    "\n",
    "def window(begin,end,array):\n",
    "    return array[begin:end]\n",
    "\n",
    "window(2,4,[1,2,3,4,5])"
   ]
  },
  {
   "cell_type": "markdown",
   "metadata": {
    "outputExpanded": false
   },
   "source": [
    "If this function were curried, it would look like this:"
   ]
  },
  {
   "cell_type": "code",
   "execution_count": 5,
   "metadata": {
    "outputExpanded": false,
    "scrolled": true
   },
   "outputs": [
    {
     "data": {
      "text/plain": [
       "[3, 4]"
      ]
     },
     "execution_count": 5,
     "metadata": {},
     "output_type": "execute_result"
    }
   ],
   "source": [
    "def curried_window(begin):\n",
    "    return lambda end: (lambda array: array[begin:end])\n",
    "curried_window(2)(4)([1,2,3,4,5])"
   ]
  },
  {
   "cell_type": "markdown",
   "metadata": {
    "outputExpanded": false
   },
   "source": [
    "Some functional languages have this as a default. The nice thing about that is, that you can quickly create more specific fuctions, without the need to wrap them in new function definitions.\n",
    "\n",
    "And this seems to solve out problem with multi param function, because sudenly, everything is a single param function, if you squint hard enough :)"
   ]
  },
  {
   "cell_type": "code",
   "execution_count": 6,
   "metadata": {
    "outputExpanded": false
   },
   "outputs": [
    {
     "data": {
      "text/plain": [
       "[<function __main__.curried_window.<locals>.<lambda>>,\n",
       " <function __main__.curried_window.<locals>.<lambda>>,\n",
       " <function __main__.curried_window.<locals>.<lambda>>,\n",
       " <function __main__.curried_window.<locals>.<lambda>>]"
      ]
     },
     "execution_count": 6,
     "metadata": {},
     "output_type": "execute_result"
    }
   ],
   "source": [
    "list(map(curried_window,[1,2,3,4]))"
   ]
  },
  {
   "cell_type": "markdown",
   "metadata": {
    "outputExpanded": false
   },
   "source": [
    "Ok, as you can see, currying won't save us just yet, because even though we can use map with them,\n",
    "result is kind-of useless list of functions. We would need to somehow be able to *apply* this list of functions on a list of values. "
   ]
  },
  {
   "cell_type": "code",
   "execution_count": 7,
   "metadata": {
    "outputExpanded": false
   },
   "outputs": [
    {
     "data": {
      "text/plain": [
       "[[2, 3, 4, 5],\n",
       " [2, 3, 4, 5],\n",
       " [2, 3, 4, 5, 6],\n",
       " [2, 3, 4, 5, 6],\n",
       " [3, 4, 5],\n",
       " [3, 4, 5],\n",
       " [3, 4, 5, 6],\n",
       " [3, 4, 5, 6]]"
      ]
     },
     "execution_count": 7,
     "metadata": {},
     "output_type": "execute_result"
    }
   ],
   "source": [
    "def apply(lfn,lx):\n",
    "    return [fn(x) for fn in lfn for x in lx]\n",
    "\n",
    "\n",
    "a0 = map(curried_window,[1,2])\n",
    "a1 = apply(a0,[5,6])\n",
    "a2 = apply(a1,[\n",
    "    [1,2,3,4,5,6],\n",
    "    [1,2,3,4,5,6]\n",
    "              ])\n",
    "\n",
    "a2"
   ]
  },
  {
   "cell_type": "markdown",
   "metadata": {
    "outputExpanded": false
   },
   "source": [
    "Yay, this seems to have worked :)\n",
    "\n",
    "Now we can try to combine currying with *apply* and create a propper lift function :)\n"
   ]
  },
  {
   "cell_type": "code",
   "execution_count": 1,
   "metadata": {
    "collapsed": true,
    "outputExpanded": false
   },
   "outputs": [],
   "source": [
    "def curry(n, fn):\n",
    "    if n == 1:\n",
    "        return fn\n",
    "    if n == 2:\n",
    "        return lambda x:partial(fn,x)\n",
    "    else:\n",
    "        return lambda x:curry(n-1,partial(fn,x))\n",
    "    \n",
    "def lift(fn):\n",
    "    def lifted(arg0, *args):\n",
    "        result = map(curry(len(args)+1, fn),arg0)\n",
    "        for a in args:\n",
    "            result = apply(result, a)\n",
    "        return result\n",
    "    return lifted"
   ]
  },
  {
   "cell_type": "markdown",
   "metadata": {
    "outputExpanded": false
   },
   "source": [
    "There is one more assumption we made, when creating this lift function.\n",
    "On the line where we state:\n",
    "```\n",
    "result = map(curry(len(args)+1, fn),arg0)\n",
    "```\n",
    "we assume that you can use `map` function on the data-type we are lifting."
   ]
  },
  {
   "cell_type": "code",
   "execution_count": 9,
   "metadata": {
    "outputExpanded": false
   },
   "outputs": [
    {
     "data": {
      "text/plain": [
       "[[2, 3, 4, 5],\n",
       " [2, 3, 4, 5],\n",
       " [2, 3, 4, 5, 6],\n",
       " [2, 3, 4, 5, 6],\n",
       " [3, 4, 5],\n",
       " [3, 4, 5],\n",
       " [3, 4, 5, 6],\n",
       " [3, 4, 5, 6]]"
      ]
     },
     "execution_count": 9,
     "metadata": {},
     "output_type": "execute_result"
    }
   ],
   "source": [
    "liftedw = lift(window)\n",
    "liftedw([1,2], [5,6], [\n",
    "    [1,2,3,4,5,6],\n",
    "    [1,2,3,4,5,6],\n",
    "])"
   ]
  },
  {
   "cell_type": "markdown",
   "metadata": {
    "outputExpanded": false
   },
   "source": [
    "So, why to through all of this trouble to get the equivalent of i.e:"
   ]
  },
  {
   "cell_type": "code",
   "execution_count": 10,
   "metadata": {
    "outputExpanded": false
   },
   "outputs": [
    {
     "data": {
      "text/plain": [
       "[[2, 3, 4, 5],\n",
       " [2, 3, 4, 5],\n",
       " [2, 3, 4, 5, 6],\n",
       " [2, 3, 4, 5, 6],\n",
       " [3, 4, 5],\n",
       " [3, 4, 5],\n",
       " [3, 4, 5, 6],\n",
       " [3, 4, 5, 6]]"
      ]
     },
     "execution_count": 10,
     "metadata": {},
     "output_type": "execute_result"
    }
   ],
   "source": [
    "[window(x,y,z) \n",
    " for x in [1,2] \n",
    " for y in [5,6] \n",
    " for z in [[1,2,3,4,5,6],[1,2,3,4,5,6]]]"
   ]
  },
  {
   "cell_type": "markdown",
   "metadata": {
    "outputExpanded": false
   },
   "source": [
    "I have two reasons:\n",
    "* We could use this pattern for things that are not iterable :)\n",
    "* we can analyze the pattern in isolation and figure out interesting relations"
   ]
  },
  {
   "cell_type": "markdown",
   "metadata": {
    "outputExpanded": false
   },
   "source": [
    "# Lifting values\n",
    "\n",
    "So far, we were concerned about lifting functions, but we would probably like to be able to lift arbitrary values as well. As you can see in our `lifted` definition, we have so far assumed, that we are lifting at least an unary function. Because we can't derive the wrapper for values from map and apply, we need to define it for the specific datatype. We uaually call this function `pure`"
   ]
  },
  {
   "cell_type": "code",
   "execution_count": 11,
   "metadata": {
    "collapsed": true,
    "outputExpanded": false
   },
   "outputs": [],
   "source": [
    "def pure(value):\n",
    "    return [value]"
   ]
  },
  {
   "cell_type": "markdown",
   "metadata": {
    "outputExpanded": false
   },
   "source": [
    "Interesting thing with `pure` is, that with it defined, we should be able to replace uses of `map(fn,o)` with `apply(pure(fn),o)`."
   ]
  },
  {
   "cell_type": "markdown",
   "metadata": {
    "outputExpanded": false
   },
   "source": [
    "# Algebra behind the applicative\n",
    "\n",
    "So far we have not been explicit about our formal requirements on `map`, `applicative` and `pure`. I have mentioned that `map` should behave *sensible* and that there is some relationship between functors, lifting and category theory.\n",
    "\n",
    "In my mind, the most sensible thing, is to think about functor as a lawful interface. Lawful interface would mean, that it conforms to more requirements, than just the ability to i.e. perform a method call.\n",
    "\n",
    "A type T describes a functor if:\n",
    "* we can consider T a wrapper over arbitrary type A\n",
    "* there is a function `map`, that\n",
    "  * accepts function `f`, that accepts `a` and returns `b`\n",
    "  * accepts `T` wrapping `a`\n",
    "  * returns `T` wrapping `b`\n",
    "  \n",
    "In haskell we would say that map has type (a -> b) -> T a -> T b\n",
    "With [Python's typing library](https://docs.python.org/3/library/typing.html) we could say that the type of `map` is\n",
    "```\n",
    "Callable[[Callable[[A],B], T[A]],T[B]]\n",
    "```\n",
    "\n",
    "The map function then needs to conform to these laws\n",
    "* for any t, `map(lambda x:x ,t) == t`\n",
    "* for any t and any two composable functions f and g, `map(f,map(g,t)) == map(lambda x: f(g(x)),t)`\n",
    "\n",
    "If we define `id` and `compose` functions:\n",
    "```\n",
    "def id(x):\n",
    "  return x\n",
    "  \n",
    "def compose(f,g):\n",
    "  def composed(x)\n",
    "    return f(g(x))\n",
    "  return composed\n",
    "```\n",
    "\n",
    "we can swap the lambda expressions in the laws:\n",
    "* for any t, `map(id ,t) == t`\n",
    "* for any t and any two composable functions f and g, `map(f,map(g,t)) == map(compose(f,g),t)`\n",
    "\n",
    "\n",
    "For applicative, we need it to implement be functor as well as\n",
    "* have function `pure` that accepts arbitrary `a` and returnt `T a`\n",
    "* have function `apply`, that\n",
    "  * for any function f, that accepts `a` and returns `b`\n",
    "  * accepts `T` wrapping `f`\n",
    "  * accepts `T` wrapping `a`\n",
    "  * returns `T` wrapping `b`\n",
    "  \n",
    "In haskell, we would say, that `pure` has type a -> T a and apply T (a -> b) -> T a -> T b\n",
    "With [Python's typing library](https://docs.python.org/3/library/typing.html) we could say that the type of `pure` is\n",
    "```\n",
    "Callable[[A], T[A]]\n",
    "```\n",
    "And type of `apply` is\n",
    "```\n",
    "Callable[[T[Callable[[A],B]], T[A]],T[B]]\n",
    "```\n",
    "\n",
    "The `apply` and `pure` functions need to conform to these laws:\n",
    "* for any t, `apply(pure(id),t) == t`\n",
    "* for any function f and type x, `apply(pure(f),pure(x)) == f(x)`\n",
    "* for any t, x, `apply(t, pure(x)) == apply(pure(lambda g: g(x)),t)`\n",
    "* for any u,v,w, `apply(apply(apply(pure(compose),u),v),w) == apply(u,apply(v,w))`\n",
    "  * be aware that apply is not required to be associative, i.e. you can't state what ?? should be in `apply(apply(u,v),w) ?? apply(u,apply(v,w))`"
   ]
  },
  {
   "cell_type": "markdown",
   "metadata": {
    "outputExpanded": false
   },
   "source": [
    "# Parametrized lift\n",
    "\n",
    "For some of the following examples, I need to be able to lift into different domains. I might want to do this by making the lift function parametrized. "
   ]
  },
  {
   "cell_type": "code",
   "execution_count": 12,
   "metadata": {
    "collapsed": true,
    "outputExpanded": false
   },
   "outputs": [],
   "source": [
    "def lift(pure, apply, fn):\n",
    "    def lifted(arg0, *args):\n",
    "        result = apply(pure(curry(len(args)+1, fn)),arg0)\n",
    "        for a in args:\n",
    "            result = apply(result, a)\n",
    "        return result\n",
    "    return lifted"
   ]
  },
  {
   "cell_type": "markdown",
   "metadata": {},
   "source": [
    "On the other hand, as they say \"Closure is just a poor man's object\", we might want to make applicative a class:"
   ]
  },
  {
   "cell_type": "code",
   "execution_count": 13,
   "metadata": {
    "collapsed": true,
    "outputExpanded": false
   },
   "outputs": [],
   "source": [
    "class Applicative:\n",
    "    def __init__(self, pure, apply):\n",
    "        self.pure = pure\n",
    "        self.apply = apply\n",
    "        \n",
    "    def lift(self, fn):\n",
    "        def lifted(arg0, *args):\n",
    "            result = self.apply(self.pure(curry(len(args)+1, fn)),arg0)\n",
    "            for a in args:\n",
    "                result = self.apply(result, a)\n",
    "            return result\n",
    "        return lifted"
   ]
  },
  {
   "cell_type": "markdown",
   "metadata": {},
   "source": [
    "And to impose further structure, we can do-away with passing in the pure and apply definitions into constructor, but we could define them as plain old methods:"
   ]
  },
  {
   "cell_type": "code",
   "execution_count": 36,
   "metadata": {
    "collapsed": true,
    "outputExpanded": false
   },
   "outputs": [],
   "source": [
    "class Applicative:\n",
    "    def pure(self, val):\n",
    "        raise NotImplementedError();\n",
    "    \n",
    "    def apply(self, fn, val):\n",
    "        raise NotImplementedError();\n",
    "        \n",
    "    def lift(self, fn):\n",
    "        def lifted(arg0, *args):\n",
    "            result = self.apply(self.pure(curry(len(args)+1, fn)),arg0)\n",
    "            for a in args:\n",
    "                result = self.apply(result, a)\n",
    "            return result\n",
    "        return lifted"
   ]
  },
  {
   "cell_type": "markdown",
   "metadata": {},
   "source": [
    "Because applicatives are not native to python, I am not entirely sure how to best define them. But this way looks simple enough."
   ]
  },
  {
   "cell_type": "markdown",
   "metadata": {
    "outputExpanded": false
   },
   "source": [
    "# Solving the null-pointer exception?\n",
    "\n",
    "One thing we could try, is to solve the NPE problem with this. If you think about it, when you have function, that doesn't expect `None`, but gets it, only reasonable thing we could do with this, is return `None`. \n",
    "\n",
    "We can define our wrapper function `pure` to just return the value back. We wouldn't be able to do this kind of cheating in haskell, where we would need to explicitly box the type. In Python this seems to be working.\n",
    "\n",
    "We define our apply function to return `None` if any of the params are `None`.\n",
    "We can try this on `int` function."
   ]
  },
  {
   "cell_type": "code",
   "execution_count": 18,
   "metadata": {
    "collapsed": true,
    "outputExpanded": false
   },
   "outputs": [],
   "source": [
    "class ApplyNone(Applicative):\n",
    "    def pure(self, val):\n",
    "        return val\n",
    "\n",
    "    def apply(self, lfn,lx):\n",
    "        if lfn!=None and lx!=None:\n",
    "            return lfn(lx)\n",
    "        return None\n",
    "\n",
    "nint = ApplyNone().lift(int)"
   ]
  },
  {
   "cell_type": "markdown",
   "metadata": {
    "outputExpanded": false
   },
   "source": [
    "Now we can compare:"
   ]
  },
  {
   "cell_type": "code",
   "execution_count": 19,
   "metadata": {
    "outputExpanded": false
   },
   "outputs": [
    {
     "name": "stdout",
     "output_type": "stream",
     "text": [
      "1\n"
     ]
    },
    {
     "ename": "TypeError",
     "evalue": "int() argument must be a string, a bytes-like object or a number, not 'NoneType'",
     "output_type": "error",
     "traceback": [
      "\u001b[0;31m---------------------------------------------------------------------------\u001b[0m",
      "\u001b[0;31mTypeError\u001b[0m                                 Traceback (most recent call last)",
      "\u001b[0;32m<ipython-input-19-0030a6dbdf17>\u001b[0m in \u001b[0;36m<module>\u001b[0;34m()\u001b[0m\n\u001b[1;32m      1\u001b[0m \u001b[0mprint\u001b[0m\u001b[0;34m(\u001b[0m\u001b[0mint\u001b[0m\u001b[0;34m(\u001b[0m\u001b[0;34m\"1\"\u001b[0m\u001b[0;34m)\u001b[0m\u001b[0;34m)\u001b[0m\u001b[0;34m\u001b[0m\u001b[0m\n\u001b[0;32m----> 2\u001b[0;31m \u001b[0mprint\u001b[0m\u001b[0;34m(\u001b[0m\u001b[0mint\u001b[0m\u001b[0;34m(\u001b[0m\u001b[0;32mNone\u001b[0m\u001b[0;34m)\u001b[0m\u001b[0;34m)\u001b[0m\u001b[0;34m\u001b[0m\u001b[0m\n\u001b[0m",
      "\u001b[0;31mTypeError\u001b[0m: int() argument must be a string, a bytes-like object or a number, not 'NoneType'"
     ]
    }
   ],
   "source": [
    "print(int(\"1\"))\n",
    "print(int(None))"
   ]
  },
  {
   "cell_type": "code",
   "execution_count": 20,
   "metadata": {
    "outputExpanded": false
   },
   "outputs": [
    {
     "name": "stdout",
     "output_type": "stream",
     "text": [
      "1\n",
      "None\n"
     ]
    }
   ],
   "source": [
    "print(nint(\"1\"))\n",
    "print(nint(None))"
   ]
  },
  {
   "cell_type": "markdown",
   "metadata": {
    "outputExpanded": false
   },
   "source": [
    "To be honest, this is sort of a toy example. You probably don't want to just wrap your functions with this and instead of error at the place of failure just recieve the propagated nulls everywhere. But we can do better.  "
   ]
  },
  {
   "cell_type": "markdown",
   "metadata": {
    "outputExpanded": false
   },
   "source": [
    "# Applicative Validation\n",
    "\n",
    "So what about some other uses? One I really like is using applicatives for validation.\n",
    "\n",
    "First, let me harp on a thing I don't like about *exceptions*. Once you throw it,\n",
    "you are aborting the execution. I especially dislike it, if somebody uses exceptions\n",
    "to validate function params, i.e.:"
   ]
  },
  {
   "cell_type": "code",
   "execution_count": 21,
   "metadata": {
    "outputExpanded": false
   },
   "outputs": [
    {
     "ename": "Exception",
     "evalue": "Begin was negative",
     "output_type": "error",
     "traceback": [
      "\u001b[0;31m---------------------------------------------------------------------------\u001b[0m",
      "\u001b[0;31mException\u001b[0m                                 Traceback (most recent call last)",
      "\u001b[0;32m<ipython-input-21-7d3436bc90f5>\u001b[0m in \u001b[0;36m<module>\u001b[0;34m()\u001b[0m\n\u001b[1;32m      6\u001b[0m     \u001b[0;32mreturn\u001b[0m \u001b[0mwindow\u001b[0m\u001b[0;34m(\u001b[0m\u001b[0mbegin\u001b[0m\u001b[0;34m,\u001b[0m\u001b[0mend\u001b[0m\u001b[0;34m,\u001b[0m\u001b[0marr\u001b[0m\u001b[0;34m)\u001b[0m\u001b[0;34m\u001b[0m\u001b[0m\n\u001b[1;32m      7\u001b[0m \u001b[0;34m\u001b[0m\u001b[0m\n\u001b[0;32m----> 8\u001b[0;31m \u001b[0mvalidated_window\u001b[0m\u001b[0;34m(\u001b[0m\u001b[0;34m-\u001b[0m\u001b[0;36m1\u001b[0m\u001b[0;34m,\u001b[0m\u001b[0;34m-\u001b[0m\u001b[0;36m1\u001b[0m\u001b[0;34m,\u001b[0m\u001b[0;34m[\u001b[0m\u001b[0;34m]\u001b[0m\u001b[0;34m)\u001b[0m\u001b[0;34m\u001b[0m\u001b[0m\n\u001b[0m",
      "\u001b[0;32m<ipython-input-21-7d3436bc90f5>\u001b[0m in \u001b[0;36mvalidated_window\u001b[0;34m(begin, end, arr)\u001b[0m\n\u001b[1;32m      1\u001b[0m \u001b[0;32mdef\u001b[0m \u001b[0mvalidated_window\u001b[0m\u001b[0;34m(\u001b[0m\u001b[0mbegin\u001b[0m\u001b[0;34m,\u001b[0m \u001b[0mend\u001b[0m\u001b[0;34m,\u001b[0m \u001b[0marr\u001b[0m\u001b[0;34m)\u001b[0m\u001b[0;34m:\u001b[0m\u001b[0;34m\u001b[0m\u001b[0m\n\u001b[1;32m      2\u001b[0m     \u001b[0;32mif\u001b[0m \u001b[0mbegin\u001b[0m \u001b[0;34m<\u001b[0m \u001b[0;36m0\u001b[0m\u001b[0;34m:\u001b[0m\u001b[0;34m\u001b[0m\u001b[0m\n\u001b[0;32m----> 3\u001b[0;31m         \u001b[0;32mraise\u001b[0m \u001b[0mException\u001b[0m\u001b[0;34m(\u001b[0m\u001b[0;34m\"Begin was negative\"\u001b[0m\u001b[0;34m)\u001b[0m\u001b[0;34m\u001b[0m\u001b[0m\n\u001b[0m\u001b[1;32m      4\u001b[0m     \u001b[0;32mif\u001b[0m \u001b[0mend\u001b[0m \u001b[0;34m<\u001b[0m \u001b[0;36m1\u001b[0m\u001b[0;34m:\u001b[0m\u001b[0;34m\u001b[0m\u001b[0m\n\u001b[1;32m      5\u001b[0m         \u001b[0;32mraise\u001b[0m \u001b[0mException\u001b[0m\u001b[0;34m(\u001b[0m\u001b[0;34m\"End was not positive\"\u001b[0m\u001b[0;34m)\u001b[0m\u001b[0;34m\u001b[0m\u001b[0m\n",
      "\u001b[0;31mException\u001b[0m: Begin was negative"
     ]
    }
   ],
   "source": [
    "def validated_window(begin, end, arr):\n",
    "    if begin < 0:\n",
    "        raise Exception(\"Begin was negative\")\n",
    "    if end < 1:\n",
    "        raise Exception(\"End was not positive\")\n",
    "    return window(begin,end,arr)\n",
    "\n",
    "validated_window(-1,-1,[])"
   ]
  },
  {
   "cell_type": "markdown",
   "metadata": {
    "outputExpanded": false
   },
   "source": [
    "Exception only told me about the frst problem. But with applicative pattern, I can rewrite it in such way, that I would get all of them.\n",
    "\n",
    "I will define two validating functions:"
   ]
  },
  {
   "cell_type": "code",
   "execution_count": 22,
   "metadata": {
    "collapsed": true,
    "outputExpanded": false
   },
   "outputs": [],
   "source": [
    "def valid_begin(begin):\n",
    "    return begin if begin >= 0 else Exception(\"Begin was negative\")\n",
    "\n",
    "def valid_end(end):\n",
    "    return end if end > 0 else Exception(\"End was not positive\")"
   ]
  },
  {
   "cell_type": "markdown",
   "metadata": {
    "outputExpanded": false
   },
   "source": [
    "Now, let me define how would I like to write the validated function."
   ]
  },
  {
   "cell_type": "code",
   "execution_count": 23,
   "metadata": {
    "collapsed": true,
    "outputExpanded": false
   },
   "outputs": [],
   "source": [
    "def validated_window(begin, end, arr):    \n",
    "    return liftedw(valid_begin(begin),valid_end(end),arr)"
   ]
  },
  {
   "cell_type": "markdown",
   "metadata": {
    "outputExpanded": false
   },
   "source": [
    "Now the interesting part of the puzzle is to redefine applyy once again, from thing that processes values in arrays, to thing that can deal with values that might be useless Exceptions."
   ]
  },
  {
   "cell_type": "code",
   "execution_count": 24,
   "metadata": {
    "collapsed": true,
    "outputExpanded": false
   },
   "outputs": [],
   "source": [
    "class ApplyError(Applicative):\n",
    "    def pure(self, val):\n",
    "        return val\n",
    "\n",
    "    def apply(self,lfn,lx):\n",
    "        if isinstance(lfn,Exception) and isinstance(lx,Exception):\n",
    "            return Exception(*lfn.args,*lx.args)\n",
    "        if isinstance(lfn,Exception):\n",
    "            return lfn    \n",
    "        if isinstance(lx,Exception):\n",
    "            return lx\n",
    "        return lfn(lx)\n",
    "    "
   ]
  },
  {
   "cell_type": "markdown",
   "metadata": {
    "outputExpanded": false
   },
   "source": [
    "As you can see, there are 3 cases to consider:\n",
    "* if both *fn* and *x* contain exceptions, I return agregate exception\n",
    "* if *fn* or *x* contain exceptions, I return the exception\n",
    "* if none of these happen, I can return *fn(x)*"
   ]
  },
  {
   "cell_type": "code",
   "execution_count": 25,
   "metadata": {
    "outputExpanded": false
   },
   "outputs": [
    {
     "data": {
      "text/plain": [
       "Exception('Begin was negative', 'End was not positive')"
      ]
     },
     "execution_count": 25,
     "metadata": {},
     "output_type": "execute_result"
    }
   ],
   "source": [
    "liftedw = ApplyError().lift(window);\n",
    "validated_window(-1,-1,[])"
   ]
  },
  {
   "cell_type": "markdown",
   "metadata": {
    "outputExpanded": false
   },
   "source": [
    "This style of applicative validation is more or less taken from the [Purescript book](https://leanpub.com/purescript/read#leanpub-auto-applicative-validation). There is a difference, in the explicit boxing and unboxing I have mentioned earlier. If we explixitly boxed i.e. the `Exception` in an object of i.e. `Validated` class, we might be able to use some nice features of python, like sinlge dispatch. On the other hand, the lack of static type checking means, that the boxing wouldn't really help us."
   ]
  },
  {
   "cell_type": "markdown",
   "metadata": {},
   "source": [
    "# Applicative generators\n",
    "\n",
    "In python we have the concept of generator, that just produces a stream values. For example, we could have a infinite stream of positive and negative numbers."
   ]
  },
  {
   "cell_type": "code",
   "execution_count": 27,
   "metadata": {
    "collapsed": true
   },
   "outputs": [],
   "source": [
    "def positive():\n",
    "    i = 0;\n",
    "    while True:\n",
    "        i+=1\n",
    "        yield i\n",
    "\n",
    "def negative():\n",
    "    i=0\n",
    "    while True:\n",
    "        i1=1\n",
    "        yield i"
   ]
  },
  {
   "cell_type": "markdown",
   "metadata": {},
   "source": [
    "Previously we created applicative, that would be able to lift iterables/generators by doing the equivalent of:\n",
    "    \n",
    "```\n",
    "def apply(wf,wx)\n",
    "    return [f(x) \n",
    "        for f in wf \n",
    "        for x in wx]\n",
    "```\n",
    "\n",
    "This would of course only work for generators that end. But we could combne generators in a way that would be equal to:"
   ]
  },
  {
   "cell_type": "code",
   "execution_count": 30,
   "metadata": {
    "collapsed": true
   },
   "outputs": [],
   "source": [
    "def apply(wf,wx):\n",
    "    return (f(x) \n",
    "        for f,x in zip(wf, wx))"
   ]
  },
  {
   "cell_type": "markdown",
   "metadata": {},
   "source": [
    "So, how would we define the `pure` function? One way might be:"
   ]
  },
  {
   "cell_type": "code",
   "execution_count": 31,
   "metadata": {
    "collapsed": true
   },
   "outputs": [],
   "source": [
    "def pure(v):\n",
    "    yield v"
   ]
  },
  {
   "cell_type": "markdown",
   "metadata": {},
   "source": [
    "There is a problem with this definition, though. We want `apply(pure(id),t) == t`, for any t. And if we try i.e. `t = [1, 2, 3]`"
   ]
  },
  {
   "cell_type": "code",
   "execution_count": 35,
   "metadata": {},
   "outputs": [
    {
     "data": {
      "text/plain": [
       "[1]"
      ]
     },
     "execution_count": 35,
     "metadata": {},
     "output_type": "execute_result"
    }
   ],
   "source": [
    "list(apply(pure(lambda x:x),[1,2,3]))"
   ]
  },
  {
   "cell_type": "markdown",
   "metadata": {},
   "source": [
    "This means that the correct definition for `pure` will need to be an infinite stream, repeating the value."
   ]
  },
  {
   "cell_type": "code",
   "execution_count": 44,
   "metadata": {
    "collapsed": true
   },
   "outputs": [],
   "source": [
    "class ApplyGenerator(Applicative):\n",
    "    def pure(self, val):\n",
    "        while True:\n",
    "            yield val\n",
    "\n",
    "    def apply(self, wf, wx):\n",
    "        return (f(x) \n",
    "            for f,x in zip(wf, wx))"
   ]
  },
  {
   "cell_type": "markdown",
   "metadata": {},
   "source": [
    "Now we can try this with our window function."
   ]
  },
  {
   "cell_type": "code",
   "execution_count": 72,
   "metadata": {},
   "outputs": [
    {
     "data": {
      "text/plain": [
       "[[2, 3, 4, 5], [3, 4, 5, 6]]"
      ]
     },
     "execution_count": 72,
     "metadata": {},
     "output_type": "execute_result"
    }
   ],
   "source": [
    "list(ApplyGenerator().lift(window)([1,2], [5,6], [\n",
    "    [1,2,3,4,5,6],\n",
    "    [1,2,3,4,5,6],\n",
    "]))"
   ]
  },
  {
   "cell_type": "markdown",
   "metadata": {},
   "source": [
    "And it seems that it is working as expected :-) "
   ]
  },
  {
   "cell_type": "markdown",
   "metadata": {
    "outputExpanded": false
   },
   "source": [
    "# Composing applicatives"
   ]
  },
  {
   "cell_type": "markdown",
   "metadata": {
    "outputExpanded": false
   },
   "source": [
    "Now, after we have defined several somewhat useful applicatives, we can nest them. I am stealing the implementation from the original paper [ Applicative programming with effects](http://openaccess.city.ac.uk/13222/1/Applicative-final.pdf) from the part *Composing applicative functors*"
   ]
  },
  {
   "cell_type": "code",
   "execution_count": 45,
   "metadata": {
    "collapsed": true,
    "outputExpanded": false
   },
   "outputs": [],
   "source": [
    "def containing(outer, inner):\n",
    "    class Nested(Applicative):\n",
    "        def pure(self, val):\n",
    "            return outer.pure(inner.pure(val))\n",
    "        def apply(self, lfn, lval):\n",
    "            return outer.lift(inner.apply)(lfn,lval)\n",
    "    return Nested()"
   ]
  },
  {
   "cell_type": "markdown",
   "metadata": {},
   "source": [
    "Now we can make a i.e. a stream of possible errors."
   ]
  },
  {
   "cell_type": "code",
   "execution_count": 46,
   "metadata": {
    "collapsed": true,
    "outputExpanded": false
   },
   "outputs": [],
   "source": [
    "ListOfValid = containing(ApplyGenerator(), ApplyError() )"
   ]
  },
  {
   "cell_type": "markdown",
   "metadata": {},
   "source": [
    "You can see, that this still works with the vaules it have worked previously."
   ]
  },
  {
   "cell_type": "code",
   "execution_count": 47,
   "metadata": {
    "outputExpanded": false
   },
   "outputs": [
    {
     "data": {
      "text/plain": [
       "[[2, 3, 4, 5], [3, 4, 5, 6]]"
      ]
     },
     "execution_count": 47,
     "metadata": {},
     "output_type": "execute_result"
    }
   ],
   "source": [
    "list(ListOfValid.lift(window)([1,2], [5,6], [\n",
    "    [1,2,3,4,5,6],\n",
    "    [1,2,3,4,5,6],\n",
    "]))"
   ]
  },
  {
   "cell_type": "markdown",
   "metadata": {},
   "source": [
    "But we can try to pass in some *error* values alongside of the iterables."
   ]
  },
  {
   "cell_type": "code",
   "execution_count": 75,
   "metadata": {
    "outputExpanded": false
   },
   "outputs": [
    {
     "data": {
      "text/plain": [
       "[[2, 3, 4, 5], Exception('Begin was negative', 'End was not positive')]"
      ]
     },
     "execution_count": 75,
     "metadata": {},
     "output_type": "execute_result"
    }
   ],
   "source": [
    "list(ListOfValid.lift(window)([1,Exception(\"Begin was negative\")], [5,Exception(\"End was not positive\")], [\n",
    "    [1,2,3,4,5,6],\n",
    "    [1,2,3,4,5,6],\n",
    "]))"
   ]
  },
  {
   "cell_type": "markdown",
   "metadata": {},
   "source": [
    "You can see that the first values of the iterables were correctly combined into result, and second values that had some errors have the combined error result."
   ]
  },
  {
   "cell_type": "code",
   "execution_count": 77,
   "metadata": {
    "outputExpanded": false
   },
   "outputs": [
    {
     "data": {
      "text/plain": [
       "[Exception('Begin was negative'), Exception('Begin was negative')]"
      ]
     },
     "execution_count": 77,
     "metadata": {},
     "output_type": "execute_result"
    }
   ],
   "source": [
    "list(ListOfValid.lift(window)([Exception(\"Begin was negative\"),Exception(\"Begin was negative\")], [5, 6], [\n",
    "    [1,2,3,4,5,6],\n",
    "    [1,2,3,4,5,6],\n",
    "]))"
   ]
  },
  {
   "cell_type": "markdown",
   "metadata": {},
   "source": [
    "Here we have error in both the first and the second and it results in both errors being shown in the resulting stream."
   ]
  },
  {
   "cell_type": "markdown",
   "metadata": {
    "outputExpanded": false
   },
   "source": [
    "# Reactive programming!\n",
    "\n",
    "One interesting thing we could do here, is to experiment with gui programming. I have been playing around with excelent [flare library](http://try.purescript.org/?backend=flare&session=73d51f0a-28f2-a0d1-638e-4793f705c1e8) in purescript and it heavily uses applicative style to achieve a style of code that is resembling working with spreadsheets.\n",
    "\n",
    "In ipython, we have access to ipywidgets, that can be used to create simple forms."
   ]
  },
  {
   "cell_type": "code",
   "execution_count": 3,
   "metadata": {},
   "outputs": [
    {
     "data": {
      "application/vnd.jupyter.widget-view+json": {
       "model_id": "702f6ae0ce5844c684e62daafbe64246"
      }
     },
     "metadata": {},
     "output_type": "display_data"
    },
    {
     "data": {
      "application/vnd.jupyter.widget-view+json": {
       "model_id": "f9b09ce587cf46f6a606245f0d295c52"
      }
     },
     "metadata": {},
     "output_type": "display_data"
    }
   ],
   "source": [
    "from ipywidgets import *\n",
    "from IPython.display import display\n",
    "slider = IntSlider()\n",
    "label = Label(\"0\")\n",
    "display(slider)\n",
    "display(label)"
   ]
  },
  {
   "cell_type": "markdown",
   "metadata": {},
   "source": [
    " Then we can listen on changes and set values of these forms-objects."
   ]
  },
  {
   "cell_type": "code",
   "execution_count": 4,
   "metadata": {
    "collapsed": true
   },
   "outputs": [],
   "source": [
    "def updateLabel(value):\n",
    "    label.value = str(100 * slider.value)\n",
    "            \n",
    "slider.observe(updateLabel)"
   ]
  },
  {
   "cell_type": "markdown",
   "metadata": {},
   "source": [
    "Now, lets we want to have two sliders and display the sum."
   ]
  },
  {
   "cell_type": "code",
   "execution_count": 41,
   "metadata": {},
   "outputs": [
    {
     "data": {
      "application/vnd.jupyter.widget-view+json": {
       "model_id": "9124bf9215da4820be84d9581dc974fb"
      }
     },
     "metadata": {},
     "output_type": "display_data"
    },
    {
     "data": {
      "application/vnd.jupyter.widget-view+json": {
       "model_id": "febee96be1674536ab18295e4d0927fe"
      }
     },
     "metadata": {},
     "output_type": "display_data"
    },
    {
     "data": {
      "application/vnd.jupyter.widget-view+json": {
       "model_id": "16bcf87cf0564448a520b949bddcc7cb"
      }
     },
     "metadata": {},
     "output_type": "display_data"
    }
   ],
   "source": [
    "from ipywidgets import *\n",
    "from IPython.display import display\n",
    "sliderA = IntSlider()\n",
    "sliderB = IntSlider()\n",
    "labelSum = Label(\"0\")\n",
    "display(sliderA)\n",
    "display(sliderB)\n",
    "display(labelSum)\n",
    "\n",
    "def updateSum(value):\n",
    "    labelSum.value = str(sliderA.value + sliderB.value)\n",
    "    \n",
    "sliderA.observe(updateSum)\n",
    "sliderB.observe(updateSum)"
   ]
  },
  {
   "cell_type": "code",
   "execution_count": 6,
   "metadata": {
    "collapsed": true
   },
   "outputs": [],
   "source": []
  },
  {
   "cell_type": "markdown",
   "metadata": {},
   "source": [
    "I dislike two things about this:\n",
    "* the objects are hardcoded in the update function\n",
    "* I need to wire the observables by hand\n",
    "\n",
    "You could solve this in many diferent ways, but one that I would preffer looks like this:\n",
    "\n",
    "```\n",
    "@lift\n",
    "def sum(a,b):\n",
    "  return str(a + b)\n",
    "  \n",
    "labelSum.subscribesTo(sum(sliderA,sliderB))\n",
    "```\n",
    "\n",
    "For this purpose, I will create a simple applicative, reactive object, that  I would call Propagated."
   ]
  },
  {
   "cell_type": "code",
   "execution_count": 28,
   "metadata": {
    "collapsed": true
   },
   "outputs": [],
   "source": [
    "class Propagated:\n",
    "    def __init__(self, last):\n",
    "        self.last = last\n",
    "        self.subscriptions = []\n",
    "        \n",
    "    def getValue(self):\n",
    "        return self.last\n",
    "    \n",
    "    def subscribesTo(self, cb):\n",
    "        self.subscriptions +=[cb]\n",
    "    \n",
    "    def observe(self, prop):\n",
    "        prop.subscribesTo(lambda x: self.setValue(x))\n",
    "    \n",
    "    def setValue(self, value):\n",
    "        self.last = value\n",
    "        for cb in self.subscriptions:\n",
    "            cb(value)"
   ]
  },
  {
   "cell_type": "markdown",
   "metadata": {},
   "source": [
    "Now I can create the Applicative instance."
   ]
  },
  {
   "cell_type": "code",
   "execution_count": 35,
   "metadata": {
    "collapsed": true
   },
   "outputs": [],
   "source": [
    "class ApplyPropagated(Applicative):\n",
    "    def pure(self, val):\n",
    "        return Propagated(val)\n",
    "\n",
    "    def apply(self, fn, val):\n",
    "        result = Propagated(fn.getValue()(val.getValue()))\n",
    "        fn.subscribesTo(lambda f: result.setValue(f(val.getValue())))\n",
    "        val.subscribesTo(lambda v: result.setValue(fn.getValue()(v)))\n",
    "        return result\n",
    "    \n",
    "applyPropagated = ApplyPropagated()"
   ]
  },
  {
   "cell_type": "markdown",
   "metadata": {},
   "source": [
    "Now I create two wrappers for converting the ipywidgets to faucets and sinks."
   ]
  },
  {
   "cell_type": "code",
   "execution_count": 39,
   "metadata": {
    "collapsed": true,
    "outputExpanded": false
   },
   "outputs": [],
   "source": [
    "def propagatedWidgetFaucet(widget):\n",
    "    display(widget)\n",
    "    propagated = Propagated(widget.value)\n",
    "    def update(x):\n",
    "        if x['name'] == 'value':\n",
    "            propagated.setValue(x['new'])\n",
    "    widget.observe(update)\n",
    "    return propagated\n",
    "\n",
    "def propagatedWidgetSink(widget):\n",
    "    display(widget)\n",
    "    p = Propagated(widget.value)\n",
    "    def setVal(value):\n",
    "        widget.value = value        \n",
    "    p.subscribesTo(setVal)\n",
    "    return p;"
   ]
  },
  {
   "cell_type": "markdown",
   "metadata": {},
   "source": [
    "And with these, we can easily define the data-flow of our form.\n",
    "* A and B are the inputs\n",
    "* `sump` is just a normal function, that does what we need\n",
    "* SUM is the output"
   ]
  },
  {
   "cell_type": "code",
   "execution_count": 53,
   "metadata": {},
   "outputs": [
    {
     "data": {
      "application/vnd.jupyter.widget-view+json": {
       "model_id": "e9911fca48484ddea0ab49422f62c73f"
      }
     },
     "metadata": {},
     "output_type": "display_data"
    },
    {
     "data": {
      "application/vnd.jupyter.widget-view+json": {
       "model_id": "606597f52eaf43fcba12f2d055c4bae8"
      }
     },
     "metadata": {},
     "output_type": "display_data"
    },
    {
     "data": {
      "application/vnd.jupyter.widget-view+json": {
       "model_id": "9846a2f7e8ca4333aced8151da87e48a"
      }
     },
     "metadata": {},
     "output_type": "display_data"
    }
   ],
   "source": [
    "A = propagatedWidgetFaucet(IntSlider())\n",
    "B = propagatedWidgetFaucet(IntSlider())\n",
    "SUM = propagatedWidgetSink(Label(\"0\"))\n",
    "\n",
    "@applyPropagated.lift\n",
    "def sump(*a):\n",
    "    return str(sum(a))\n",
    "\n",
    "SUM.observe(sump(A, B))"
   ]
  },
  {
   "cell_type": "markdown",
   "metadata": {},
   "source": [
    "What if we want to add another slider, with one more veriable?\n",
    "That is not a problem. We could even factor out `str` out of our `sump`."
   ]
  },
  {
   "cell_type": "code",
   "execution_count": 54,
   "metadata": {},
   "outputs": [
    {
     "data": {
      "application/vnd.jupyter.widget-view+json": {
       "model_id": "7a9788e3c2284890b03222e9c320600e"
      }
     },
     "metadata": {},
     "output_type": "display_data"
    },
    {
     "data": {
      "application/vnd.jupyter.widget-view+json": {
       "model_id": "6320ad12135c45a089f2f03f6bec1120"
      }
     },
     "metadata": {},
     "output_type": "display_data"
    },
    {
     "data": {
      "application/vnd.jupyter.widget-view+json": {
       "model_id": "6c224dfe404e4cbdbf392a39f8392787"
      }
     },
     "metadata": {},
     "output_type": "display_data"
    },
    {
     "data": {
      "application/vnd.jupyter.widget-view+json": {
       "model_id": "5fd2787358964508bab28243dd11a4ee"
      }
     },
     "metadata": {},
     "output_type": "display_data"
    }
   ],
   "source": [
    "A = propagatedWidgetFaucet(IntSlider())\n",
    "B = propagatedWidgetFaucet(IntSlider())\n",
    "C = propagatedWidgetFaucet(IntSlider())\n",
    "SUM = propagatedWidgetSink(Label(\"0\"))\n",
    "\n",
    "@applyPropagated.lift\n",
    "def strp(a):\n",
    "    return str(a)\n",
    "\n",
    "@applyPropagated.lift\n",
    "def sump(*a):\n",
    "    return sum(a)\n",
    "\n",
    "\n",
    "SUM.observe(strp(sump(A, B, C)))"
   ]
  },
  {
   "cell_type": "markdown",
   "metadata": {},
   "source": [
    "If we want to process the values differently, we just have to:\n",
    "    * create a new WidgetSink\n",
    "    * create a different function to process the values\n",
    "    * combine it with any previously defined functions:"
   ]
  },
  {
   "cell_type": "code",
   "execution_count": 55,
   "metadata": {},
   "outputs": [
    {
     "data": {
      "application/vnd.jupyter.widget-view+json": {
       "model_id": "5e269ad3e48a4c8187e6f51aeeb71e4f"
      }
     },
     "metadata": {},
     "output_type": "display_data"
    }
   ],
   "source": [
    "AVG = propagatedWidgetSink(Label(\"0\"))\n",
    "@applyPropagated.lift\n",
    "def awgp(*a):\n",
    "    return sum(a)/len(a)\n",
    "AVG.observe(strp(awgp(A, B, C)))"
   ]
  },
  {
   "cell_type": "markdown",
   "metadata": {},
   "source": [
    "And this, in my mind showcases the elegance of applicatives. \n",
    "* We have object that has fairly complex api, i.e. our `Propagated`.\n",
    "* Conceptually, we know that the object just wraps some value.\n",
    "\n",
    "Because we have implemented applicative, if user of our Propagated wants to combine these values\n",
    "* they just create a function that know how to combine the *values* and nothing about how they are *encapsulated*\n",
    "* then they lift the function and use it on wrapped values :-)"
   ]
  }
 ],
 "metadata": {
  "kernelspec": {
   "display_name": "Python 3",
   "language": "python",
   "name": "python3"
  },
  "language_info": {
   "codemirror_mode": {
    "name": "ipython",
    "version": 3
   },
   "file_extension": ".py",
   "mimetype": "text/x-python",
   "name": "python",
   "nbconvert_exporter": "python",
   "pygments_lexer": "ipython3",
   "version": "3.5.1"
  },
  "nikola": {
   "category": "",
   "date": "2017-05-11 17:27:58 UTC+02:00",
   "description": "",
   "link": "",
   "slug": "applicative-pattern-in-python",
   "tags": "",
   "title": "Applicative pattern in Python",
   "type": "text"
  }
 },
 "nbformat": 4,
 "nbformat_minor": 2
}
