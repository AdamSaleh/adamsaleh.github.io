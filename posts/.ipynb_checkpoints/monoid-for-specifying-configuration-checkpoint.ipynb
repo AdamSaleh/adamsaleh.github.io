{
 "cells": [
  {
   "cell_type": "markdown",
   "metadata": {},
   "source": [
    "Write your post here."
   ]
  }
 ],
 "metadata": {
  "kernelspec": {
   "display_name": "Python 3",
   "language": "python",
   "name": "python3"
  },
  "language_info": {
   "codemirror_mode": {
    "name": "ipython",
    "version": 3
   },
   "file_extension": ".py",
   "mimetype": "text/x-python",
   "name": "python",
   "nbconvert_exporter": "python",
   "pygments_lexer": "ipython3",
   "version": "3.5.2"
  },
  "nikola": {
   "category": "",
   "date": "2017-05-21 20:55:30 UTC+02:00",
   "description": "",
   "link": "",
   "slug": "monoid-for-specifying-configuration",
   "tags": "",
   "title": "Monoid for specifying configuration",
   "type": "text"
  }
 },
 "nbformat": 4,
 "nbformat_minor": 2
}
