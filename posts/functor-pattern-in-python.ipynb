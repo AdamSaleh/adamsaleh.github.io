{
 "cells": [
  {
   "cell_type": "markdown",
   "metadata": {
    "focus": false,
    "id": "1100a234-c53d-4407-a4d3-fccb1ef66b07",
    "outputExpanded": false
   },
   "source": [
    "# Who should read this?\n",
    "\n",
    "Anybody who is interested with using algebraic design patterns in Python.\n",
    "I have three kinds of people in mind as my target audience.\n",
    "\n",
    "* Me :-) Lets be clear, similiar to many monad tutorials, this is mostly a record for my future self, to remind me that I once understood something about this. \n",
    "* People familliar with these concepts in haskell, wanting to see them in dynamically typed language like Python\n",
    "* People interested in these algebraic patterns that know Pthon and don't have resources to learn i.e. haskell.\n",
    "\n",
    "If you are somebody interested, but wants to see these in haskell rather than python, go read [Bartosz Milewski's Programming Cafe](https://bartoszmilewski.com/), or [haskellforall by Gabriel Gonzalez](http://www.haskellforall.com/).\n",
    "\n",
    "As with the previous article, some of my examples will be attempts to translate some articles about haskell to python :)\n",
    "\n",
    "# Introducing Functor\n",
    "\n",
    "Category theory is usually concerned with relation between diferent categories, but for programming, we are usually concerned only with category of types and the unary functions that convert between them.\n",
    "\n",
    "When programmer talks about relarion between two categories,\n",
    "usually one will basically be his favourite language and second one\n",
    "some fancy extension to that language.\n",
    "\n",
    "Like said original Haskell and Haskell with I/O.\n",
    "\n",
    "So what in practice is a fuctor?\n",
    "\n",
    "In general, anything where you can define a sensible `map` operation.\n",
    "For example:\n",
    "\n",
    "* list\n",
    "* stream\n",
    "* generator\n",
    "* tree\n",
    "\n",
    "Sensible for list means, that it shouldn't matter whether you\n",
    "strs.map(trim).map(uppercase)\n",
    "\n",
    "or\n",
    "\n",
    "strs.map(lambda x: uppercase(trim(x)))\n",
    "\n",
    "# Do you even lift?\n",
    "\n",
    "There is a recuring concept, where we use some bit of information about\n",
    "our datatype to convert functions that know nothig about it, to work with it.\n",
    "\n",
    "We call this *lifting*.\n",
    "\n",
    "For example, because I know that lists have map function, I could lift i.e. `str` to work on lists of things.\n"
   ]
  },
  {
   "cell_type": "code",
   "execution_count": 2,
   "metadata": {
    "collapsed": true,
    "focus": true,
    "id": "1ecdf7b5-e436-46ee-914a-f8cd3646b1a0",
    "outputExpanded": false
   },
   "outputs": [],
   "source": [
    "def lift(fn):\n",
    "    def liftedfn(x):\n",
    "      return list(map(fn,x))\n",
    "    return liftedfn "
   ]
  },
  {
   "cell_type": "code",
   "execution_count": 3,
   "metadata": {
    "focus": false,
    "id": "dec0bd55-0da9-4da3-b359-75269144686c",
    "outputExpanded": false
   },
   "outputs": [
    {
     "data": {
      "text/plain": [
       "['1', '2', '3']"
      ]
     },
     "execution_count": 3,
     "metadata": {},
     "output_type": "execute_result"
    }
   ],
   "source": [
    "lifted_str = lift(str)\n",
    "lifted_str([1,2,3])"
   ]
  },
  {
   "cell_type": "markdown",
   "metadata": {
    "outputExpanded": false
   },
   "source": [
    "# Category theory!\n",
    "\n",
    "This idea of translating objects from one domain to another is at the core of the mathematical subject of category theory. \n",
    "\n",
    "Category in mathemathics is defined by three things:\n",
    "* collection of objects\n",
    "* collection of possible transformations between these objects, called morphisms\n",
    "* if we can transform object X to Y, and we can transform object Y to Z, there needs to be transformation from A to C in our transformation collection\n",
    "\n",
    "You could draw a category using upper-case letters for objects, and arrows to signify possible transformations.\n",
    "\n",
    "![Category](https://upload.wikimedia.org/wikipedia/commons/e/ef/Commutative_diagram_for_morphism.svg)\n",
    "\n",
    "Functor is then mapping between categories. On the image you can see a category of red objects, with morphisms $f$, $g$ and three identity morphisms (i.e. arrows that transform and object to itself) and a functor $F$ that *lifts* the transformations from red category, to green, where there are only two objects.\n",
    "\n",
    "![Functor](https://upload.wikimedia.org/wikibooks/en/3/36/Functor.png) "
   ]
  },
  {
   "cell_type": "markdown",
   "metadata": {},
   "source": [
    "# Why should we care about lawfulness?\n",
    "\n",
    "If you look at the laws for both functor and applicative, they may seem arbitrary. Well, for functor, I have some intuition, because I had abstract algebra course at university and when I look at the laws my mins goes \"This kida looks like definition of homomorphism, I remember those to be useful, I guess it makes sense then.\" I dont really remember the specifics, but because it is vaguely familliar, I am fine with it.\n",
    "\n",
    "There is better reason to like lawful interfaces, though. Just by using the the laws of the interface, we can define new and usefull stuff.\n",
    "\n",
    "Lets look at nesting of two different functors, where we would have T[U[A]]. It is easy to see, that for any a, T[U[a]] is a functor as well.\n",
    "\n",
    "If map for T is tmap, and map for U is umap, we can define the tumap for the nesting of U in T like this:\n",
    "\n",
    "```\n",
    "def tumap(f,tu):\n",
    "  return tmap(lambda x: umap(f,x), tu)\n",
    "```\n",
    "\n",
    "We could write this as:\n",
    "\n",
    "$$ \\begin{align*}  \\text{map}_{t_u}(f, t_u) &= {map}_{t} ( \\lambda x: map_u(f,x), t_u) \\end{align*} $$\n",
    "\n",
    "And because we know the functor laws we can try to prove that they hold for this implementation as well.\n",
    "\n",
    "* for any `tu`, `tumap(id, tu) == tu`\n",
    "\n",
    "$$ \\begin{align*} \\text{map}_{t_u}(id, t_u) &= {map}_{t} ( \\lambda x: map_u(id,x), t_u) \\\\\n",
    "&= {map}_{t} ( \\lambda x: x, t_u)  \\\\\n",
    "&= {map}_{t} ( id, t_u) \\\\\n",
    "&=  t_u \\\\\n",
    "\\end{align*} $$\n",
    "\n",
    "* for any t and any two composable functions f and g, tumap(f,tumap(g,tu)) == map(compose(f,g),tu)\n",
    "\n",
    "$$ \\begin{align*}  \\text{map}_{t_u}(f, {map}_{tu}(g,t_u)) &= \\text{map}_{t_u}(f, {map}_{tu}(g,t_u)) \\\\\n",
    "&= {map}_{t} ( \\lambda x: map_u(f,x), {map}_{t}( \\lambda x: map_u(g,x),t_u)) \\\\\n",
    "&= {map}_{t}((\\lambda x: map_u(f,x)) \\circ (\\lambda x: map_u(g,x)), t_u) \\\\ \n",
    "&= {map}_{t}(\\lambda x: map_u(f,map_u(g,x)), t_u) \\\\\n",
    "&= {map}_{t} ( \\lambda x: map_u(compose(f,g),x), t_u) \\\\\n",
    "&= \\text{map}_{t_u}(compose(f,g), t_u) \n",
    "\\end{align*} $$\n",
    "\n",
    "Because we have laws for the interface, we do these kinds of self-contained proofs.\n",
    "\n",
    "Similarily, you could prove, that if you have two applicatives nested, you still can operate the whole nested structure as applicative.\n",
    "\n",
    "\n",
    "Another interesting thing that you could prove, that you can define `map` in terms of `apply` and `pure`:\n",
    "\n",
    "```\n",
    "def map(f, l):\n",
    "  return apply(pure(f),l)\n",
    "```\n"
   ]
  }
 ],
 "metadata": {
  "kernelspec": {
   "display_name": "Python 3",
   "language": "python",
   "name": "python3"
  },
  "language_info": {
   "codemirror_mode": {
    "name": "ipython",
    "version": 3
   },
   "file_extension": ".py",
   "mimetype": "text/x-python",
   "name": "python",
   "nbconvert_exporter": "python",
   "pygments_lexer": "ipython3",
   "version": "3.5.1"
  },
  "nikola": {
   "category": "",
   "date": "2017-05-11 17:25:35 UTC+02:00",
   "description": "",
   "link": "",
   "slug": "functor-pattern-in-python",
   "tags": "",
   "title": "Functor pattern in Python",
   "type": "text"
  }
 },
 "nbformat": 4,
 "nbformat_minor": 2
}
