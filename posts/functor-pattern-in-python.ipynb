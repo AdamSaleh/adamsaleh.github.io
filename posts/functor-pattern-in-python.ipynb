{
 "cells": [
  {
   "cell_type": "markdown",
   "metadata": {
    "focus": false,
    "id": "1100a234-c53d-4407-a4d3-fccb1ef66b07",
    "outputExpanded": false
   },
   "source": [
    "# Introducing Functor\n",
    "\n",
    "Category theory is usually concerned with relation between diferent categories, but for programming, we are usually concerned only with category of types and the unary functions that convert between them.\n",
    "\n",
    "When programmer talks about relarion between two categories,\n",
    "usually one will basically be his favourite language and second one\n",
    "some fancy extension to that language.\n",
    "\n",
    "Like said original Haskell and Haskell with I/O.\n",
    "\n",
    "So what in practice is a functor?\n",
    "\n",
    "In general, anything where you can define a sensible `fmap(function, )` operation. The anything in question are mostly containers, but it might be a generic object providing aditional context/metadata, for value(s) it could encapsulate, or produce. \n",
    "\n",
    "\n",
    "*Sensible* in this context means, that the interface obeys certain laws, but before we state them expricitly, I need to define two functions, `id` and `compose`:"
   ]
  },
  {
   "cell_type": "code",
   "execution_count": 16,
   "metadata": {
    "collapsed": true
   },
   "outputs": [],
   "source": [
    "def id(x):\n",
    "    return x\n",
    "\n",
    "def compose(f,g):\n",
    "    return lambda x: f(g(x))"
   ]
  },
  {
   "cell_type": "markdown",
   "metadata": {},
   "source": [
    "The idea goes like this:\n",
    "* we have our generic type T, parametrized by type A, or T[A] in [typings syntax](https://docs.python.org/3/library/typing.html)\n",
    "* we interpret T[A], that our T can in some way produce value(s) of type A\n",
    "* T is a functor,\n",
    "  * if we can easily convert T[A] (a producer of A's) to T[B] (a producer of A's), by using the function `fmap(fn, t)`, if we have function that accepts A and returns B\n",
    "  * identity function doesn't indroduce changes: \n",
    "    * `fmap(id, t) == t`\n",
    "  * if we have functions f and g that are composable, it doesn't matter if we compose them first, or use fmap twice:  \n",
    "    * `fmap(compose(f,g),t) == fmap(f,fmap(g,t))`\n",
    "\n",
    "The `fmap(id, t) == t` and `fmap(compose(f,g),t) == fmap(f,fmap(g,t))` are the functor laws. I try to explain why should we care about them later, I'd rather show few concrete examples now: "
   ]
  },
  {
   "cell_type": "code",
   "execution_count": 16,
   "metadata": {},
   "outputs": [
    {
     "data": {
      "text/plain": [
       "['1', '2', '3']"
      ]
     },
     "execution_count": 16,
     "metadata": {},
     "output_type": "execute_result"
    }
   ],
   "source": [
    "def fmapList(lst,fn):\n",
    "    return [fn(x) for x in lst]\n",
    "\n",
    "fmapList([1,2,3],str)"
   ]
  },
  {
   "cell_type": "code",
   "execution_count": 19,
   "metadata": {},
   "outputs": [],
   "source": [
    "def fmapIterable(iterable, fn):\n",
    "    return (fn(x) for x in iterable)"
   ]
  },
  {
   "cell_type": "code",
   "execution_count": 20,
   "metadata": {
    "collapsed": true
   },
   "outputs": [],
   "source": [
    "class Tree:\n",
    "    def __init__(self,left=None,data=None,right=None):\n",
    "        self.left = left\n",
    "        self.right = right\n",
    "        self.data = data  \n",
    "    \n",
    "def fmapTree(tree, fn):\n",
    "    if tree == None:\n",
    "        return None\n",
    "    else:\n",
    "        return Tree(\n",
    "            mapTree(fn,tree.left),\n",
    "            fn(tree.data),\n",
    "            mapTree(fn,tree.right)\n",
    "        )"
   ]
  },
  {
   "cell_type": "markdown",
   "metadata": {},
   "source": [
    "Interestingly enough, there is a `map` function in Python, and it works on iterables. Which unfortunately means that it allways returns an iterable. The interesting thing about functors is, that the map function preserves the type. If I map over list, I know it will be a list.\n",
    "\n",
    "But there are more interesting things than containers that could be functors, for example functions:"
   ]
  },
  {
   "cell_type": "code",
   "execution_count": 3,
   "metadata": {
    "collapsed": true
   },
   "outputs": [],
   "source": [
    "def fmapFunction(fn, function):\n",
    "    def wrapper(*arr):\n",
    "        return fn(function(*arr))\n",
    "    return wrapper"
   ]
  },
  {
   "cell_type": "code",
   "execution_count": 14,
   "metadata": {},
   "outputs": [
    {
     "data": {
      "text/plain": [
       "'1'"
      ]
     },
     "execution_count": 14,
     "metadata": {},
     "output_type": "execute_result"
    }
   ],
   "source": [
    "import random\n",
    "fmapFunction(str,random.randint)(1,10)"
   ]
  },
  {
   "cell_type": "markdown",
   "metadata": {},
   "source": [
    "On the other hand, python is an object-oriented language, which means, that havind a method 'fmap' would feel more natural on these objects."
   ]
  },
  {
   "cell_type": "markdown",
   "metadata": {},
   "source": [
    "# Why should we care about lawfulness?\n",
    "\n",
    "For functor, I have some intuition for its laws, because I had abstract algebra course at university and when I look at the laws my mins goes \"This kida looks like definition of homomorphism, I remember those to be useful, I guess it makes sense then.\" I dont really remember the specifics, but because it is vaguely familliar, I am fine with it.\n",
    "\n",
    "There is better reason to like lawful interfaces, though. Just by using the the laws of the interface, we can define new and usefull stuff.\n",
    "\n",
    "Lets look at nesting of two different functors, where we would have T[U[A]]. It is easy to see, that for any a, T[U[a]] is a functor as well.\n",
    "\n",
    "If map for T is tmap, and map for U is umap, we can define the tumap for the nesting of U in T like this:\n",
    "\n",
    "```\n",
    "def tumap(f,tu):\n",
    "  return tmap(lambda x: umap(f,x), tu)\n",
    "```\n",
    "\n",
    "We could write this as:\n",
    "\n",
    "$$ \\begin{align*}  \\text{map}_{t_u}(f, t_u) &= {map}_{t} ( \\lambda x: map_u(f,x), t_u) \\end{align*} $$\n",
    "\n",
    "And because we know the functor laws we can try to prove that they hold for this implementation as well.\n",
    "\n",
    "* for any `tu`, `tumap(id, tu) == tu`\n",
    "\n",
    "$$ \\begin{align*} \\text{map}_{t_u}(id, t_u) &= {map}_{t} ( \\lambda x: map_u(id,x), t_u) \\\\\n",
    "&= {map}_{t} ( \\lambda x: x, t_u)  \\\\\n",
    "&= {map}_{t} ( id, t_u) \\\\\n",
    "&=  t_u \\\\\n",
    "\\end{align*} $$\n",
    "\n",
    "* for any t and any two composable functions f and g, tumap(f,tumap(g,tu)) == map(compose(f,g),tu)\n",
    "\n",
    "$$ \\begin{align*}  \\text{map}_{t_u}(f, {map}_{tu}(g,t_u)) &= \\text{map}_{t_u}(f, {map}_{tu}(g,t_u)) \\\\\n",
    "&= {map}_{t} ( \\lambda x: map_u(f,x), {map}_{t}( \\lambda x: map_u(g,x),t_u)) \\\\\n",
    "&= {map}_{t}((\\lambda x: map_u(f,x)) \\circ (\\lambda x: map_u(g,x)), t_u) \\\\ \n",
    "&= {map}_{t}(\\lambda x: map_u(f,map_u(g,x)), t_u) \\\\\n",
    "&= {map}_{t} ( \\lambda x: map_u(compose(f,g),x), t_u) \\\\\n",
    "&= \\text{map}_{t_u}(compose(f,g), t_u) \n",
    "\\end{align*} $$\n",
    "\n",
    "Because we have laws for the interface, we do these kinds of self-contained proofs."
   ]
  },
  {
   "cell_type": "markdown",
   "metadata": {},
   "source": [
    "# Do you even lift?\n",
    "\n",
    "There is a recuring concept, where we use some bit of information about\n",
    "our datatype to convert functions that know nothig about it, to work with it.\n",
    "\n",
    "We call this *lifting*.\n",
    "\n",
    "For example, because I know that lists have map function, I could lift i.e. `str` to work on lists of things.\n"
   ]
  },
  {
   "cell_type": "code",
   "execution_count": 2,
   "metadata": {
    "collapsed": true,
    "focus": true,
    "id": "1ecdf7b5-e436-46ee-914a-f8cd3646b1a0",
    "outputExpanded": false
   },
   "outputs": [],
   "source": [
    "def lift(fn):\n",
    "    def liftedfn(x):\n",
    "      return list(map(fn,x))\n",
    "    return liftedfn "
   ]
  },
  {
   "cell_type": "code",
   "execution_count": 3,
   "metadata": {
    "focus": false,
    "id": "dec0bd55-0da9-4da3-b359-75269144686c",
    "outputExpanded": false
   },
   "outputs": [
    {
     "data": {
      "text/plain": [
       "['1', '2', '3']"
      ]
     },
     "execution_count": 3,
     "metadata": {},
     "output_type": "execute_result"
    }
   ],
   "source": [
    "lifted_str = lift(str)\n",
    "lifted_str([1,2,3])"
   ]
  },
  {
   "cell_type": "markdown",
   "metadata": {
    "outputExpanded": false
   },
   "source": [
    "# Category theory!\n",
    "\n",
    "This idea of translating objects from one domain to another is at the core of the mathematical subject of category theory. \n",
    "\n",
    "Category in mathemathics is defined by three things:\n",
    "* collection of objects\n",
    "* collection of possible transformations between these objects, called morphisms\n",
    "* if we can transform object X to Y, and we can transform object Y to Z, there needs to be transformation from A to C in our transformation collection\n",
    "\n",
    "You could draw a category using upper-case letters for objects, and arrows to signify possible transformations.\n",
    "\n",
    "![Category](https://upload.wikimedia.org/wikipedia/commons/e/ef/Commutative_diagram_for_morphism.svg)\n",
    "\n",
    "Functor is then mapping between categories. On the image you can see a category of red objects, with morphisms $f$, $g$ and three identity morphisms (i.e. arrows that transform and object to itself) and a functor $F$ that *lifts* the transformations from red category, to green, where there are only two objects.\n",
    "\n",
    "![Functor](https://upload.wikimedia.org/wikibooks/en/3/36/Functor.png) "
   ]
  }
 ],
 "metadata": {
  "kernelspec": {
   "display_name": "Python 3",
   "language": "python",
   "name": "python3"
  },
  "language_info": {
   "codemirror_mode": {
    "name": "ipython",
    "version": 3
   },
   "file_extension": ".py",
   "mimetype": "text/x-python",
   "name": "python",
   "nbconvert_exporter": "python",
   "pygments_lexer": "ipython3",
   "version": "3.5.1"
  },
  "nikola": {
   "category": "",
   "date": "2017-05-11 17:25:35 UTC+02:00",
   "description": "",
   "link": "",
   "slug": "functor-pattern-in-python",
   "tags": "",
   "title": "Functor pattern in Python",
   "type": "text"
  }
 },
 "nbformat": 4,
 "nbformat_minor": 2
}
