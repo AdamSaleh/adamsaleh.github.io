{
 "cells": [
  {
   "cell_type": "markdown",
   "metadata": {},
   "source": [
    "# Joining nested functors\n",
    "\n",
    "Ok, this is kinda ugly, but we got the result :-)\n",
    "In reality, in python we would probably model this just with lists, where empty list would mean no result and then use list comprehension:"
   ]
  },
  {
   "cell_type": "code",
   "execution_count": 110,
   "metadata": {},
   "outputs": [
    {
     "data": {
      "text/plain": [
       "[2.0, -2.0]"
      ]
     },
     "execution_count": 110,
     "metadata": {},
     "output_type": "execute_result"
    }
   ],
   "source": [
    "def sqrt(x):\n",
    "    if x>=0:\n",
    "        return [math.sqrt(x), - math.sqrt(x)]\n",
    "    else:\n",
    "        return []\n",
    "    \n",
    "[z for x in sqrt(256)\n",
    "   for y in sqrt(x)\n",
    "   for z in sqrt(y)]"
   ]
  },
  {
   "cell_type": "markdown",
   "metadata": {},
   "source": [
    "What we have actually done here, was flattening the result. If we redefine the previously used `lsqrt`, it will return a lot of nested lists, with some emty lists thrown in the mix:"
   ]
  },
  {
   "cell_type": "code",
   "execution_count": 113,
   "metadata": {},
   "outputs": [
    {
     "data": {
      "text/plain": [
       "[[[[2.0, -2.0], []], []]]"
      ]
     },
     "execution_count": 113,
     "metadata": {},
     "output_type": "execute_result"
    }
   ],
   "source": [
    "lsqrt = liftNested(sqrt)\n",
    "lsqrt(lsqrt(lsqrt([256])))"
   ]
  },
  {
   "cell_type": "markdown",
   "metadata": {},
   "source": [
    "We could define the flattening function and add some more magic to our lift function :)"
   ]
  },
  {
   "cell_type": "code",
   "execution_count": 114,
   "metadata": {
    "collapsed": true
   },
   "outputs": [],
   "source": [
    "def join(list_of_lists):\n",
    "    return [x for y in list_of_lists\n",
    "              for x in y]"
   ]
  },
  {
   "cell_type": "markdown",
   "metadata": {},
   "source": [
    "With join, instead of mapping throu the values these recursively, we can just join them after every fmap. "
   ]
  },
  {
   "cell_type": "code",
   "execution_count": 117,
   "metadata": {
    "collapsed": true
   },
   "outputs": [],
   "source": [
    "def fmapJoinable(xs, fn):\n",
    "    return join(fmap(xs,fn))\n",
    "\n",
    "def liftJoinable(fn):\n",
    "    return lambda x: fmapJoinable(x,fn)"
   ]
  },
  {
   "cell_type": "markdown",
   "metadata": {},
   "source": [
    "Now we can get the same result even without the comprehension:"
   ]
  },
  {
   "cell_type": "code",
   "execution_count": 118,
   "metadata": {},
   "outputs": [
    {
     "data": {
      "text/plain": [
       "[2.0, -2.0]"
      ]
     },
     "execution_count": 118,
     "metadata": {},
     "output_type": "execute_result"
    }
   ],
   "source": [
    "lsqrt = liftJoinable(sqrt)\n",
    "lsqrt(lsqrt(lsqrt([256])))"
   ]
  },
  {
   "cell_type": "markdown",
   "metadata": {},
   "source": [
    "Functors that can be flattened deserve more in-depth look. Unfortunately, there are many things that can't reliably be flattened."
   ]
  },
  {
   "cell_type": "markdown",
   "metadata": {},
   "source": [
    "# Functors that can't be joined, if nested"
   ]
  },
  {
   "cell_type": "markdown",
   "metadata": {},
   "source": [
    "Write your post here."
   ]
  }
 ],
 "metadata": {
  "kernelspec": {
   "display_name": "Python 3",
   "language": "python",
   "name": "python3"
  },
  "language_info": {
   "codemirror_mode": {
    "name": "ipython",
    "version": 3
   },
   "file_extension": ".py",
   "mimetype": "text/x-python",
   "name": "python",
   "nbconvert_exporter": "python",
   "pygments_lexer": "ipython3",
   "version": "3.5.1"
  },
  "nikola": {
   "category": "",
   "date": "2017-06-11 13:37:27 UTC+02:00",
   "description": "",
   "link": "",
   "slug": "monad-pattern-in-python",
   "tags": "draft",
   "title": "Monad Pattern in Python",
   "type": "text"
  }
 },
 "nbformat": 4,
 "nbformat_minor": 2
}
