{
 "cells": [
  {
   "cell_type": "markdown",
   "metadata": {},
   "source": [
    "# Monoids are cool\n",
    "\n",
    "One useful concept to use here is the one of a *monoid*. \n",
    "If we think of this as an interface that is implemented by a type *T*, it needs two things:\n",
    "* the *empty* element, usually called *mempty*\n",
    "* the *append* operation, that takes any two T's and returns a new T\n",
    "\n",
    "There are three laws:\n",
    "* *operation is closed over T*: for any two objects of type T it will really return new T, no exceptions. \n",
    "* *identity*: for any a of type T: append(a,empty) == append(empty,a) == a\n",
    "* *associativity*: for any a,b,c of type T: append(a,append(b,c)) == append(append(a,b),c)\n",
    "\n",
    "Now we have this interface, we can do cool things with this :)\n",
    "\n",
    "And by cool thigs, I mean going through [this presentation](https://www.youtube.com/watch?v=WsA7GtUQeB8) by Gabriel Gonzalez and translating the concepts from haskell to python :)\n",
    "\n",
    "If you are not scared of Haskell, I really recomend that presentation. There is even a [souce for it](https://github.com/Gabriel439/slides/tree/master/lambdaconf/category)."
   ]
  },
  {
   "cell_type": "markdown",
   "metadata": {},
   "source": [
    "# But first, semigroups\n",
    "\n",
    "Maybe we are getting ahead of ourselves. What if I don't require the *empty* element.\n",
    "Even if I just have a binary operation that abides just by the first to laws,\n",
    "* it is *closed*\n",
    "* and *associative*\n",
    "it still makes it realy nice to work with. The fact that I know it is closed means that I don't have to think about the current values I am going to *append*, and *associavity* means that I don't really have to think about the order in which my *append*s get executed. And less thinking I have to do, the better.\n",
    "\n",
    "This is what we call *semigroup*.\n",
    "\n",
    "\n",
    "# Useful, but not-semigroups\n",
    "\n",
    "Of course, there are many useful operations on objects, that are not semigroups.\n",
    "For example, function composition. "
   ]
  },
  {
   "cell_type": "code",
   "execution_count": 5,
   "metadata": {},
   "outputs": [
    {
     "name": "stdout",
     "output_type": "stream",
     "text": [
      "2\n",
      "10\n"
     ]
    }
   ],
   "source": [
    "def compose(f,g):\n",
    "    return lambda x: f(g(x))\n",
    "\n",
    "print(compose(len,str)(10))\n",
    "print(compose(str,abs)(-10))"
   ]
  },
  {
   "cell_type": "markdown",
   "metadata": {},
   "source": [
    "Function composition is a useful concept, but I just can't compose arbitrary functions together, they have to match."
   ]
  },
  {
   "cell_type": "code",
   "execution_count": 6,
   "metadata": {},
   "outputs": [
    {
     "ename": "TypeError",
     "evalue": "object of type 'int' has no len()",
     "output_type": "error",
     "traceback": [
      "\u001b[0;31m---------------------------------------------------------------------------\u001b[0m",
      "\u001b[0;31mTypeError\u001b[0m                                 Traceback (most recent call last)",
      "\u001b[0;32m<ipython-input-6-780387530514>\u001b[0m in \u001b[0;36m<module>\u001b[0;34m()\u001b[0m\n\u001b[0;32m----> 1\u001b[0;31m \u001b[0mcompose\u001b[0m\u001b[1;33m(\u001b[0m\u001b[0mlen\u001b[0m\u001b[1;33m,\u001b[0m\u001b[0mlen\u001b[0m\u001b[1;33m)\u001b[0m\u001b[1;33m(\u001b[0m\u001b[1;36m10\u001b[0m\u001b[1;33m)\u001b[0m\u001b[1;33m\u001b[0m\u001b[0m\n\u001b[0m",
      "\u001b[0;32m<ipython-input-5-6bdc4733c056>\u001b[0m in \u001b[0;36m<lambda>\u001b[0;34m(x)\u001b[0m\n\u001b[1;32m      1\u001b[0m \u001b[1;32mdef\u001b[0m \u001b[0mcompose\u001b[0m\u001b[1;33m(\u001b[0m\u001b[0mf\u001b[0m\u001b[1;33m,\u001b[0m\u001b[0mg\u001b[0m\u001b[1;33m)\u001b[0m\u001b[1;33m:\u001b[0m\u001b[1;33m\u001b[0m\u001b[0m\n\u001b[0;32m----> 2\u001b[0;31m     \u001b[1;32mreturn\u001b[0m \u001b[1;32mlambda\u001b[0m \u001b[0mx\u001b[0m\u001b[1;33m:\u001b[0m \u001b[0mf\u001b[0m\u001b[1;33m(\u001b[0m\u001b[0mg\u001b[0m\u001b[1;33m(\u001b[0m\u001b[0mx\u001b[0m\u001b[1;33m)\u001b[0m\u001b[1;33m)\u001b[0m\u001b[1;33m\u001b[0m\u001b[0m\n\u001b[0m\u001b[1;32m      3\u001b[0m \u001b[1;33m\u001b[0m\u001b[0m\n\u001b[1;32m      4\u001b[0m \u001b[0mprint\u001b[0m\u001b[1;33m(\u001b[0m\u001b[0mcompose\u001b[0m\u001b[1;33m(\u001b[0m\u001b[0mlen\u001b[0m\u001b[1;33m,\u001b[0m\u001b[0mstr\u001b[0m\u001b[1;33m)\u001b[0m\u001b[1;33m(\u001b[0m\u001b[1;36m10\u001b[0m\u001b[1;33m)\u001b[0m\u001b[1;33m)\u001b[0m\u001b[1;33m\u001b[0m\u001b[0m\n\u001b[1;32m      5\u001b[0m \u001b[0mprint\u001b[0m\u001b[1;33m(\u001b[0m\u001b[0mcompose\u001b[0m\u001b[1;33m(\u001b[0m\u001b[0mstr\u001b[0m\u001b[1;33m,\u001b[0m\u001b[0mabs\u001b[0m\u001b[1;33m)\u001b[0m\u001b[1;33m(\u001b[0m\u001b[1;33m-\u001b[0m\u001b[1;36m10\u001b[0m\u001b[1;33m)\u001b[0m\u001b[1;33m)\u001b[0m\u001b[1;33m\u001b[0m\u001b[0m\n",
      "\u001b[0;31mTypeError\u001b[0m: object of type 'int' has no len()"
     ]
    }
   ],
   "source": [
    "compose(len,len)(10)"
   ]
  },
  {
   "cell_type": "markdown",
   "metadata": {},
   "source": [
    "This is applicable to many concepts in stream processing, or dataflow programming, where there is the concept of *piping* a stream to transform it for processing. If endpoints of the pipes don't fit together, your pipe-line just won't work. This explains why so much of unix tooling deals with text-to-text transformations. The fact that so many of the utilities are *closed* over text streams makes their usage much more pleasant.\n",
    "\n"
   ]
  },
  {
   "cell_type": "markdown",
   "metadata": {},
   "source": [
    "# Some monoid examples\n",
    "\n",
    "But if we have a monoid, there are few cool things we can do with it, as shown in [the presentation](https://www.youtube.com/watch?v=WsA7GtUQeB8) by Gabriel Gonzalez.\n",
    "\n",
    "Typeclasses present the first translation hiccup. In haskell you use these to signidy that a type conforms to some interface, similarily to Java/C# interfaces. Nice thing about this is, that you can define implementations for existing types. This makes them more similiar to C# extension methods, or Clojure protocols. Fortunately, we have single dispatch in Python to simulate this."
   ]
  },
  {
   "cell_type": "code",
   "execution_count": 12,
   "metadata": {
    "collapsed": true
   },
   "outputs": [],
   "source": [
    "from functools import singledispatch\n",
    "@singledispatch\n",
    "def mempty(a):\n",
    "    raise Error(\"Not implemented for\" + a)\n",
    "\n",
    "@singledispatch\n",
    "def mappend(a, b):\n",
    "    raise Error(\"Not implemented for\" + a)"
   ]
  },
  {
   "cell_type": "markdown",
   "metadata": {},
   "source": [
    "We can definitely implement these for lists.\n",
    "* mappend is +, and we know that appending lists is associative\n",
    "* mempty is [], and we know that it doesn't matter if you'd append empty list to left or right"
   ]
  },
  {
   "cell_type": "markdown",
   "metadata": {},
   "source": [
    "We can definitely implement these for lists.\n",
    "* mappend is +, and we know that appending lists is associative\n",
    "* mempty is [], and we know that it doesn't matter if you'd append empty list to left or right"
   ]
  },
  {
   "cell_type": "code",
   "execution_count": 14,
   "metadata": {
    "collapsed": true
   },
   "outputs": [],
   "source": [
    "@mempty.register(list)\n",
    "def _(a):\n",
    "    return []\n",
    "\n",
    "@mappend.register(list)\n",
    "def _(a,b):\n",
    "    return a + b"
   ]
  },
  {
   "cell_type": "code",
   "execution_count": 15,
   "metadata": {},
   "outputs": [
    {
     "data": {
      "text/plain": [
       "[1, 2, 3, 4, 5, 6]"
      ]
     },
     "execution_count": 15,
     "metadata": {},
     "output_type": "execute_result"
    }
   ],
   "source": [
    "mappend([1,2,3],[4,5,6])"
   ]
  },
  {
   "cell_type": "markdown",
   "metadata": {},
   "source": [
    "We can trivially implement these for None. It might look kind'a silly, but it will be useful, once we get to combine function."
   ]
  },
  {
   "cell_type": "code",
   "execution_count": 16,
   "metadata": {
    "collapsed": true
   },
   "outputs": [],
   "source": [
    "@mempty.register(None.__class__)\n",
    "def _(a):\n",
    "    return None\n",
    "\n",
    "@mappend.register(None.__class__)\n",
    "def _(a,b):\n",
    "    return None"
   ]
  },
  {
   "cell_type": "code",
   "execution_count": 17,
   "metadata": {},
   "outputs": [
    {
     "data": {
      "text/plain": [
       "True"
      ]
     },
     "execution_count": 17,
     "metadata": {},
     "output_type": "execute_result"
    }
   ],
   "source": [
    "mappend(None,None) == None"
   ]
  },
  {
   "cell_type": "markdown",
   "metadata": {},
   "source": [
    "# Generic functions\n",
    "\n",
    "Now we can create a generic function that works on all monoids, such as mconcat, that takes a list and appends its contents."
   ]
  },
  {
   "cell_type": "code",
   "execution_count": 18,
   "metadata": {},
   "outputs": [
    {
     "data": {
      "text/plain": [
       "[1, 2, 3, 4, 5]"
      ]
     },
     "execution_count": 18,
     "metadata": {},
     "output_type": "execute_result"
    }
   ],
   "source": [
    "def mconcat(l):\n",
    "    acc = l[0]\n",
    "    for x in l[1:]:\n",
    "        acc = mappend(acc,x)\n",
    "    return acc\n",
    "\n",
    "mconcat([[1,2],[3,4,5]])"
   ]
  },
  {
   "cell_type": "markdown",
   "metadata": {},
   "source": [
    "As you can see, we have run into our first problem. In theory we should be able to do mconcat of an [] and get the mempty for the lists member type. But python doesn't have typed lists. Well, we see how far will this get us :)"
   ]
  },
  {
   "cell_type": "markdown",
   "metadata": {},
   "source": [
    "# Nesting\n",
    "\n",
    "Second thing we could do, is to try to nest these inside of other structures.\n",
    "For example, if you have n-tuple with monoids, you can prove, that the n-tuple is monoid. I am lazy to write out the proof, so I just defer to the presentation I am copying from :)"
   ]
  },
  {
   "cell_type": "code",
   "execution_count": 19,
   "metadata": {
    "collapsed": true
   },
   "outputs": [],
   "source": [
    "\n",
    "@mappend.register((0,0).__class__)\n",
    "def _(a,b):\n",
    "    return tuple(mappend(i,j) for i,j in zip(a,b))"
   ]
  },
  {
   "cell_type": "code",
   "execution_count": 20,
   "metadata": {},
   "outputs": [
    {
     "data": {
      "text/plain": [
       "([1, 2, 3, 4, 5, 6], [10, 11, 12, 14, 15])"
      ]
     },
     "execution_count": 20,
     "metadata": {},
     "output_type": "execute_result"
    }
   ],
   "source": [
    "mappend(([1,2,3],[10,11,12]),([4,5,6],[14,15]))"
   ]
  },
  {
   "cell_type": "markdown",
   "metadata": {},
   "source": [
    "This of course means that we can nest the touples in other touples :)"
   ]
  },
  {
   "cell_type": "code",
   "execution_count": 21,
   "metadata": {},
   "outputs": [
    {
     "data": {
      "text/plain": [
       "([1, 2, 3, 4], ([10, 11, 12, 13], ([20, 21, 22, 23], [25, 26, 26, 28])))"
      ]
     },
     "execution_count": 21,
     "metadata": {},
     "output_type": "execute_result"
    }
   ],
   "source": [
    "mappend(([1,2],([10,11],([20,21],[25,26]))),\n",
    "       ([3,4],([12,13],([22,23],[26,28]))))"
   ]
  },
  {
   "cell_type": "markdown",
   "metadata": {},
   "source": [
    "# Nesting with functions\n",
    "\n",
    "If we have function f that accepts type A as input param and returns type B, then f forms a semigroup if B forms a semigroup.\n",
    "\n",
    "Basically, we pass the input into all of the functions and then we append the results."
   ]
  },
  {
   "cell_type": "code",
   "execution_count": 22,
   "metadata": {
    "collapsed": true
   },
   "outputs": [],
   "source": [
    "@mappend.register(mconcat.__class__)\n",
    "def _(a,b):\n",
    "  def result(*x):\n",
    "    a_r= a(*x)\n",
    "    b_r=b(*x)\n",
    "    return mappend(a_r,b_r)\n",
    "  return result"
   ]
  },
  {
   "cell_type": "markdown",
   "metadata": {},
   "source": [
    "This means we can send a single arg to multiple functions that return None. This is where the mappend definition comes useful, because without it we would have seen exceptions here."
   ]
  },
  {
   "cell_type": "code",
   "execution_count": 23,
   "metadata": {},
   "outputs": [
    {
     "name": "stdout",
     "output_type": "stream",
     "text": [
      "Hello World!\n",
      "Hi World!\n"
     ]
    }
   ],
   "source": [
    "def phello(arg):\n",
    "  print(\"Hello\",arg)\n",
    "  \n",
    "def phi(arg):\n",
    "  print(\"Hi\",arg)\n",
    "\n",
    "mappend(phello,phi)(\"World!\")"
   ]
  },
  {
   "cell_type": "markdown",
   "metadata": {},
   "source": [
    "Or they could return function that returns None :)"
   ]
  },
  {
   "cell_type": "code",
   "execution_count": 24,
   "metadata": {
    "collapsed": true
   },
   "outputs": [],
   "source": [
    "def promptName():\n",
    "    name = input(\"Enter Your Name: \")\n",
    "    return lambda: print(\"Hi \", name)\n",
    "\n",
    "def promptAge():\n",
    "    age = input(\"Enter Your Age: \")\n",
    "    return lambda: print(\"Your Age is\", age)\n",
    "\n",
    "promptBoth = mappend(promptName,promptAge)"
   ]
  },
  {
   "cell_type": "code",
   "execution_count": 25,
   "metadata": {},
   "outputs": [
    {
     "name": "stdout",
     "output_type": "stream",
     "text": [
      "Enter Your Name: Adam\n",
      "Enter Your Age: 99\n"
     ]
    }
   ],
   "source": [
    "answers = promptBoth()"
   ]
  },
  {
   "cell_type": "code",
   "execution_count": 26,
   "metadata": {},
   "outputs": [
    {
     "name": "stdout",
     "output_type": "stream",
     "text": [
      "Hi  Adam\n",
      "Your Age is 99\n"
     ]
    }
   ],
   "source": [
    "answers()"
   ]
  },
  {
   "cell_type": "markdown",
   "metadata": {},
   "source": [
    "We could actually get these back, if we return a monoid from tose inner functions."
   ]
  },
  {
   "cell_type": "code",
   "execution_count": 27,
   "metadata": {},
   "outputs": [
    {
     "name": "stdout",
     "output_type": "stream",
     "text": [
      "Enter Your Name: Adam\n",
      "Enter Your Age: 99\n"
     ]
    },
    {
     "data": {
      "text/plain": [
       "['Adam', '99']"
      ]
     },
     "execution_count": 27,
     "metadata": {},
     "output_type": "execute_result"
    }
   ],
   "source": [
    "def getName():\n",
    "    name = input(\"Enter Your Name: \")\n",
    "    return lambda: [name]\n",
    "\n",
    "def getAge():\n",
    "    age = input(\"Enter Your Age: \")\n",
    "    return lambda: [age]\n",
    "\n",
    "getBoth = mappend(getName,getAge)\n",
    "listAnswers = getBoth()\n",
    "listAnswers()"
   ]
  },
  {
   "cell_type": "markdown",
   "metadata": {},
   "source": [
    "# Function nesting and laws\n",
    "\n",
    "Lets look again at the most important law that this `mappend` needs to uphold.\n",
    "\n",
    "```\n",
    "mappend(f, mappend(g,h)) == mappend(mappend(f,g),h)\n",
    "```\n",
    ", given any functions `a`,`b`,`c`, that \n",
    "* accept the same input param \n",
    "* and return the same semigroup.\n",
    "\n",
    "To make this more readable, I will use $\\oplus$ instead of `mappend`. This means, that I want to prove\n",
    "$$ f \\oplus (g \\oplus h) = (f \\oplus g) \\oplus h $$\n",
    "\n",
    "Functions are equivalent when for any input, they produce equal output.\n",
    "\n",
    "So, lets assume arbitrary input of `x`, and we will try to evaluate this on the both sides and try get to the same result (we will mark result of $f(x)$ as $f_x$ and we will evaluate the functions from the left):\n",
    "\n",
    "$$ \\begin{align*} (f \\oplus (g \\oplus h))(x) &= f(x) \\oplus (g \\oplus h)(x) \\\\\n",
    "&= f_x \\oplus (g \\oplus h) \\\\\n",
    "&= f_x \\oplus (g(x) \\oplus h(x)) \\\\\n",
    "&= f_x \\oplus (g_x \\oplus h(x) )\\\\\n",
    "&= f_x \\oplus (g_x \\oplus h_x)\n",
    "\\end{align*} $$\n",
    "\n",
    "$$ \\begin{align*} ((f \\oplus g) \\oplus h)(x) &= (f \\oplus g)(x) \\oplus h(x) \\\\\n",
    "&= (f(x) \\oplus g(x)) \\oplus h(x) \\\\\n",
    "&= (f_x \\oplus g(x)) \\oplus h(x) \\\\\n",
    "&= (f_x \\oplus g_x) \\oplus h(x) \\\\\n",
    "&= (f_x \\oplus g_x) \\oplus h_x \n",
    "\\end{align*} $$\n",
    "\n",
    "Because we know, that $f_x$, $g_x$ and $h_x$ are from the same semigroup, the last lines are equivalent.\n",
    "\n",
    "There is another assumption, and that is, that the function application will always start at right. This way, no matter the bracket position, $f(x)$ in our example always gets evaluated first.  This is why we can't i.e. flip the evaluation of the functions in our implementation, because ordering matters, and next code sample would introduce a subtle bug.\n",
    "\n",
    "```\n",
    "@mappend.register(mconcat.__class__)\n",
    "def _(a,b):\n",
    "  def result(*x):\n",
    "    b_r = b(*x)\n",
    "    a_r = a(*x)\n",
    "    return mappend(a_r,b_r)\n",
    "  return result\n",
    "```\n",
    "\n",
    "In math, we know that function will always return the same result for the same input, in python this is not the case. This means, that while sketching out a proof is helpful, we can't rely on it too much and still need to be doing testing."
   ]
  },
  {
   "cell_type": "markdown",
   "metadata": {
    "collapsed": true
   },
   "source": [
    "# To conclude\n",
    "\n",
    "I wouldn't actually advise anybody to go overboard with nesting monoids as a basis for extendable and robust application architecture. Well, in Haskell you can have a field day with this, but in Python there isn't the scaffolding of types to keep the madness in check. Which means that I stop here, and don't try to implement monoid for combining streaming transactions :-)\n",
    "\n",
    "On the other hand, going just slightly over-board with funciton nesting to create a little configuration parsing dsl might be fun. Maybe next time."
   ]
  }
 ],
 "metadata": {
  "kernelspec": {
   "display_name": "Python 3",
   "language": "python",
   "name": "python3"
  },
  "language_info": {
   "codemirror_mode": {
    "name": "ipython",
    "version": 3
   },
   "file_extension": ".py",
   "mimetype": "text/x-python",
   "name": "python",
   "nbconvert_exporter": "python",
   "pygments_lexer": "ipython3",
   "version": "3.5.1"
  },
  "nikola": {
   "category": "",
   "date": "2017-05-11 17:25:47 UTC+02:00",
   "description": "",
   "link": "",
   "slug": "monoid-pattern-in-python",
   "tags": "",
   "title": "Monoid pattern in Python",
   "type": "text"
  }
 },
 "nbformat": 4,
 "nbformat_minor": 2
}
