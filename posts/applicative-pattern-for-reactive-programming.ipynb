{
 "cells": [
  {
   "cell_type": "markdown",
   "metadata": {
    "outputExpanded": false
   },
   "source": [
    "# Reactive programming with applicatives!\n",
    "\n",
    "One interesting thing we could do with applicatives, is to experiment with gui programming. I have been playing around with excelent [flare library](http://try.purescript.org/?backend=flare&session=73d51f0a-28f2-a0d1-638e-4793f705c1e8) in purescript and it heavily uses applicative style to achieve a style of code that is resembling working with spreadsheets.\n",
    "\n",
    "<!-- TEASER_END -->\n",
    "\n",
    "In ipython, we have access to ipywidgets, that can be used to create simple forms."
   ]
  },
  {
   "cell_type": "code",
   "execution_count": 12,
   "metadata": {},
   "outputs": [
    {
     "data": {
      "application/vnd.jupyter.widget-view+json": {
       "model_id": "c772c4398f5446f2b0b48eae71a1eeab"
      }
     },
     "metadata": {},
     "output_type": "display_data"
    },
    {
     "data": {
      "application/vnd.jupyter.widget-view+json": {
       "model_id": "6c512d8bcb4c495887ed83c25bb7bf90"
      }
     },
     "metadata": {},
     "output_type": "display_data"
    }
   ],
   "source": [
    "from ipywidgets import *\n",
    "from IPython.display import display\n",
    "slider = IntSlider()\n",
    "label = Label(\"0\")\n",
    "display(slider)\n",
    "display(label)"
   ]
  },
  {
   "cell_type": "markdown",
   "metadata": {},
   "source": [
    " Then we can listen on changes and set values of these forms-objects."
   ]
  },
  {
   "cell_type": "code",
   "execution_count": 2,
   "metadata": {
    "collapsed": true
   },
   "outputs": [],
   "source": [
    "def updateLabel(value):\n",
    "    label.value = str(100 * slider.value)\n",
    "            \n",
    "slider.observe(updateLabel)"
   ]
  },
  {
   "cell_type": "markdown",
   "metadata": {},
   "source": [
    "Now, lets we want to have two sliders and display the sum."
   ]
  },
  {
   "cell_type": "code",
   "execution_count": 13,
   "metadata": {},
   "outputs": [
    {
     "data": {
      "application/vnd.jupyter.widget-view+json": {
       "model_id": "2e3158be6f2f41d68ee30c5164d293d8"
      }
     },
     "metadata": {},
     "output_type": "display_data"
    },
    {
     "data": {
      "application/vnd.jupyter.widget-view+json": {
       "model_id": "aeb98557ab404309a70812cb90e1bdc4"
      }
     },
     "metadata": {},
     "output_type": "display_data"
    },
    {
     "data": {
      "application/vnd.jupyter.widget-view+json": {
       "model_id": "0c883e3d7a094975a948a810c2ca770b"
      }
     },
     "metadata": {},
     "output_type": "display_data"
    }
   ],
   "source": [
    "from ipywidgets import *\n",
    "from IPython.display import display\n",
    "sliderA = IntSlider()\n",
    "sliderB = IntSlider()\n",
    "labelSum = Label(\"0\")\n",
    "display(sliderA)\n",
    "display(sliderB)\n",
    "display(labelSum)\n",
    "\n",
    "def updateSum(value):\n",
    "    labelSum.value = str(sliderA.value + sliderB.value)\n",
    "    \n",
    "sliderA.observe(updateSum)\n",
    "sliderB.observe(updateSum)"
   ]
  },
  {
   "cell_type": "markdown",
   "metadata": {},
   "source": [
    "I dislike two things about this:\n",
    "* the objects are hardcoded in the update function\n",
    "* I need to wire the observables by hand\n",
    "\n",
    "You could solve this in many diferent ways, but one that I would preffer looks like this:\n",
    "\n",
    "```\n",
    "@lift\n",
    "def sum(a,b):\n",
    "  return str(a + b)\n",
    "  \n",
    "labelSum.subscribesTo(sum(sliderA,sliderB))\n",
    "```\n",
    "\n",
    "First, lets bring back the Applicative class and the accompanying machinery, we will need \n",
    "* curry\n",
    "* apply\n",
    "* lift\n",
    "\n"
   ]
  },
  {
   "cell_type": "code",
   "execution_count": 4,
   "metadata": {
    "collapsed": true
   },
   "outputs": [],
   "source": [
    "from functools import partial\n",
    "\n",
    "def curry(n, fn):\n",
    "    if n == 1:\n",
    "        return fn\n",
    "    if n == 2:\n",
    "        return lambda x:partial(fn,x)\n",
    "    else:\n",
    "        return lambda x:curry(n-1,partial(fn,x))\n",
    "\n",
    "class Applicative:\n",
    "    def pure(self, val):\n",
    "        raise NotImplementedError();\n",
    "    \n",
    "    def apply(self, fn, val):\n",
    "        raise NotImplementedError();\n",
    "        \n",
    "    def lift(self, fn):\n",
    "        def lifted(arg0, *args):\n",
    "            result = self.apply(self.pure(curry(len(args)+1, fn)),arg0)\n",
    "            for a in args:\n",
    "                result = self.apply(result, a)\n",
    "            return result\n",
    "        return lifted"
   ]
  },
  {
   "cell_type": "markdown",
   "metadata": {},
   "source": [
    "Now I will create a simple applicative, reactive object, that  I would call Propagated."
   ]
  },
  {
   "cell_type": "code",
   "execution_count": 5,
   "metadata": {
    "collapsed": true
   },
   "outputs": [],
   "source": [
    "class Propagated:\n",
    "    def __init__(self, last):\n",
    "        self.last = last\n",
    "        self.subscriptions = []\n",
    "        \n",
    "    def getValue(self):\n",
    "        return self.last\n",
    "    \n",
    "    def subscribesTo(self, cb):\n",
    "        self.subscriptions +=[cb]\n",
    "    \n",
    "    def observe(self, prop):\n",
    "        prop.subscribesTo(lambda x: self.setValue(x))\n",
    "    \n",
    "    def setValue(self, value):\n",
    "        self.last = value\n",
    "        for cb in self.subscriptions:\n",
    "            cb(value)"
   ]
  },
  {
   "cell_type": "markdown",
   "metadata": {},
   "source": [
    "Now I can create the Applicative instance."
   ]
  },
  {
   "cell_type": "code",
   "execution_count": 6,
   "metadata": {
    "collapsed": true
   },
   "outputs": [],
   "source": [
    "class ApplyPropagated(Applicative):\n",
    "    def pure(self, val):\n",
    "        return Propagated(val)\n",
    "\n",
    "    def apply(self, fn, val):\n",
    "        result = Propagated(fn.getValue()(val.getValue()))\n",
    "        fn.subscribesTo(lambda f: result.setValue(f(val.getValue())))\n",
    "        val.subscribesTo(lambda v: result.setValue(fn.getValue()(v)))\n",
    "        return result\n",
    "    \n",
    "applyPropagated = ApplyPropagated()"
   ]
  },
  {
   "cell_type": "markdown",
   "metadata": {},
   "source": [
    "Now I create two wrappers for converting the ipywidgets to faucets and sinks."
   ]
  },
  {
   "cell_type": "code",
   "execution_count": 7,
   "metadata": {
    "collapsed": true,
    "outputExpanded": false
   },
   "outputs": [],
   "source": [
    "def propagatedWidgetFaucet(widget):\n",
    "    display(widget)\n",
    "    propagated = Propagated(widget.value)\n",
    "    def update(x):\n",
    "        if x['name'] == 'value':\n",
    "            propagated.setValue(x['new'])\n",
    "    widget.observe(update)\n",
    "    return propagated\n",
    "\n",
    "def propagatedWidgetSink(widget):\n",
    "    display(widget)\n",
    "    p = Propagated(widget.value)\n",
    "    def setVal(value):\n",
    "        widget.value = value        \n",
    "    p.subscribesTo(setVal)\n",
    "    return p;"
   ]
  },
  {
   "cell_type": "markdown",
   "metadata": {},
   "source": [
    "And with these, we can easily define the data-flow of our form.\n",
    "* A and B are the inputs\n",
    "* `sump` is just a normal function, that does what we need\n",
    "* SUM is the output"
   ]
  },
  {
   "cell_type": "code",
   "execution_count": 14,
   "metadata": {},
   "outputs": [
    {
     "data": {
      "application/vnd.jupyter.widget-view+json": {
       "model_id": "7705f0f0dfe24bd9a7530f28d0378ab3"
      }
     },
     "metadata": {},
     "output_type": "display_data"
    },
    {
     "data": {
      "application/vnd.jupyter.widget-view+json": {
       "model_id": "2f7b4fc738fc437f9391b36f0e35cf63"
      }
     },
     "metadata": {},
     "output_type": "display_data"
    },
    {
     "data": {
      "application/vnd.jupyter.widget-view+json": {
       "model_id": "1021e85917994526be792a437040083c"
      }
     },
     "metadata": {},
     "output_type": "display_data"
    }
   ],
   "source": [
    "A = propagatedWidgetFaucet(IntSlider())\n",
    "B = propagatedWidgetFaucet(IntSlider())\n",
    "SUM = propagatedWidgetSink(Label(\"0\"))\n",
    "\n",
    "@applyPropagated.lift\n",
    "def sump(*a):\n",
    "    return str(sum(a))\n",
    "\n",
    "SUM.observe(sump(A, B))"
   ]
  },
  {
   "cell_type": "markdown",
   "metadata": {},
   "source": [
    "What if we want to add another slider, with one more veriable?\n",
    "That is not a problem. We could even factor out `str` out of our `sump`."
   ]
  },
  {
   "cell_type": "code",
   "execution_count": 9,
   "metadata": {},
   "outputs": [
    {
     "data": {
      "application/vnd.jupyter.widget-view+json": {
       "model_id": "1b682292c5814951a0fdcdd0b032d105"
      }
     },
     "metadata": {},
     "output_type": "display_data"
    },
    {
     "data": {
      "application/vnd.jupyter.widget-view+json": {
       "model_id": "8e462b4de73b415db65d4d5f876ee0b9"
      }
     },
     "metadata": {},
     "output_type": "display_data"
    },
    {
     "data": {
      "application/vnd.jupyter.widget-view+json": {
       "model_id": "d13a3f1f7b154c1fa3df742c4707be0b"
      }
     },
     "metadata": {},
     "output_type": "display_data"
    },
    {
     "data": {
      "application/vnd.jupyter.widget-view+json": {
       "model_id": "9130c25210a14674b31c8725eb9bcff5"
      }
     },
     "metadata": {},
     "output_type": "display_data"
    }
   ],
   "source": [
    "A = propagatedWidgetFaucet(IntSlider())\n",
    "B = propagatedWidgetFaucet(IntSlider())\n",
    "C = propagatedWidgetFaucet(IntSlider())\n",
    "SUM = propagatedWidgetSink(Label(\"0\"))\n",
    "\n",
    "@applyPropagated.lift\n",
    "def strp(a):\n",
    "    return str(a)\n",
    "\n",
    "@applyPropagated.lift\n",
    "def sump(*a):\n",
    "    return sum(a)\n",
    "\n",
    "\n",
    "SUM.observe(strp(sump(A, B, C)))"
   ]
  },
  {
   "cell_type": "markdown",
   "metadata": {},
   "source": [
    "If we want to process the values differently, we just have to:\n",
    "* create a new WidgetSink\n",
    "* create a different function to process the values\n",
    "* combine it with any previously defined functions:"
   ]
  },
  {
   "cell_type": "code",
   "execution_count": 10,
   "metadata": {},
   "outputs": [
    {
     "data": {
      "application/vnd.jupyter.widget-view+json": {
       "model_id": "a1dbac08557f4c78a831e2c262fe51a9"
      }
     },
     "metadata": {},
     "output_type": "display_data"
    }
   ],
   "source": [
    "AVG = propagatedWidgetSink(Label(\"0\"))\n",
    "@applyPropagated.lift\n",
    "def awgp(*a):\n",
    "    return sum(a)/len(a)\n",
    "AVG.observe(strp(awgp(A, B, C)))"
   ]
  },
  {
   "cell_type": "markdown",
   "metadata": {},
   "source": [
    "And this, in my mind showcases the elegance of applicatives. \n",
    "* We have object that has fairly complex api, i.e. our `Propagated`.\n",
    "* Conceptually, we know that the object just wraps some value.\n",
    "\n",
    "Because we have implemented applicative, if user of our Propagated wants to combine these values\n",
    "* they just create a function that know how to combine the *values* and nothing about how they are *encapsulated*\n",
    "* then they lift the function and use it on wrapped values :-)"
   ]
  }
 ],
 "metadata": {
  "kernelspec": {
   "display_name": "Python 3",
   "language": "python",
   "name": "python3"
  },
  "language_info": {
   "codemirror_mode": {
    "name": "ipython",
    "version": 3
   },
   "file_extension": ".py",
   "mimetype": "text/x-python",
   "name": "python",
   "nbconvert_exporter": "python",
   "pygments_lexer": "ipython3",
   "version": "3.5.1"
  },
  "nikola": {
   "category": "",
   "date": "2017-06-11 19:22:05 UTC+02:00",
   "description": "",
   "link": "",
   "slug": "applicative-pattern-for-reactive-programming",
   "tags": "",
   "title": "Applicative pattern for reactive programming",
   "type": "text"
  }
 },
 "nbformat": 4,
 "nbformat_minor": 2
}
