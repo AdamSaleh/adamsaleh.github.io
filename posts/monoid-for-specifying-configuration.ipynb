{
 "cells": [
  {
   "cell_type": "markdown",
   "metadata": {},
   "source": [
    "# Monoid to make a configuration dsl\n",
    "\n",
    "\n",
    "If you have read [Gabriels presentation](https://github.com/Gabriel439/slides/blob/master/lambdaconf/category/category.md#new-monoid-transaction), you might think, that I would be trying to create monoid for combining event streams. Unfortunately, I don't think I am hard-core enough to do that in Python.\n",
    "\n",
    "On the other hand, writing a tiny config library sounds like a bit of harmless fun.\n",
    " <!-- TEASER_END -->\n",
    "So, we will need the mappend function again."
   ]
  },
  {
   "cell_type": "code",
   "execution_count": 1,
   "metadata": {
    "collapsed": true
   },
   "outputs": [],
   "source": [
    "from functools import singledispatch\n",
    "\n",
    "@singledispatch\n",
    "def mappend(a, b):\n",
    "    raise Error(\"Not implemented for\" + a)"
   ]
  },
  {
   "cell_type": "markdown",
   "metadata": {},
   "source": [
    "This lets us define mconcat."
   ]
  },
  {
   "cell_type": "code",
   "execution_count": 2,
   "metadata": {
    "collapsed": true
   },
   "outputs": [],
   "source": [
    "def mconcat(l):\n",
    "    acc = l[0]\n",
    "    for x in l[1:]:\n",
    "        acc = mappend(acc,x)\n",
    "    return acc"
   ]
  },
  {
   "cell_type": "markdown",
   "metadata": {},
   "source": [
    "For the configuration, we would need:\n",
    "* lists\n",
    "* dictionaries\n",
    "* functions to process things"
   ]
  },
  {
   "cell_type": "code",
   "execution_count": 3,
   "metadata": {
    "collapsed": true
   },
   "outputs": [],
   "source": [
    "@mappend.register(list)\n",
    "def _(a,b):\n",
    "    return a + b\n",
    "\n",
    "@mappend.register(dict)\n",
    "def _(a,b):\n",
    "    return {**a, **b}\n",
    "\n",
    "@mappend.register(mconcat.__class__)\n",
    "def _(a,b):\n",
    "    def result(*x):\n",
    "        a_r= a(*x)\n",
    "        b_r=b(*x)\n",
    "        return mappend(a_r,b_r)\n",
    "    return result"
   ]
  },
  {
   "cell_type": "markdown",
   "metadata": {
    "outputExpanded": false
   },
   "source": [
    "Now we could create a generic function, i.e. askFor:"
   ]
  },
  {
   "cell_type": "code",
   "execution_count": 4,
   "metadata": {
    "collapsed": true,
    "outputExpanded": false
   },
   "outputs": [],
   "source": [
    "def askFor(name):\n",
    "    def getAnswer():\n",
    "        answer = input(name)\n",
    "        return {name: answer}\n",
    "    return getAnswer"
   ]
  },
  {
   "cell_type": "code",
   "execution_count": 5,
   "metadata": {
    "collapsed": true,
    "outputExpanded": false
   },
   "outputs": [],
   "source": [
    "askAll = mconcat([\n",
    "        askFor('name'),\n",
    "        askFor('age'),\n",
    "        askFor('email')\n",
    "    ])"
   ]
  },
  {
   "cell_type": "code",
   "execution_count": 6,
   "metadata": {
    "outputExpanded": false
   },
   "outputs": [
    {
     "name": "stdout",
     "output_type": "stream",
     "text": [
      "namea\n",
      "agea\n",
      "emaila\n"
     ]
    },
    {
     "data": {
      "text/plain": [
       "{'age': 'a', 'email': 'a', 'name': 'a'}"
      ]
     },
     "execution_count": 6,
     "metadata": {},
     "output_type": "execute_result"
    }
   ],
   "source": [
    "askAll()"
   ]
  },
  {
   "cell_type": "markdown",
   "metadata": {
    "outputExpanded": false
   },
   "source": [
    "What we could do now, instead of asking for input manually, we could pass in a config string and parse it. I will first create the config string, with a simple structure \"key:value\" on each line."
   ]
  },
  {
   "cell_type": "code",
   "execution_count": 7,
   "metadata": {
    "collapsed": true,
    "outputExpanded": false
   },
   "outputs": [],
   "source": [
    "config = \"\"\"\n",
    "name:eve\n",
    "age:16\n",
    "dance:swing\n",
    "\"\"\""
   ]
  },
  {
   "cell_type": "markdown",
   "metadata": {},
   "source": [
    "Now I can create a simple parsing function, where I can input the key, and it will return the value.\n",
    "Actually, it will return a parser that takes the string produces a dictionary with single KV pair, but thats almost the same, just more composable :)\n",
    "\n",
    "And for now, if it doesn't find the key, it produces empty dictionary."
   ]
  },
  {
   "cell_type": "code",
   "execution_count": 8,
   "metadata": {
    "collapsed": true
   },
   "outputs": [],
   "source": [
    "import re\n",
    "\n",
    "def parseFor(name):\n",
    "    def getAnswer(config):\n",
    "        m = re.search('(?<='+name+').*', config)\n",
    "        if m == None:\n",
    "            return {}\n",
    "        else: \n",
    "            return {name: m.group(0)}\n",
    "    return getAnswer"
   ]
  },
  {
   "cell_type": "code",
   "execution_count": 9,
   "metadata": {
    "outputExpanded": false
   },
   "outputs": [
    {
     "data": {
      "text/plain": [
       "{'age': ':16', 'name': ':eve'}"
      ]
     },
     "execution_count": 9,
     "metadata": {},
     "output_type": "execute_result"
    }
   ],
   "source": [
    "parseAll = mconcat([\n",
    "        parseFor('name'),\n",
    "        parseFor('age'),\n",
    "        parseFor('email')\n",
    "    ])\n",
    "\n",
    "parseAll(config)"
   ]
  },
  {
   "cell_type": "markdown",
   "metadata": {
    "outputExpanded": false
   },
   "source": [
    "And because in our parsing functions we get the whole config, we could parse different things as well. For example we could get names of all of the keys."
   ]
  },
  {
   "cell_type": "code",
   "execution_count": 10,
   "metadata": {
    "collapsed": true,
    "outputExpanded": false
   },
   "outputs": [],
   "source": [
    "def getKeys(config):\n",
    "    return {\"keys\": [x.strip() for x in re.split(\":.*\\n\",config) if x.strip()!= \"\"]}"
   ]
  },
  {
   "cell_type": "code",
   "execution_count": 11,
   "metadata": {
    "outputExpanded": false
   },
   "outputs": [
    {
     "data": {
      "text/plain": [
       "{'keys': ['name', 'age', 'dance'], 'name': ':eve'}"
      ]
     },
     "execution_count": 11,
     "metadata": {},
     "output_type": "execute_result"
    }
   ],
   "source": [
    "parseAll = mconcat([parseFor('name'),getKeys])\n",
    "\n",
    "parseAll(config)"
   ]
  },
  {
   "cell_type": "markdown",
   "metadata": {},
   "source": [
    "## Better config object?\n",
    "\n",
    "Another observation we can make, is that we can create an alternative interpretation of dicitonary mappend, where don't just over-write the latter, but we assume that values of the dictionary are monoids themselves. This means we can mappend them again :-)"
   ]
  },
  {
   "cell_type": "code",
   "execution_count": 12,
   "metadata": {
    "collapsed": true
   },
   "outputs": [],
   "source": [
    "@mappend.register(dict)\n",
    "def _(a,b):\n",
    "    return {**a, **b,**{k:mappend(a[k],b[k]) for k in a if k in b}}\n",
    "    "
   ]
  },
  {
   "cell_type": "markdown",
   "metadata": {},
   "source": [
    "We could then have additional alternative implementation for our function mappend.\n",
    "Our new mappend would return the result of the first function, that doesn't return `none`."
   ]
  },
  {
   "cell_type": "code",
   "execution_count": 13,
   "metadata": {
    "collapsed": true
   },
   "outputs": [],
   "source": [
    "@mappend.register(mconcat.__class__)\n",
    "def _(a,b):\n",
    "  def result(*x):\n",
    "    a_r= a(*x)\n",
    "    if a_r!=None:\n",
    "        return a_r;\n",
    "    b_r=b(*x)\n",
    "    return b_r\n",
    "  return result"
   ]
  },
  {
   "cell_type": "markdown",
   "metadata": {},
   "source": [
    "This way we can flip the building blocks for our little dsl."
   ]
  },
  {
   "cell_type": "code",
   "execution_count": 14,
   "metadata": {
    "collapsed": true
   },
   "outputs": [],
   "source": [
    "def askFor(name):\n",
    "    def getAnswer(config):\n",
    "        answer = input(name)\n",
    "        return answer\n",
    "    return {name: getAnswer}\n",
    "\n",
    "def parseFor(name):\n",
    "    def getAnswer(config):\n",
    "        m = re.search('(?<='+name+').*', config)\n",
    "        if m == None:\n",
    "            return None \n",
    "        return m.group(0)\n",
    "    return {name: getAnswer}\n",
    "\n"
   ]
  },
  {
   "cell_type": "markdown",
   "metadata": {},
   "source": [
    "We could create one more "
   ]
  },
  {
   "cell_type": "code",
   "execution_count": 15,
   "metadata": {},
   "outputs": [
    {
     "data": {
      "text/plain": [
       "{'age': <function __main__._.<locals>.result>,\n",
       " 'email': <function __main__._.<locals>.result>,\n",
       " 'name': <function __main__._.<locals>.result>}"
      ]
     },
     "execution_count": 15,
     "metadata": {},
     "output_type": "execute_result"
    }
   ],
   "source": [
    "parseAll = mconcat([\n",
    "        parseFor('name'),\n",
    "        askFor('name'),\n",
    "        parseFor('age'),\n",
    "        askFor('age'),\n",
    "        parseFor('email'),\n",
    "        askFor('email')\n",
    "    ])\n",
    "\n",
    "parseAll"
   ]
  },
  {
   "cell_type": "markdown",
   "metadata": {},
   "source": [
    "The drawback is, that now we have dictionary of functions, where previously we had just a singe funciton that got us our config. We an still implement that:"
   ]
  },
  {
   "cell_type": "code",
   "execution_count": 16,
   "metadata": {
    "collapsed": true
   },
   "outputs": [],
   "source": [
    "def getConfig(parser, config):\n",
    "    return {k:parser[k](config) for k in parser}"
   ]
  },
  {
   "cell_type": "markdown",
   "metadata": {},
   "source": [
    "Way we implemented this (dictionary keys get mappended and the first return from a funcion wins) we should only be prompted for the email, and rest of this should be parsed from config."
   ]
  },
  {
   "cell_type": "code",
   "execution_count": 18,
   "metadata": {
    "scrolled": true
   },
   "outputs": [
    {
     "name": "stdout",
     "output_type": "stream",
     "text": [
      "emaila\n"
     ]
    },
    {
     "data": {
      "text/plain": [
       "{'age': ':16', 'email': 'a', 'name': ':eve'}"
      ]
     },
     "execution_count": 18,
     "metadata": {},
     "output_type": "execute_result"
    }
   ],
   "source": [
    "getConfig(parseAll,config)"
   ]
  },
  {
   "cell_type": "code",
   "execution_count": 19,
   "metadata": {},
   "outputs": [
    {
     "name": "stdout",
     "output_type": "stream",
     "text": [
      "emaila\n"
     ]
    },
    {
     "data": {
      "text/plain": [
       "{'age': ':16', 'email': 'a', 'name': ':eve'}"
      ]
     },
     "execution_count": 19,
     "metadata": {},
     "output_type": "execute_result"
    }
   ],
   "source": [
    "parseAll2 = mconcat([\n",
    "        mappend(parseFor,askFor)('name'),\n",
    "        parseFor('age'),\n",
    "        askFor('age'),\n",
    "        parseFor('email'),\n",
    "        askFor('email')\n",
    "    ])\n",
    "\n",
    "getConfig(parseAll2,config)"
   ]
  },
  {
   "cell_type": "markdown",
   "metadata": {},
   "source": [
    "And now I have a litle dsl where:\n",
    "* the building blocks are nice, and I can just `mconcat` them together\n",
    "* if I want to add new building block, it just needs to\n",
    "  * accept the config-string\n",
    "  * return a KV dict\n",
    "  \n",
    " On the other hand, it has no error handling, it is kind-of inefficient, and in practce would be just a useless toy. But there ae more powerful abstractions that would help us with this. Next time, functors?"
   ]
  }
 ],
 "metadata": {
  "kernelspec": {
   "display_name": "Python 3",
   "language": "python",
   "name": "python3"
  },
  "language_info": {
   "codemirror_mode": {
    "name": "ipython",
    "version": 3
   },
   "file_extension": ".py",
   "mimetype": "text/x-python",
   "name": "python",
   "nbconvert_exporter": "python",
   "pygments_lexer": "ipython3",
   "version": "3.5.1"
  },
  "nikola": {
   "category": "",
   "date": "2017-05-21 20:55:30 UTC+02:00",
   "description": "",
   "link": "",
   "slug": "monoid-for-specifying-configuration",
   "tags": "algebraic-patterns",
   "title": "Monoid for specifying configuration",
   "type": "text"
  }
 },
 "nbformat": 4,
 "nbformat_minor": 2
}
