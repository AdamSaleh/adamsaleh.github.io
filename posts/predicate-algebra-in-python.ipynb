{
 "cells": [
  {
   "cell_type": "markdown",
   "metadata": {},
   "source": [
    "Write your post here."
   ]
  },
  {
   "cell_type": "code",
   "execution_count": 6,
   "metadata": {},
   "outputs": [],
   "source": [
    "class Predicate:\n",
    "    def __init__(self, function):\n",
    "        self.fn=function\n",
    "    \n",
    "    def __call__(self, what):\n",
    "        return self.fn(what)\n",
    "    \n",
    "    def __and__(self, other):\n",
    "        def predicate_and(what):\n",
    "            return self(what) and other(what)\n",
    "        \n",
    "        return Predicate(predicate_and)\n",
    "    \n",
    "    def __and__(self, other):\n",
    "        def predicate_or(what):\n",
    "            return self(what) or other(what)\n",
    "        \n",
    "        return Predicate(predicate_or)\n",
    "    \n",
    "    def __not__(self):\n",
    "        def predicate_not(what):\n",
    "            return not self(what)\n",
    "        \n",
    "        return Predicate(predicate_not)\n",
    "    "
   ]
  },
  {
   "cell_type": "code",
   "execution_count": 7,
   "metadata": {},
   "outputs": [],
   "source": [
    "def containing(what):\n",
    "    def pred(where):\n",
    "        return what in where\n",
    "    return Predicate(pred)"
   ]
  },
  {
   "cell_type": "code",
   "execution_count": 9,
   "metadata": {},
   "outputs": [
    {
     "data": {
      "text/plain": [
       "False"
      ]
     },
     "execution_count": 9,
     "metadata": {},
     "output_type": "execute_result"
    }
   ],
   "source": [
    "\n",
    "containing(\"Hello\") and (not containing(\"world\"))"
   ]
  }
 ],
 "metadata": {
  "kernelspec": {
   "display_name": "Python 3",
   "language": "python",
   "name": "python3"
  },
  "language_info": {
   "codemirror_mode": {
    "name": "ipython",
    "version": 3
   },
   "file_extension": ".py",
   "mimetype": "text/x-python",
   "name": "python",
   "nbconvert_exporter": "python",
   "pygments_lexer": "ipython3",
   "version": "3.5.1"
  },
  "nikola": {
   "category": "",
   "date": "2018-01-26 16:51:46 UTC+01:00",
   "description": "",
   "link": "",
   "slug": "predicate-algebra-in-python",
   "tags": "draft",
   "title": "Predicate Algebra in Python",
   "type": "text"
  }
 },
 "nbformat": 4,
 "nbformat_minor": 2
}
