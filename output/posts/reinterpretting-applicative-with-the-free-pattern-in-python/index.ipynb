{
 "cells": [
  {
   "cell_type": "markdown",
   "metadata": {},
   "source": [
    "Write your post here."
   ]
  }
 ],
 "metadata": {
  "kernelspec": {
   "display_name": "Python 3",
   "env": {},
   "language": "python",
   "name": "python3"
  },
  "nikola": {
   "category": "",
   "date": "2017-05-11 17:29:24 UTC+02:00",
   "description": "",
   "link": "",
   "slug": "reinterpretting-applicative-with-the-free-pattern-in-python",
   "tags": "draft",
   "title": "Reinterpretting applicative with the free pattern in Python",
   "type": "text"
  }
 },
 "nbformat": 4,
 "nbformat_minor": 2
}
